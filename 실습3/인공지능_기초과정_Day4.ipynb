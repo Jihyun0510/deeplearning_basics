{
  "nbformat": 4,
  "nbformat_minor": 0,
  "metadata": {
    "colab": {
      "name": "인공지능 기초과정 Day4.ipynb",
      "provenance": [],
      "authorship_tag": "ABX9TyPTW/I0k5sqYpHlurFqPWGN",
      "include_colab_link": true
    },
    "kernelspec": {
      "name": "python3",
      "display_name": "Python 3"
    },
    "language_info": {
      "name": "python"
    },
    "accelerator": "GPU",
    "widgets": {
      "application/vnd.jupyter.widget-state+json": {
        "6614638d42f142c8ba0781ffcda10e5e": {
          "model_module": "@jupyter-widgets/controls",
          "model_name": "HBoxModel",
          "model_module_version": "1.5.0",
          "state": {
            "_view_name": "HBoxView",
            "_dom_classes": [],
            "_model_name": "HBoxModel",
            "_view_module": "@jupyter-widgets/controls",
            "_model_module_version": "1.5.0",
            "_view_count": null,
            "_view_module_version": "1.5.0",
            "box_style": "",
            "layout": "IPY_MODEL_78710c9030ae4f41959e7b13574879e4",
            "_model_module": "@jupyter-widgets/controls",
            "children": [
              "IPY_MODEL_b2fd88d2cb6b46ce8dc72170c74f10a3",
              "IPY_MODEL_66f62e05adb84197979bb5162a1260b7",
              "IPY_MODEL_c95cb3d98e8546d8b1a318e93a3aeed7"
            ]
          }
        },
        "78710c9030ae4f41959e7b13574879e4": {
          "model_module": "@jupyter-widgets/base",
          "model_name": "LayoutModel",
          "model_module_version": "1.2.0",
          "state": {
            "_view_name": "LayoutView",
            "grid_template_rows": null,
            "right": null,
            "justify_content": null,
            "_view_module": "@jupyter-widgets/base",
            "overflow": null,
            "_model_module_version": "1.2.0",
            "_view_count": null,
            "flex_flow": null,
            "width": null,
            "min_width": null,
            "border": null,
            "align_items": null,
            "bottom": null,
            "_model_module": "@jupyter-widgets/base",
            "top": null,
            "grid_column": null,
            "overflow_y": null,
            "overflow_x": null,
            "grid_auto_flow": null,
            "grid_area": null,
            "grid_template_columns": null,
            "flex": null,
            "_model_name": "LayoutModel",
            "justify_items": null,
            "grid_row": null,
            "max_height": null,
            "align_content": null,
            "visibility": null,
            "align_self": null,
            "height": null,
            "min_height": null,
            "padding": null,
            "grid_auto_rows": null,
            "grid_gap": null,
            "max_width": null,
            "order": null,
            "_view_module_version": "1.2.0",
            "grid_template_areas": null,
            "object_position": null,
            "object_fit": null,
            "grid_auto_columns": null,
            "margin": null,
            "display": null,
            "left": null
          }
        },
        "b2fd88d2cb6b46ce8dc72170c74f10a3": {
          "model_module": "@jupyter-widgets/controls",
          "model_name": "HTMLModel",
          "model_module_version": "1.5.0",
          "state": {
            "_view_name": "HTMLView",
            "style": "IPY_MODEL_d3bf54b2610546cd9bd31ade7bad0b36",
            "_dom_classes": [],
            "description": "",
            "_model_name": "HTMLModel",
            "placeholder": "​",
            "_view_module": "@jupyter-widgets/controls",
            "_model_module_version": "1.5.0",
            "value": "",
            "_view_count": null,
            "_view_module_version": "1.5.0",
            "description_tooltip": null,
            "_model_module": "@jupyter-widgets/controls",
            "layout": "IPY_MODEL_cd88faee28c44072b7134ed50a46dd97"
          }
        },
        "66f62e05adb84197979bb5162a1260b7": {
          "model_module": "@jupyter-widgets/controls",
          "model_name": "FloatProgressModel",
          "model_module_version": "1.5.0",
          "state": {
            "_view_name": "ProgressView",
            "style": "IPY_MODEL_f4e7dcbac5974ceeb396df85a4865218",
            "_dom_classes": [],
            "description": "",
            "_model_name": "FloatProgressModel",
            "bar_style": "success",
            "max": 9912422,
            "_view_module": "@jupyter-widgets/controls",
            "_model_module_version": "1.5.0",
            "value": 9912422,
            "_view_count": null,
            "_view_module_version": "1.5.0",
            "orientation": "horizontal",
            "min": 0,
            "description_tooltip": null,
            "_model_module": "@jupyter-widgets/controls",
            "layout": "IPY_MODEL_4234a6e7155647ecba4d10c6826ed636"
          }
        },
        "c95cb3d98e8546d8b1a318e93a3aeed7": {
          "model_module": "@jupyter-widgets/controls",
          "model_name": "HTMLModel",
          "model_module_version": "1.5.0",
          "state": {
            "_view_name": "HTMLView",
            "style": "IPY_MODEL_4efad4dd9b7d4cebb6383677f9b381ca",
            "_dom_classes": [],
            "description": "",
            "_model_name": "HTMLModel",
            "placeholder": "​",
            "_view_module": "@jupyter-widgets/controls",
            "_model_module_version": "1.5.0",
            "value": " 9913344/? [00:00&lt;00:00, 26379591.07it/s]",
            "_view_count": null,
            "_view_module_version": "1.5.0",
            "description_tooltip": null,
            "_model_module": "@jupyter-widgets/controls",
            "layout": "IPY_MODEL_f1cd761f197d49cfaea19e3ee0687667"
          }
        },
        "d3bf54b2610546cd9bd31ade7bad0b36": {
          "model_module": "@jupyter-widgets/controls",
          "model_name": "DescriptionStyleModel",
          "model_module_version": "1.5.0",
          "state": {
            "_view_name": "StyleView",
            "_model_name": "DescriptionStyleModel",
            "description_width": "",
            "_view_module": "@jupyter-widgets/base",
            "_model_module_version": "1.5.0",
            "_view_count": null,
            "_view_module_version": "1.2.0",
            "_model_module": "@jupyter-widgets/controls"
          }
        },
        "cd88faee28c44072b7134ed50a46dd97": {
          "model_module": "@jupyter-widgets/base",
          "model_name": "LayoutModel",
          "model_module_version": "1.2.0",
          "state": {
            "_view_name": "LayoutView",
            "grid_template_rows": null,
            "right": null,
            "justify_content": null,
            "_view_module": "@jupyter-widgets/base",
            "overflow": null,
            "_model_module_version": "1.2.0",
            "_view_count": null,
            "flex_flow": null,
            "width": null,
            "min_width": null,
            "border": null,
            "align_items": null,
            "bottom": null,
            "_model_module": "@jupyter-widgets/base",
            "top": null,
            "grid_column": null,
            "overflow_y": null,
            "overflow_x": null,
            "grid_auto_flow": null,
            "grid_area": null,
            "grid_template_columns": null,
            "flex": null,
            "_model_name": "LayoutModel",
            "justify_items": null,
            "grid_row": null,
            "max_height": null,
            "align_content": null,
            "visibility": null,
            "align_self": null,
            "height": null,
            "min_height": null,
            "padding": null,
            "grid_auto_rows": null,
            "grid_gap": null,
            "max_width": null,
            "order": null,
            "_view_module_version": "1.2.0",
            "grid_template_areas": null,
            "object_position": null,
            "object_fit": null,
            "grid_auto_columns": null,
            "margin": null,
            "display": null,
            "left": null
          }
        },
        "f4e7dcbac5974ceeb396df85a4865218": {
          "model_module": "@jupyter-widgets/controls",
          "model_name": "ProgressStyleModel",
          "model_module_version": "1.5.0",
          "state": {
            "_view_name": "StyleView",
            "_model_name": "ProgressStyleModel",
            "description_width": "",
            "_view_module": "@jupyter-widgets/base",
            "_model_module_version": "1.5.0",
            "_view_count": null,
            "_view_module_version": "1.2.0",
            "bar_color": null,
            "_model_module": "@jupyter-widgets/controls"
          }
        },
        "4234a6e7155647ecba4d10c6826ed636": {
          "model_module": "@jupyter-widgets/base",
          "model_name": "LayoutModel",
          "model_module_version": "1.2.0",
          "state": {
            "_view_name": "LayoutView",
            "grid_template_rows": null,
            "right": null,
            "justify_content": null,
            "_view_module": "@jupyter-widgets/base",
            "overflow": null,
            "_model_module_version": "1.2.0",
            "_view_count": null,
            "flex_flow": null,
            "width": null,
            "min_width": null,
            "border": null,
            "align_items": null,
            "bottom": null,
            "_model_module": "@jupyter-widgets/base",
            "top": null,
            "grid_column": null,
            "overflow_y": null,
            "overflow_x": null,
            "grid_auto_flow": null,
            "grid_area": null,
            "grid_template_columns": null,
            "flex": null,
            "_model_name": "LayoutModel",
            "justify_items": null,
            "grid_row": null,
            "max_height": null,
            "align_content": null,
            "visibility": null,
            "align_self": null,
            "height": null,
            "min_height": null,
            "padding": null,
            "grid_auto_rows": null,
            "grid_gap": null,
            "max_width": null,
            "order": null,
            "_view_module_version": "1.2.0",
            "grid_template_areas": null,
            "object_position": null,
            "object_fit": null,
            "grid_auto_columns": null,
            "margin": null,
            "display": null,
            "left": null
          }
        },
        "4efad4dd9b7d4cebb6383677f9b381ca": {
          "model_module": "@jupyter-widgets/controls",
          "model_name": "DescriptionStyleModel",
          "model_module_version": "1.5.0",
          "state": {
            "_view_name": "StyleView",
            "_model_name": "DescriptionStyleModel",
            "description_width": "",
            "_view_module": "@jupyter-widgets/base",
            "_model_module_version": "1.5.0",
            "_view_count": null,
            "_view_module_version": "1.2.0",
            "_model_module": "@jupyter-widgets/controls"
          }
        },
        "f1cd761f197d49cfaea19e3ee0687667": {
          "model_module": "@jupyter-widgets/base",
          "model_name": "LayoutModel",
          "model_module_version": "1.2.0",
          "state": {
            "_view_name": "LayoutView",
            "grid_template_rows": null,
            "right": null,
            "justify_content": null,
            "_view_module": "@jupyter-widgets/base",
            "overflow": null,
            "_model_module_version": "1.2.0",
            "_view_count": null,
            "flex_flow": null,
            "width": null,
            "min_width": null,
            "border": null,
            "align_items": null,
            "bottom": null,
            "_model_module": "@jupyter-widgets/base",
            "top": null,
            "grid_column": null,
            "overflow_y": null,
            "overflow_x": null,
            "grid_auto_flow": null,
            "grid_area": null,
            "grid_template_columns": null,
            "flex": null,
            "_model_name": "LayoutModel",
            "justify_items": null,
            "grid_row": null,
            "max_height": null,
            "align_content": null,
            "visibility": null,
            "align_self": null,
            "height": null,
            "min_height": null,
            "padding": null,
            "grid_auto_rows": null,
            "grid_gap": null,
            "max_width": null,
            "order": null,
            "_view_module_version": "1.2.0",
            "grid_template_areas": null,
            "object_position": null,
            "object_fit": null,
            "grid_auto_columns": null,
            "margin": null,
            "display": null,
            "left": null
          }
        },
        "358cd5a689b547d6b3edb7f5fc3c47b0": {
          "model_module": "@jupyter-widgets/controls",
          "model_name": "HBoxModel",
          "model_module_version": "1.5.0",
          "state": {
            "_view_name": "HBoxView",
            "_dom_classes": [],
            "_model_name": "HBoxModel",
            "_view_module": "@jupyter-widgets/controls",
            "_model_module_version": "1.5.0",
            "_view_count": null,
            "_view_module_version": "1.5.0",
            "box_style": "",
            "layout": "IPY_MODEL_37e567cc187344f2907521f492c957cf",
            "_model_module": "@jupyter-widgets/controls",
            "children": [
              "IPY_MODEL_3d30e02ca29f4293a7c10d90239882e3",
              "IPY_MODEL_9232e7942ca94738b5245f6b2efa16c8",
              "IPY_MODEL_1399dd3e67b44610a06d7c7cd17ed70d"
            ]
          }
        },
        "37e567cc187344f2907521f492c957cf": {
          "model_module": "@jupyter-widgets/base",
          "model_name": "LayoutModel",
          "model_module_version": "1.2.0",
          "state": {
            "_view_name": "LayoutView",
            "grid_template_rows": null,
            "right": null,
            "justify_content": null,
            "_view_module": "@jupyter-widgets/base",
            "overflow": null,
            "_model_module_version": "1.2.0",
            "_view_count": null,
            "flex_flow": null,
            "width": null,
            "min_width": null,
            "border": null,
            "align_items": null,
            "bottom": null,
            "_model_module": "@jupyter-widgets/base",
            "top": null,
            "grid_column": null,
            "overflow_y": null,
            "overflow_x": null,
            "grid_auto_flow": null,
            "grid_area": null,
            "grid_template_columns": null,
            "flex": null,
            "_model_name": "LayoutModel",
            "justify_items": null,
            "grid_row": null,
            "max_height": null,
            "align_content": null,
            "visibility": null,
            "align_self": null,
            "height": null,
            "min_height": null,
            "padding": null,
            "grid_auto_rows": null,
            "grid_gap": null,
            "max_width": null,
            "order": null,
            "_view_module_version": "1.2.0",
            "grid_template_areas": null,
            "object_position": null,
            "object_fit": null,
            "grid_auto_columns": null,
            "margin": null,
            "display": null,
            "left": null
          }
        },
        "3d30e02ca29f4293a7c10d90239882e3": {
          "model_module": "@jupyter-widgets/controls",
          "model_name": "HTMLModel",
          "model_module_version": "1.5.0",
          "state": {
            "_view_name": "HTMLView",
            "style": "IPY_MODEL_80ff4822fca048a6839b1c6bb2b42f60",
            "_dom_classes": [],
            "description": "",
            "_model_name": "HTMLModel",
            "placeholder": "​",
            "_view_module": "@jupyter-widgets/controls",
            "_model_module_version": "1.5.0",
            "value": "",
            "_view_count": null,
            "_view_module_version": "1.5.0",
            "description_tooltip": null,
            "_model_module": "@jupyter-widgets/controls",
            "layout": "IPY_MODEL_76849031d84846a8b1ffadd49f60626e"
          }
        },
        "9232e7942ca94738b5245f6b2efa16c8": {
          "model_module": "@jupyter-widgets/controls",
          "model_name": "FloatProgressModel",
          "model_module_version": "1.5.0",
          "state": {
            "_view_name": "ProgressView",
            "style": "IPY_MODEL_545977b85fb04437b2a9e58695cd2732",
            "_dom_classes": [],
            "description": "",
            "_model_name": "FloatProgressModel",
            "bar_style": "success",
            "max": 28881,
            "_view_module": "@jupyter-widgets/controls",
            "_model_module_version": "1.5.0",
            "value": 28881,
            "_view_count": null,
            "_view_module_version": "1.5.0",
            "orientation": "horizontal",
            "min": 0,
            "description_tooltip": null,
            "_model_module": "@jupyter-widgets/controls",
            "layout": "IPY_MODEL_d1312cb061684b7594afbda80ebe4064"
          }
        },
        "1399dd3e67b44610a06d7c7cd17ed70d": {
          "model_module": "@jupyter-widgets/controls",
          "model_name": "HTMLModel",
          "model_module_version": "1.5.0",
          "state": {
            "_view_name": "HTMLView",
            "style": "IPY_MODEL_bfe42073688f454386db4ea5df1d74fa",
            "_dom_classes": [],
            "description": "",
            "_model_name": "HTMLModel",
            "placeholder": "​",
            "_view_module": "@jupyter-widgets/controls",
            "_model_module_version": "1.5.0",
            "value": " 29696/? [00:00&lt;00:00, 638705.97it/s]",
            "_view_count": null,
            "_view_module_version": "1.5.0",
            "description_tooltip": null,
            "_model_module": "@jupyter-widgets/controls",
            "layout": "IPY_MODEL_e096c5406a8849dfbf1a8ccf46ec03ea"
          }
        },
        "80ff4822fca048a6839b1c6bb2b42f60": {
          "model_module": "@jupyter-widgets/controls",
          "model_name": "DescriptionStyleModel",
          "model_module_version": "1.5.0",
          "state": {
            "_view_name": "StyleView",
            "_model_name": "DescriptionStyleModel",
            "description_width": "",
            "_view_module": "@jupyter-widgets/base",
            "_model_module_version": "1.5.0",
            "_view_count": null,
            "_view_module_version": "1.2.0",
            "_model_module": "@jupyter-widgets/controls"
          }
        },
        "76849031d84846a8b1ffadd49f60626e": {
          "model_module": "@jupyter-widgets/base",
          "model_name": "LayoutModel",
          "model_module_version": "1.2.0",
          "state": {
            "_view_name": "LayoutView",
            "grid_template_rows": null,
            "right": null,
            "justify_content": null,
            "_view_module": "@jupyter-widgets/base",
            "overflow": null,
            "_model_module_version": "1.2.0",
            "_view_count": null,
            "flex_flow": null,
            "width": null,
            "min_width": null,
            "border": null,
            "align_items": null,
            "bottom": null,
            "_model_module": "@jupyter-widgets/base",
            "top": null,
            "grid_column": null,
            "overflow_y": null,
            "overflow_x": null,
            "grid_auto_flow": null,
            "grid_area": null,
            "grid_template_columns": null,
            "flex": null,
            "_model_name": "LayoutModel",
            "justify_items": null,
            "grid_row": null,
            "max_height": null,
            "align_content": null,
            "visibility": null,
            "align_self": null,
            "height": null,
            "min_height": null,
            "padding": null,
            "grid_auto_rows": null,
            "grid_gap": null,
            "max_width": null,
            "order": null,
            "_view_module_version": "1.2.0",
            "grid_template_areas": null,
            "object_position": null,
            "object_fit": null,
            "grid_auto_columns": null,
            "margin": null,
            "display": null,
            "left": null
          }
        },
        "545977b85fb04437b2a9e58695cd2732": {
          "model_module": "@jupyter-widgets/controls",
          "model_name": "ProgressStyleModel",
          "model_module_version": "1.5.0",
          "state": {
            "_view_name": "StyleView",
            "_model_name": "ProgressStyleModel",
            "description_width": "",
            "_view_module": "@jupyter-widgets/base",
            "_model_module_version": "1.5.0",
            "_view_count": null,
            "_view_module_version": "1.2.0",
            "bar_color": null,
            "_model_module": "@jupyter-widgets/controls"
          }
        },
        "d1312cb061684b7594afbda80ebe4064": {
          "model_module": "@jupyter-widgets/base",
          "model_name": "LayoutModel",
          "model_module_version": "1.2.0",
          "state": {
            "_view_name": "LayoutView",
            "grid_template_rows": null,
            "right": null,
            "justify_content": null,
            "_view_module": "@jupyter-widgets/base",
            "overflow": null,
            "_model_module_version": "1.2.0",
            "_view_count": null,
            "flex_flow": null,
            "width": null,
            "min_width": null,
            "border": null,
            "align_items": null,
            "bottom": null,
            "_model_module": "@jupyter-widgets/base",
            "top": null,
            "grid_column": null,
            "overflow_y": null,
            "overflow_x": null,
            "grid_auto_flow": null,
            "grid_area": null,
            "grid_template_columns": null,
            "flex": null,
            "_model_name": "LayoutModel",
            "justify_items": null,
            "grid_row": null,
            "max_height": null,
            "align_content": null,
            "visibility": null,
            "align_self": null,
            "height": null,
            "min_height": null,
            "padding": null,
            "grid_auto_rows": null,
            "grid_gap": null,
            "max_width": null,
            "order": null,
            "_view_module_version": "1.2.0",
            "grid_template_areas": null,
            "object_position": null,
            "object_fit": null,
            "grid_auto_columns": null,
            "margin": null,
            "display": null,
            "left": null
          }
        },
        "bfe42073688f454386db4ea5df1d74fa": {
          "model_module": "@jupyter-widgets/controls",
          "model_name": "DescriptionStyleModel",
          "model_module_version": "1.5.0",
          "state": {
            "_view_name": "StyleView",
            "_model_name": "DescriptionStyleModel",
            "description_width": "",
            "_view_module": "@jupyter-widgets/base",
            "_model_module_version": "1.5.0",
            "_view_count": null,
            "_view_module_version": "1.2.0",
            "_model_module": "@jupyter-widgets/controls"
          }
        },
        "e096c5406a8849dfbf1a8ccf46ec03ea": {
          "model_module": "@jupyter-widgets/base",
          "model_name": "LayoutModel",
          "model_module_version": "1.2.0",
          "state": {
            "_view_name": "LayoutView",
            "grid_template_rows": null,
            "right": null,
            "justify_content": null,
            "_view_module": "@jupyter-widgets/base",
            "overflow": null,
            "_model_module_version": "1.2.0",
            "_view_count": null,
            "flex_flow": null,
            "width": null,
            "min_width": null,
            "border": null,
            "align_items": null,
            "bottom": null,
            "_model_module": "@jupyter-widgets/base",
            "top": null,
            "grid_column": null,
            "overflow_y": null,
            "overflow_x": null,
            "grid_auto_flow": null,
            "grid_area": null,
            "grid_template_columns": null,
            "flex": null,
            "_model_name": "LayoutModel",
            "justify_items": null,
            "grid_row": null,
            "max_height": null,
            "align_content": null,
            "visibility": null,
            "align_self": null,
            "height": null,
            "min_height": null,
            "padding": null,
            "grid_auto_rows": null,
            "grid_gap": null,
            "max_width": null,
            "order": null,
            "_view_module_version": "1.2.0",
            "grid_template_areas": null,
            "object_position": null,
            "object_fit": null,
            "grid_auto_columns": null,
            "margin": null,
            "display": null,
            "left": null
          }
        },
        "f96974d3d6be4167b040c6bbde3a2af7": {
          "model_module": "@jupyter-widgets/controls",
          "model_name": "HBoxModel",
          "model_module_version": "1.5.0",
          "state": {
            "_view_name": "HBoxView",
            "_dom_classes": [],
            "_model_name": "HBoxModel",
            "_view_module": "@jupyter-widgets/controls",
            "_model_module_version": "1.5.0",
            "_view_count": null,
            "_view_module_version": "1.5.0",
            "box_style": "",
            "layout": "IPY_MODEL_d184c48e96ce4dada694077b2e8545de",
            "_model_module": "@jupyter-widgets/controls",
            "children": [
              "IPY_MODEL_3261938de3ef4ad1962cb62eaf419c0b",
              "IPY_MODEL_a0d4f7ecaff1472387a9f5906d504d9f",
              "IPY_MODEL_438a8f52b5f3423b99d53af2942f81d4"
            ]
          }
        },
        "d184c48e96ce4dada694077b2e8545de": {
          "model_module": "@jupyter-widgets/base",
          "model_name": "LayoutModel",
          "model_module_version": "1.2.0",
          "state": {
            "_view_name": "LayoutView",
            "grid_template_rows": null,
            "right": null,
            "justify_content": null,
            "_view_module": "@jupyter-widgets/base",
            "overflow": null,
            "_model_module_version": "1.2.0",
            "_view_count": null,
            "flex_flow": null,
            "width": null,
            "min_width": null,
            "border": null,
            "align_items": null,
            "bottom": null,
            "_model_module": "@jupyter-widgets/base",
            "top": null,
            "grid_column": null,
            "overflow_y": null,
            "overflow_x": null,
            "grid_auto_flow": null,
            "grid_area": null,
            "grid_template_columns": null,
            "flex": null,
            "_model_name": "LayoutModel",
            "justify_items": null,
            "grid_row": null,
            "max_height": null,
            "align_content": null,
            "visibility": null,
            "align_self": null,
            "height": null,
            "min_height": null,
            "padding": null,
            "grid_auto_rows": null,
            "grid_gap": null,
            "max_width": null,
            "order": null,
            "_view_module_version": "1.2.0",
            "grid_template_areas": null,
            "object_position": null,
            "object_fit": null,
            "grid_auto_columns": null,
            "margin": null,
            "display": null,
            "left": null
          }
        },
        "3261938de3ef4ad1962cb62eaf419c0b": {
          "model_module": "@jupyter-widgets/controls",
          "model_name": "HTMLModel",
          "model_module_version": "1.5.0",
          "state": {
            "_view_name": "HTMLView",
            "style": "IPY_MODEL_aa61c28406454280a9a0d91d69e7cf83",
            "_dom_classes": [],
            "description": "",
            "_model_name": "HTMLModel",
            "placeholder": "​",
            "_view_module": "@jupyter-widgets/controls",
            "_model_module_version": "1.5.0",
            "value": "",
            "_view_count": null,
            "_view_module_version": "1.5.0",
            "description_tooltip": null,
            "_model_module": "@jupyter-widgets/controls",
            "layout": "IPY_MODEL_5a699a4b6bd24c1ea163f96320dacb41"
          }
        },
        "a0d4f7ecaff1472387a9f5906d504d9f": {
          "model_module": "@jupyter-widgets/controls",
          "model_name": "FloatProgressModel",
          "model_module_version": "1.5.0",
          "state": {
            "_view_name": "ProgressView",
            "style": "IPY_MODEL_88c92f4e6ff5439eb49330227c1b6ce0",
            "_dom_classes": [],
            "description": "",
            "_model_name": "FloatProgressModel",
            "bar_style": "success",
            "max": 1648877,
            "_view_module": "@jupyter-widgets/controls",
            "_model_module_version": "1.5.0",
            "value": 1648877,
            "_view_count": null,
            "_view_module_version": "1.5.0",
            "orientation": "horizontal",
            "min": 0,
            "description_tooltip": null,
            "_model_module": "@jupyter-widgets/controls",
            "layout": "IPY_MODEL_ee3db5b06603462e904121738d2d7531"
          }
        },
        "438a8f52b5f3423b99d53af2942f81d4": {
          "model_module": "@jupyter-widgets/controls",
          "model_name": "HTMLModel",
          "model_module_version": "1.5.0",
          "state": {
            "_view_name": "HTMLView",
            "style": "IPY_MODEL_7f82ce5a16614debbf13056824f4c70c",
            "_dom_classes": [],
            "description": "",
            "_model_name": "HTMLModel",
            "placeholder": "​",
            "_view_module": "@jupyter-widgets/controls",
            "_model_module_version": "1.5.0",
            "value": " 1649664/? [00:00&lt;00:00, 16565178.69it/s]",
            "_view_count": null,
            "_view_module_version": "1.5.0",
            "description_tooltip": null,
            "_model_module": "@jupyter-widgets/controls",
            "layout": "IPY_MODEL_de8f71b9064d4e35a62cd8daad92c1d4"
          }
        },
        "aa61c28406454280a9a0d91d69e7cf83": {
          "model_module": "@jupyter-widgets/controls",
          "model_name": "DescriptionStyleModel",
          "model_module_version": "1.5.0",
          "state": {
            "_view_name": "StyleView",
            "_model_name": "DescriptionStyleModel",
            "description_width": "",
            "_view_module": "@jupyter-widgets/base",
            "_model_module_version": "1.5.0",
            "_view_count": null,
            "_view_module_version": "1.2.0",
            "_model_module": "@jupyter-widgets/controls"
          }
        },
        "5a699a4b6bd24c1ea163f96320dacb41": {
          "model_module": "@jupyter-widgets/base",
          "model_name": "LayoutModel",
          "model_module_version": "1.2.0",
          "state": {
            "_view_name": "LayoutView",
            "grid_template_rows": null,
            "right": null,
            "justify_content": null,
            "_view_module": "@jupyter-widgets/base",
            "overflow": null,
            "_model_module_version": "1.2.0",
            "_view_count": null,
            "flex_flow": null,
            "width": null,
            "min_width": null,
            "border": null,
            "align_items": null,
            "bottom": null,
            "_model_module": "@jupyter-widgets/base",
            "top": null,
            "grid_column": null,
            "overflow_y": null,
            "overflow_x": null,
            "grid_auto_flow": null,
            "grid_area": null,
            "grid_template_columns": null,
            "flex": null,
            "_model_name": "LayoutModel",
            "justify_items": null,
            "grid_row": null,
            "max_height": null,
            "align_content": null,
            "visibility": null,
            "align_self": null,
            "height": null,
            "min_height": null,
            "padding": null,
            "grid_auto_rows": null,
            "grid_gap": null,
            "max_width": null,
            "order": null,
            "_view_module_version": "1.2.0",
            "grid_template_areas": null,
            "object_position": null,
            "object_fit": null,
            "grid_auto_columns": null,
            "margin": null,
            "display": null,
            "left": null
          }
        },
        "88c92f4e6ff5439eb49330227c1b6ce0": {
          "model_module": "@jupyter-widgets/controls",
          "model_name": "ProgressStyleModel",
          "model_module_version": "1.5.0",
          "state": {
            "_view_name": "StyleView",
            "_model_name": "ProgressStyleModel",
            "description_width": "",
            "_view_module": "@jupyter-widgets/base",
            "_model_module_version": "1.5.0",
            "_view_count": null,
            "_view_module_version": "1.2.0",
            "bar_color": null,
            "_model_module": "@jupyter-widgets/controls"
          }
        },
        "ee3db5b06603462e904121738d2d7531": {
          "model_module": "@jupyter-widgets/base",
          "model_name": "LayoutModel",
          "model_module_version": "1.2.0",
          "state": {
            "_view_name": "LayoutView",
            "grid_template_rows": null,
            "right": null,
            "justify_content": null,
            "_view_module": "@jupyter-widgets/base",
            "overflow": null,
            "_model_module_version": "1.2.0",
            "_view_count": null,
            "flex_flow": null,
            "width": null,
            "min_width": null,
            "border": null,
            "align_items": null,
            "bottom": null,
            "_model_module": "@jupyter-widgets/base",
            "top": null,
            "grid_column": null,
            "overflow_y": null,
            "overflow_x": null,
            "grid_auto_flow": null,
            "grid_area": null,
            "grid_template_columns": null,
            "flex": null,
            "_model_name": "LayoutModel",
            "justify_items": null,
            "grid_row": null,
            "max_height": null,
            "align_content": null,
            "visibility": null,
            "align_self": null,
            "height": null,
            "min_height": null,
            "padding": null,
            "grid_auto_rows": null,
            "grid_gap": null,
            "max_width": null,
            "order": null,
            "_view_module_version": "1.2.0",
            "grid_template_areas": null,
            "object_position": null,
            "object_fit": null,
            "grid_auto_columns": null,
            "margin": null,
            "display": null,
            "left": null
          }
        },
        "7f82ce5a16614debbf13056824f4c70c": {
          "model_module": "@jupyter-widgets/controls",
          "model_name": "DescriptionStyleModel",
          "model_module_version": "1.5.0",
          "state": {
            "_view_name": "StyleView",
            "_model_name": "DescriptionStyleModel",
            "description_width": "",
            "_view_module": "@jupyter-widgets/base",
            "_model_module_version": "1.5.0",
            "_view_count": null,
            "_view_module_version": "1.2.0",
            "_model_module": "@jupyter-widgets/controls"
          }
        },
        "de8f71b9064d4e35a62cd8daad92c1d4": {
          "model_module": "@jupyter-widgets/base",
          "model_name": "LayoutModel",
          "model_module_version": "1.2.0",
          "state": {
            "_view_name": "LayoutView",
            "grid_template_rows": null,
            "right": null,
            "justify_content": null,
            "_view_module": "@jupyter-widgets/base",
            "overflow": null,
            "_model_module_version": "1.2.0",
            "_view_count": null,
            "flex_flow": null,
            "width": null,
            "min_width": null,
            "border": null,
            "align_items": null,
            "bottom": null,
            "_model_module": "@jupyter-widgets/base",
            "top": null,
            "grid_column": null,
            "overflow_y": null,
            "overflow_x": null,
            "grid_auto_flow": null,
            "grid_area": null,
            "grid_template_columns": null,
            "flex": null,
            "_model_name": "LayoutModel",
            "justify_items": null,
            "grid_row": null,
            "max_height": null,
            "align_content": null,
            "visibility": null,
            "align_self": null,
            "height": null,
            "min_height": null,
            "padding": null,
            "grid_auto_rows": null,
            "grid_gap": null,
            "max_width": null,
            "order": null,
            "_view_module_version": "1.2.0",
            "grid_template_areas": null,
            "object_position": null,
            "object_fit": null,
            "grid_auto_columns": null,
            "margin": null,
            "display": null,
            "left": null
          }
        },
        "e42181937d2b425bb3f9dc1a6df48e1a": {
          "model_module": "@jupyter-widgets/controls",
          "model_name": "HBoxModel",
          "model_module_version": "1.5.0",
          "state": {
            "_view_name": "HBoxView",
            "_dom_classes": [],
            "_model_name": "HBoxModel",
            "_view_module": "@jupyter-widgets/controls",
            "_model_module_version": "1.5.0",
            "_view_count": null,
            "_view_module_version": "1.5.0",
            "box_style": "",
            "layout": "IPY_MODEL_3b984dc698fa466885ed2cee18e373ac",
            "_model_module": "@jupyter-widgets/controls",
            "children": [
              "IPY_MODEL_3e72bf3288ca40838a7c7d17cef93ffe",
              "IPY_MODEL_c7ad169938294082a911870792c660d4",
              "IPY_MODEL_7a90d92e17cd45f09d3ff7598f2dbc7a"
            ]
          }
        },
        "3b984dc698fa466885ed2cee18e373ac": {
          "model_module": "@jupyter-widgets/base",
          "model_name": "LayoutModel",
          "model_module_version": "1.2.0",
          "state": {
            "_view_name": "LayoutView",
            "grid_template_rows": null,
            "right": null,
            "justify_content": null,
            "_view_module": "@jupyter-widgets/base",
            "overflow": null,
            "_model_module_version": "1.2.0",
            "_view_count": null,
            "flex_flow": null,
            "width": null,
            "min_width": null,
            "border": null,
            "align_items": null,
            "bottom": null,
            "_model_module": "@jupyter-widgets/base",
            "top": null,
            "grid_column": null,
            "overflow_y": null,
            "overflow_x": null,
            "grid_auto_flow": null,
            "grid_area": null,
            "grid_template_columns": null,
            "flex": null,
            "_model_name": "LayoutModel",
            "justify_items": null,
            "grid_row": null,
            "max_height": null,
            "align_content": null,
            "visibility": null,
            "align_self": null,
            "height": null,
            "min_height": null,
            "padding": null,
            "grid_auto_rows": null,
            "grid_gap": null,
            "max_width": null,
            "order": null,
            "_view_module_version": "1.2.0",
            "grid_template_areas": null,
            "object_position": null,
            "object_fit": null,
            "grid_auto_columns": null,
            "margin": null,
            "display": null,
            "left": null
          }
        },
        "3e72bf3288ca40838a7c7d17cef93ffe": {
          "model_module": "@jupyter-widgets/controls",
          "model_name": "HTMLModel",
          "model_module_version": "1.5.0",
          "state": {
            "_view_name": "HTMLView",
            "style": "IPY_MODEL_f1211e4125fd4000a133bd18d0d182f9",
            "_dom_classes": [],
            "description": "",
            "_model_name": "HTMLModel",
            "placeholder": "​",
            "_view_module": "@jupyter-widgets/controls",
            "_model_module_version": "1.5.0",
            "value": "",
            "_view_count": null,
            "_view_module_version": "1.5.0",
            "description_tooltip": null,
            "_model_module": "@jupyter-widgets/controls",
            "layout": "IPY_MODEL_cc9bad1ba8bd4641bfaf83877fa15269"
          }
        },
        "c7ad169938294082a911870792c660d4": {
          "model_module": "@jupyter-widgets/controls",
          "model_name": "FloatProgressModel",
          "model_module_version": "1.5.0",
          "state": {
            "_view_name": "ProgressView",
            "style": "IPY_MODEL_ffc9efae853040de96f048afa63b2e42",
            "_dom_classes": [],
            "description": "",
            "_model_name": "FloatProgressModel",
            "bar_style": "success",
            "max": 4542,
            "_view_module": "@jupyter-widgets/controls",
            "_model_module_version": "1.5.0",
            "value": 4542,
            "_view_count": null,
            "_view_module_version": "1.5.0",
            "orientation": "horizontal",
            "min": 0,
            "description_tooltip": null,
            "_model_module": "@jupyter-widgets/controls",
            "layout": "IPY_MODEL_c44b1480415a42d3b04be6e37a644db6"
          }
        },
        "7a90d92e17cd45f09d3ff7598f2dbc7a": {
          "model_module": "@jupyter-widgets/controls",
          "model_name": "HTMLModel",
          "model_module_version": "1.5.0",
          "state": {
            "_view_name": "HTMLView",
            "style": "IPY_MODEL_5327fccc9d3b43a283b84259eef3e5a3",
            "_dom_classes": [],
            "description": "",
            "_model_name": "HTMLModel",
            "placeholder": "​",
            "_view_module": "@jupyter-widgets/controls",
            "_model_module_version": "1.5.0",
            "value": " 5120/? [00:00&lt;00:00, 127891.11it/s]",
            "_view_count": null,
            "_view_module_version": "1.5.0",
            "description_tooltip": null,
            "_model_module": "@jupyter-widgets/controls",
            "layout": "IPY_MODEL_ca57687b6a3e4fe9abc1141d0318ca27"
          }
        },
        "f1211e4125fd4000a133bd18d0d182f9": {
          "model_module": "@jupyter-widgets/controls",
          "model_name": "DescriptionStyleModel",
          "model_module_version": "1.5.0",
          "state": {
            "_view_name": "StyleView",
            "_model_name": "DescriptionStyleModel",
            "description_width": "",
            "_view_module": "@jupyter-widgets/base",
            "_model_module_version": "1.5.0",
            "_view_count": null,
            "_view_module_version": "1.2.0",
            "_model_module": "@jupyter-widgets/controls"
          }
        },
        "cc9bad1ba8bd4641bfaf83877fa15269": {
          "model_module": "@jupyter-widgets/base",
          "model_name": "LayoutModel",
          "model_module_version": "1.2.0",
          "state": {
            "_view_name": "LayoutView",
            "grid_template_rows": null,
            "right": null,
            "justify_content": null,
            "_view_module": "@jupyter-widgets/base",
            "overflow": null,
            "_model_module_version": "1.2.0",
            "_view_count": null,
            "flex_flow": null,
            "width": null,
            "min_width": null,
            "border": null,
            "align_items": null,
            "bottom": null,
            "_model_module": "@jupyter-widgets/base",
            "top": null,
            "grid_column": null,
            "overflow_y": null,
            "overflow_x": null,
            "grid_auto_flow": null,
            "grid_area": null,
            "grid_template_columns": null,
            "flex": null,
            "_model_name": "LayoutModel",
            "justify_items": null,
            "grid_row": null,
            "max_height": null,
            "align_content": null,
            "visibility": null,
            "align_self": null,
            "height": null,
            "min_height": null,
            "padding": null,
            "grid_auto_rows": null,
            "grid_gap": null,
            "max_width": null,
            "order": null,
            "_view_module_version": "1.2.0",
            "grid_template_areas": null,
            "object_position": null,
            "object_fit": null,
            "grid_auto_columns": null,
            "margin": null,
            "display": null,
            "left": null
          }
        },
        "ffc9efae853040de96f048afa63b2e42": {
          "model_module": "@jupyter-widgets/controls",
          "model_name": "ProgressStyleModel",
          "model_module_version": "1.5.0",
          "state": {
            "_view_name": "StyleView",
            "_model_name": "ProgressStyleModel",
            "description_width": "",
            "_view_module": "@jupyter-widgets/base",
            "_model_module_version": "1.5.0",
            "_view_count": null,
            "_view_module_version": "1.2.0",
            "bar_color": null,
            "_model_module": "@jupyter-widgets/controls"
          }
        },
        "c44b1480415a42d3b04be6e37a644db6": {
          "model_module": "@jupyter-widgets/base",
          "model_name": "LayoutModel",
          "model_module_version": "1.2.0",
          "state": {
            "_view_name": "LayoutView",
            "grid_template_rows": null,
            "right": null,
            "justify_content": null,
            "_view_module": "@jupyter-widgets/base",
            "overflow": null,
            "_model_module_version": "1.2.0",
            "_view_count": null,
            "flex_flow": null,
            "width": null,
            "min_width": null,
            "border": null,
            "align_items": null,
            "bottom": null,
            "_model_module": "@jupyter-widgets/base",
            "top": null,
            "grid_column": null,
            "overflow_y": null,
            "overflow_x": null,
            "grid_auto_flow": null,
            "grid_area": null,
            "grid_template_columns": null,
            "flex": null,
            "_model_name": "LayoutModel",
            "justify_items": null,
            "grid_row": null,
            "max_height": null,
            "align_content": null,
            "visibility": null,
            "align_self": null,
            "height": null,
            "min_height": null,
            "padding": null,
            "grid_auto_rows": null,
            "grid_gap": null,
            "max_width": null,
            "order": null,
            "_view_module_version": "1.2.0",
            "grid_template_areas": null,
            "object_position": null,
            "object_fit": null,
            "grid_auto_columns": null,
            "margin": null,
            "display": null,
            "left": null
          }
        },
        "5327fccc9d3b43a283b84259eef3e5a3": {
          "model_module": "@jupyter-widgets/controls",
          "model_name": "DescriptionStyleModel",
          "model_module_version": "1.5.0",
          "state": {
            "_view_name": "StyleView",
            "_model_name": "DescriptionStyleModel",
            "description_width": "",
            "_view_module": "@jupyter-widgets/base",
            "_model_module_version": "1.5.0",
            "_view_count": null,
            "_view_module_version": "1.2.0",
            "_model_module": "@jupyter-widgets/controls"
          }
        },
        "ca57687b6a3e4fe9abc1141d0318ca27": {
          "model_module": "@jupyter-widgets/base",
          "model_name": "LayoutModel",
          "model_module_version": "1.2.0",
          "state": {
            "_view_name": "LayoutView",
            "grid_template_rows": null,
            "right": null,
            "justify_content": null,
            "_view_module": "@jupyter-widgets/base",
            "overflow": null,
            "_model_module_version": "1.2.0",
            "_view_count": null,
            "flex_flow": null,
            "width": null,
            "min_width": null,
            "border": null,
            "align_items": null,
            "bottom": null,
            "_model_module": "@jupyter-widgets/base",
            "top": null,
            "grid_column": null,
            "overflow_y": null,
            "overflow_x": null,
            "grid_auto_flow": null,
            "grid_area": null,
            "grid_template_columns": null,
            "flex": null,
            "_model_name": "LayoutModel",
            "justify_items": null,
            "grid_row": null,
            "max_height": null,
            "align_content": null,
            "visibility": null,
            "align_self": null,
            "height": null,
            "min_height": null,
            "padding": null,
            "grid_auto_rows": null,
            "grid_gap": null,
            "max_width": null,
            "order": null,
            "_view_module_version": "1.2.0",
            "grid_template_areas": null,
            "object_position": null,
            "object_fit": null,
            "grid_auto_columns": null,
            "margin": null,
            "display": null,
            "left": null
          }
        },
        "2826cc0540664924b46aeb7cb391a116": {
          "model_module": "@jupyter-widgets/controls",
          "model_name": "HBoxModel",
          "model_module_version": "1.5.0",
          "state": {
            "_view_name": "HBoxView",
            "_dom_classes": [],
            "_model_name": "HBoxModel",
            "_view_module": "@jupyter-widgets/controls",
            "_model_module_version": "1.5.0",
            "_view_count": null,
            "_view_module_version": "1.5.0",
            "box_style": "",
            "layout": "IPY_MODEL_461653c834dc4a75a946b143d522254e",
            "_model_module": "@jupyter-widgets/controls",
            "children": [
              "IPY_MODEL_c4c016ed77c04057825f0e32f76f8ab3",
              "IPY_MODEL_e707715c1a9b4c85b2750bc720ca1f12",
              "IPY_MODEL_7c087554221e4d12a7b48cdb700abb99"
            ]
          }
        },
        "461653c834dc4a75a946b143d522254e": {
          "model_module": "@jupyter-widgets/base",
          "model_name": "LayoutModel",
          "model_module_version": "1.2.0",
          "state": {
            "_view_name": "LayoutView",
            "grid_template_rows": null,
            "right": null,
            "justify_content": null,
            "_view_module": "@jupyter-widgets/base",
            "overflow": null,
            "_model_module_version": "1.2.0",
            "_view_count": null,
            "flex_flow": null,
            "width": null,
            "min_width": null,
            "border": null,
            "align_items": null,
            "bottom": null,
            "_model_module": "@jupyter-widgets/base",
            "top": null,
            "grid_column": null,
            "overflow_y": null,
            "overflow_x": null,
            "grid_auto_flow": null,
            "grid_area": null,
            "grid_template_columns": null,
            "flex": null,
            "_model_name": "LayoutModel",
            "justify_items": null,
            "grid_row": null,
            "max_height": null,
            "align_content": null,
            "visibility": null,
            "align_self": null,
            "height": null,
            "min_height": null,
            "padding": null,
            "grid_auto_rows": null,
            "grid_gap": null,
            "max_width": null,
            "order": null,
            "_view_module_version": "1.2.0",
            "grid_template_areas": null,
            "object_position": null,
            "object_fit": null,
            "grid_auto_columns": null,
            "margin": null,
            "display": null,
            "left": null
          }
        },
        "c4c016ed77c04057825f0e32f76f8ab3": {
          "model_module": "@jupyter-widgets/controls",
          "model_name": "HTMLModel",
          "model_module_version": "1.5.0",
          "state": {
            "_view_name": "HTMLView",
            "style": "IPY_MODEL_2f0b00557a4c4a3dbeafa82b046217a4",
            "_dom_classes": [],
            "description": "",
            "_model_name": "HTMLModel",
            "placeholder": "​",
            "_view_module": "@jupyter-widgets/controls",
            "_model_module_version": "1.5.0",
            "value": "",
            "_view_count": null,
            "_view_module_version": "1.5.0",
            "description_tooltip": null,
            "_model_module": "@jupyter-widgets/controls",
            "layout": "IPY_MODEL_b86d6d65e8f94a8e9e4d84b8128d5a25"
          }
        },
        "e707715c1a9b4c85b2750bc720ca1f12": {
          "model_module": "@jupyter-widgets/controls",
          "model_name": "FloatProgressModel",
          "model_module_version": "1.5.0",
          "state": {
            "_view_name": "ProgressView",
            "style": "IPY_MODEL_5cffb77acf584f50901f80c5364337be",
            "_dom_classes": [],
            "description": "",
            "_model_name": "FloatProgressModel",
            "bar_style": "success",
            "max": 9912422,
            "_view_module": "@jupyter-widgets/controls",
            "_model_module_version": "1.5.0",
            "value": 9912422,
            "_view_count": null,
            "_view_module_version": "1.5.0",
            "orientation": "horizontal",
            "min": 0,
            "description_tooltip": null,
            "_model_module": "@jupyter-widgets/controls",
            "layout": "IPY_MODEL_c43c8b075c014d7cae44454a42162509"
          }
        },
        "7c087554221e4d12a7b48cdb700abb99": {
          "model_module": "@jupyter-widgets/controls",
          "model_name": "HTMLModel",
          "model_module_version": "1.5.0",
          "state": {
            "_view_name": "HTMLView",
            "style": "IPY_MODEL_bd03bf70d57a44dbaf9a9c7ed969e7e0",
            "_dom_classes": [],
            "description": "",
            "_model_name": "HTMLModel",
            "placeholder": "​",
            "_view_module": "@jupyter-widgets/controls",
            "_model_module_version": "1.5.0",
            "value": " 9913344/? [00:00&lt;00:00, 19375617.61it/s]",
            "_view_count": null,
            "_view_module_version": "1.5.0",
            "description_tooltip": null,
            "_model_module": "@jupyter-widgets/controls",
            "layout": "IPY_MODEL_922be0d375ac44e386ce55b30abdf352"
          }
        },
        "2f0b00557a4c4a3dbeafa82b046217a4": {
          "model_module": "@jupyter-widgets/controls",
          "model_name": "DescriptionStyleModel",
          "model_module_version": "1.5.0",
          "state": {
            "_view_name": "StyleView",
            "_model_name": "DescriptionStyleModel",
            "description_width": "",
            "_view_module": "@jupyter-widgets/base",
            "_model_module_version": "1.5.0",
            "_view_count": null,
            "_view_module_version": "1.2.0",
            "_model_module": "@jupyter-widgets/controls"
          }
        },
        "b86d6d65e8f94a8e9e4d84b8128d5a25": {
          "model_module": "@jupyter-widgets/base",
          "model_name": "LayoutModel",
          "model_module_version": "1.2.0",
          "state": {
            "_view_name": "LayoutView",
            "grid_template_rows": null,
            "right": null,
            "justify_content": null,
            "_view_module": "@jupyter-widgets/base",
            "overflow": null,
            "_model_module_version": "1.2.0",
            "_view_count": null,
            "flex_flow": null,
            "width": null,
            "min_width": null,
            "border": null,
            "align_items": null,
            "bottom": null,
            "_model_module": "@jupyter-widgets/base",
            "top": null,
            "grid_column": null,
            "overflow_y": null,
            "overflow_x": null,
            "grid_auto_flow": null,
            "grid_area": null,
            "grid_template_columns": null,
            "flex": null,
            "_model_name": "LayoutModel",
            "justify_items": null,
            "grid_row": null,
            "max_height": null,
            "align_content": null,
            "visibility": null,
            "align_self": null,
            "height": null,
            "min_height": null,
            "padding": null,
            "grid_auto_rows": null,
            "grid_gap": null,
            "max_width": null,
            "order": null,
            "_view_module_version": "1.2.0",
            "grid_template_areas": null,
            "object_position": null,
            "object_fit": null,
            "grid_auto_columns": null,
            "margin": null,
            "display": null,
            "left": null
          }
        },
        "5cffb77acf584f50901f80c5364337be": {
          "model_module": "@jupyter-widgets/controls",
          "model_name": "ProgressStyleModel",
          "model_module_version": "1.5.0",
          "state": {
            "_view_name": "StyleView",
            "_model_name": "ProgressStyleModel",
            "description_width": "",
            "_view_module": "@jupyter-widgets/base",
            "_model_module_version": "1.5.0",
            "_view_count": null,
            "_view_module_version": "1.2.0",
            "bar_color": null,
            "_model_module": "@jupyter-widgets/controls"
          }
        },
        "c43c8b075c014d7cae44454a42162509": {
          "model_module": "@jupyter-widgets/base",
          "model_name": "LayoutModel",
          "model_module_version": "1.2.0",
          "state": {
            "_view_name": "LayoutView",
            "grid_template_rows": null,
            "right": null,
            "justify_content": null,
            "_view_module": "@jupyter-widgets/base",
            "overflow": null,
            "_model_module_version": "1.2.0",
            "_view_count": null,
            "flex_flow": null,
            "width": null,
            "min_width": null,
            "border": null,
            "align_items": null,
            "bottom": null,
            "_model_module": "@jupyter-widgets/base",
            "top": null,
            "grid_column": null,
            "overflow_y": null,
            "overflow_x": null,
            "grid_auto_flow": null,
            "grid_area": null,
            "grid_template_columns": null,
            "flex": null,
            "_model_name": "LayoutModel",
            "justify_items": null,
            "grid_row": null,
            "max_height": null,
            "align_content": null,
            "visibility": null,
            "align_self": null,
            "height": null,
            "min_height": null,
            "padding": null,
            "grid_auto_rows": null,
            "grid_gap": null,
            "max_width": null,
            "order": null,
            "_view_module_version": "1.2.0",
            "grid_template_areas": null,
            "object_position": null,
            "object_fit": null,
            "grid_auto_columns": null,
            "margin": null,
            "display": null,
            "left": null
          }
        },
        "bd03bf70d57a44dbaf9a9c7ed969e7e0": {
          "model_module": "@jupyter-widgets/controls",
          "model_name": "DescriptionStyleModel",
          "model_module_version": "1.5.0",
          "state": {
            "_view_name": "StyleView",
            "_model_name": "DescriptionStyleModel",
            "description_width": "",
            "_view_module": "@jupyter-widgets/base",
            "_model_module_version": "1.5.0",
            "_view_count": null,
            "_view_module_version": "1.2.0",
            "_model_module": "@jupyter-widgets/controls"
          }
        },
        "922be0d375ac44e386ce55b30abdf352": {
          "model_module": "@jupyter-widgets/base",
          "model_name": "LayoutModel",
          "model_module_version": "1.2.0",
          "state": {
            "_view_name": "LayoutView",
            "grid_template_rows": null,
            "right": null,
            "justify_content": null,
            "_view_module": "@jupyter-widgets/base",
            "overflow": null,
            "_model_module_version": "1.2.0",
            "_view_count": null,
            "flex_flow": null,
            "width": null,
            "min_width": null,
            "border": null,
            "align_items": null,
            "bottom": null,
            "_model_module": "@jupyter-widgets/base",
            "top": null,
            "grid_column": null,
            "overflow_y": null,
            "overflow_x": null,
            "grid_auto_flow": null,
            "grid_area": null,
            "grid_template_columns": null,
            "flex": null,
            "_model_name": "LayoutModel",
            "justify_items": null,
            "grid_row": null,
            "max_height": null,
            "align_content": null,
            "visibility": null,
            "align_self": null,
            "height": null,
            "min_height": null,
            "padding": null,
            "grid_auto_rows": null,
            "grid_gap": null,
            "max_width": null,
            "order": null,
            "_view_module_version": "1.2.0",
            "grid_template_areas": null,
            "object_position": null,
            "object_fit": null,
            "grid_auto_columns": null,
            "margin": null,
            "display": null,
            "left": null
          }
        },
        "5e67d1b1208c4b07bc168970772b63e0": {
          "model_module": "@jupyter-widgets/controls",
          "model_name": "HBoxModel",
          "model_module_version": "1.5.0",
          "state": {
            "_view_name": "HBoxView",
            "_dom_classes": [],
            "_model_name": "HBoxModel",
            "_view_module": "@jupyter-widgets/controls",
            "_model_module_version": "1.5.0",
            "_view_count": null,
            "_view_module_version": "1.5.0",
            "box_style": "",
            "layout": "IPY_MODEL_93ae888dc5824f55a5cf78b838f5e5dc",
            "_model_module": "@jupyter-widgets/controls",
            "children": [
              "IPY_MODEL_d5264110b59a48a082065ab6504caf6d",
              "IPY_MODEL_92c4812858c64ceebacb3514d3488605",
              "IPY_MODEL_11d9d44e70814370b28d4067d7a4eaf3"
            ]
          }
        },
        "93ae888dc5824f55a5cf78b838f5e5dc": {
          "model_module": "@jupyter-widgets/base",
          "model_name": "LayoutModel",
          "model_module_version": "1.2.0",
          "state": {
            "_view_name": "LayoutView",
            "grid_template_rows": null,
            "right": null,
            "justify_content": null,
            "_view_module": "@jupyter-widgets/base",
            "overflow": null,
            "_model_module_version": "1.2.0",
            "_view_count": null,
            "flex_flow": null,
            "width": null,
            "min_width": null,
            "border": null,
            "align_items": null,
            "bottom": null,
            "_model_module": "@jupyter-widgets/base",
            "top": null,
            "grid_column": null,
            "overflow_y": null,
            "overflow_x": null,
            "grid_auto_flow": null,
            "grid_area": null,
            "grid_template_columns": null,
            "flex": null,
            "_model_name": "LayoutModel",
            "justify_items": null,
            "grid_row": null,
            "max_height": null,
            "align_content": null,
            "visibility": null,
            "align_self": null,
            "height": null,
            "min_height": null,
            "padding": null,
            "grid_auto_rows": null,
            "grid_gap": null,
            "max_width": null,
            "order": null,
            "_view_module_version": "1.2.0",
            "grid_template_areas": null,
            "object_position": null,
            "object_fit": null,
            "grid_auto_columns": null,
            "margin": null,
            "display": null,
            "left": null
          }
        },
        "d5264110b59a48a082065ab6504caf6d": {
          "model_module": "@jupyter-widgets/controls",
          "model_name": "HTMLModel",
          "model_module_version": "1.5.0",
          "state": {
            "_view_name": "HTMLView",
            "style": "IPY_MODEL_4de2e4a53ed842f19db44720c874f395",
            "_dom_classes": [],
            "description": "",
            "_model_name": "HTMLModel",
            "placeholder": "​",
            "_view_module": "@jupyter-widgets/controls",
            "_model_module_version": "1.5.0",
            "value": "",
            "_view_count": null,
            "_view_module_version": "1.5.0",
            "description_tooltip": null,
            "_model_module": "@jupyter-widgets/controls",
            "layout": "IPY_MODEL_c7fe8575573948b594c16de7d27ae902"
          }
        },
        "92c4812858c64ceebacb3514d3488605": {
          "model_module": "@jupyter-widgets/controls",
          "model_name": "FloatProgressModel",
          "model_module_version": "1.5.0",
          "state": {
            "_view_name": "ProgressView",
            "style": "IPY_MODEL_f1e0555b73494477aa53f7d8aae401c9",
            "_dom_classes": [],
            "description": "",
            "_model_name": "FloatProgressModel",
            "bar_style": "success",
            "max": 28881,
            "_view_module": "@jupyter-widgets/controls",
            "_model_module_version": "1.5.0",
            "value": 28881,
            "_view_count": null,
            "_view_module_version": "1.5.0",
            "orientation": "horizontal",
            "min": 0,
            "description_tooltip": null,
            "_model_module": "@jupyter-widgets/controls",
            "layout": "IPY_MODEL_ac5d598fdcd9486693368b5187a50ad1"
          }
        },
        "11d9d44e70814370b28d4067d7a4eaf3": {
          "model_module": "@jupyter-widgets/controls",
          "model_name": "HTMLModel",
          "model_module_version": "1.5.0",
          "state": {
            "_view_name": "HTMLView",
            "style": "IPY_MODEL_0e5fa1e865fb4c76a82ac7bb9bfbc800",
            "_dom_classes": [],
            "description": "",
            "_model_name": "HTMLModel",
            "placeholder": "​",
            "_view_module": "@jupyter-widgets/controls",
            "_model_module_version": "1.5.0",
            "value": " 29696/? [00:00&lt;00:00, 637437.70it/s]",
            "_view_count": null,
            "_view_module_version": "1.5.0",
            "description_tooltip": null,
            "_model_module": "@jupyter-widgets/controls",
            "layout": "IPY_MODEL_9aceb047a342436ab34b8a0b2f8da0ad"
          }
        },
        "4de2e4a53ed842f19db44720c874f395": {
          "model_module": "@jupyter-widgets/controls",
          "model_name": "DescriptionStyleModel",
          "model_module_version": "1.5.0",
          "state": {
            "_view_name": "StyleView",
            "_model_name": "DescriptionStyleModel",
            "description_width": "",
            "_view_module": "@jupyter-widgets/base",
            "_model_module_version": "1.5.0",
            "_view_count": null,
            "_view_module_version": "1.2.0",
            "_model_module": "@jupyter-widgets/controls"
          }
        },
        "c7fe8575573948b594c16de7d27ae902": {
          "model_module": "@jupyter-widgets/base",
          "model_name": "LayoutModel",
          "model_module_version": "1.2.0",
          "state": {
            "_view_name": "LayoutView",
            "grid_template_rows": null,
            "right": null,
            "justify_content": null,
            "_view_module": "@jupyter-widgets/base",
            "overflow": null,
            "_model_module_version": "1.2.0",
            "_view_count": null,
            "flex_flow": null,
            "width": null,
            "min_width": null,
            "border": null,
            "align_items": null,
            "bottom": null,
            "_model_module": "@jupyter-widgets/base",
            "top": null,
            "grid_column": null,
            "overflow_y": null,
            "overflow_x": null,
            "grid_auto_flow": null,
            "grid_area": null,
            "grid_template_columns": null,
            "flex": null,
            "_model_name": "LayoutModel",
            "justify_items": null,
            "grid_row": null,
            "max_height": null,
            "align_content": null,
            "visibility": null,
            "align_self": null,
            "height": null,
            "min_height": null,
            "padding": null,
            "grid_auto_rows": null,
            "grid_gap": null,
            "max_width": null,
            "order": null,
            "_view_module_version": "1.2.0",
            "grid_template_areas": null,
            "object_position": null,
            "object_fit": null,
            "grid_auto_columns": null,
            "margin": null,
            "display": null,
            "left": null
          }
        },
        "f1e0555b73494477aa53f7d8aae401c9": {
          "model_module": "@jupyter-widgets/controls",
          "model_name": "ProgressStyleModel",
          "model_module_version": "1.5.0",
          "state": {
            "_view_name": "StyleView",
            "_model_name": "ProgressStyleModel",
            "description_width": "",
            "_view_module": "@jupyter-widgets/base",
            "_model_module_version": "1.5.0",
            "_view_count": null,
            "_view_module_version": "1.2.0",
            "bar_color": null,
            "_model_module": "@jupyter-widgets/controls"
          }
        },
        "ac5d598fdcd9486693368b5187a50ad1": {
          "model_module": "@jupyter-widgets/base",
          "model_name": "LayoutModel",
          "model_module_version": "1.2.0",
          "state": {
            "_view_name": "LayoutView",
            "grid_template_rows": null,
            "right": null,
            "justify_content": null,
            "_view_module": "@jupyter-widgets/base",
            "overflow": null,
            "_model_module_version": "1.2.0",
            "_view_count": null,
            "flex_flow": null,
            "width": null,
            "min_width": null,
            "border": null,
            "align_items": null,
            "bottom": null,
            "_model_module": "@jupyter-widgets/base",
            "top": null,
            "grid_column": null,
            "overflow_y": null,
            "overflow_x": null,
            "grid_auto_flow": null,
            "grid_area": null,
            "grid_template_columns": null,
            "flex": null,
            "_model_name": "LayoutModel",
            "justify_items": null,
            "grid_row": null,
            "max_height": null,
            "align_content": null,
            "visibility": null,
            "align_self": null,
            "height": null,
            "min_height": null,
            "padding": null,
            "grid_auto_rows": null,
            "grid_gap": null,
            "max_width": null,
            "order": null,
            "_view_module_version": "1.2.0",
            "grid_template_areas": null,
            "object_position": null,
            "object_fit": null,
            "grid_auto_columns": null,
            "margin": null,
            "display": null,
            "left": null
          }
        },
        "0e5fa1e865fb4c76a82ac7bb9bfbc800": {
          "model_module": "@jupyter-widgets/controls",
          "model_name": "DescriptionStyleModel",
          "model_module_version": "1.5.0",
          "state": {
            "_view_name": "StyleView",
            "_model_name": "DescriptionStyleModel",
            "description_width": "",
            "_view_module": "@jupyter-widgets/base",
            "_model_module_version": "1.5.0",
            "_view_count": null,
            "_view_module_version": "1.2.0",
            "_model_module": "@jupyter-widgets/controls"
          }
        },
        "9aceb047a342436ab34b8a0b2f8da0ad": {
          "model_module": "@jupyter-widgets/base",
          "model_name": "LayoutModel",
          "model_module_version": "1.2.0",
          "state": {
            "_view_name": "LayoutView",
            "grid_template_rows": null,
            "right": null,
            "justify_content": null,
            "_view_module": "@jupyter-widgets/base",
            "overflow": null,
            "_model_module_version": "1.2.0",
            "_view_count": null,
            "flex_flow": null,
            "width": null,
            "min_width": null,
            "border": null,
            "align_items": null,
            "bottom": null,
            "_model_module": "@jupyter-widgets/base",
            "top": null,
            "grid_column": null,
            "overflow_y": null,
            "overflow_x": null,
            "grid_auto_flow": null,
            "grid_area": null,
            "grid_template_columns": null,
            "flex": null,
            "_model_name": "LayoutModel",
            "justify_items": null,
            "grid_row": null,
            "max_height": null,
            "align_content": null,
            "visibility": null,
            "align_self": null,
            "height": null,
            "min_height": null,
            "padding": null,
            "grid_auto_rows": null,
            "grid_gap": null,
            "max_width": null,
            "order": null,
            "_view_module_version": "1.2.0",
            "grid_template_areas": null,
            "object_position": null,
            "object_fit": null,
            "grid_auto_columns": null,
            "margin": null,
            "display": null,
            "left": null
          }
        },
        "ae963f776ad9450abdb097c59a444fe5": {
          "model_module": "@jupyter-widgets/controls",
          "model_name": "HBoxModel",
          "model_module_version": "1.5.0",
          "state": {
            "_view_name": "HBoxView",
            "_dom_classes": [],
            "_model_name": "HBoxModel",
            "_view_module": "@jupyter-widgets/controls",
            "_model_module_version": "1.5.0",
            "_view_count": null,
            "_view_module_version": "1.5.0",
            "box_style": "",
            "layout": "IPY_MODEL_780cdcbe6b33462cade8119271e49bd3",
            "_model_module": "@jupyter-widgets/controls",
            "children": [
              "IPY_MODEL_d5e00c9728f54a86bcd0915323136dad",
              "IPY_MODEL_bb364b6a563e47beb93d34f26ac6ba38",
              "IPY_MODEL_d25966e19dd54b80a277230b7058e4ec"
            ]
          }
        },
        "780cdcbe6b33462cade8119271e49bd3": {
          "model_module": "@jupyter-widgets/base",
          "model_name": "LayoutModel",
          "model_module_version": "1.2.0",
          "state": {
            "_view_name": "LayoutView",
            "grid_template_rows": null,
            "right": null,
            "justify_content": null,
            "_view_module": "@jupyter-widgets/base",
            "overflow": null,
            "_model_module_version": "1.2.0",
            "_view_count": null,
            "flex_flow": null,
            "width": null,
            "min_width": null,
            "border": null,
            "align_items": null,
            "bottom": null,
            "_model_module": "@jupyter-widgets/base",
            "top": null,
            "grid_column": null,
            "overflow_y": null,
            "overflow_x": null,
            "grid_auto_flow": null,
            "grid_area": null,
            "grid_template_columns": null,
            "flex": null,
            "_model_name": "LayoutModel",
            "justify_items": null,
            "grid_row": null,
            "max_height": null,
            "align_content": null,
            "visibility": null,
            "align_self": null,
            "height": null,
            "min_height": null,
            "padding": null,
            "grid_auto_rows": null,
            "grid_gap": null,
            "max_width": null,
            "order": null,
            "_view_module_version": "1.2.0",
            "grid_template_areas": null,
            "object_position": null,
            "object_fit": null,
            "grid_auto_columns": null,
            "margin": null,
            "display": null,
            "left": null
          }
        },
        "d5e00c9728f54a86bcd0915323136dad": {
          "model_module": "@jupyter-widgets/controls",
          "model_name": "HTMLModel",
          "model_module_version": "1.5.0",
          "state": {
            "_view_name": "HTMLView",
            "style": "IPY_MODEL_9939280b1006444c8141d3b2940b2123",
            "_dom_classes": [],
            "description": "",
            "_model_name": "HTMLModel",
            "placeholder": "​",
            "_view_module": "@jupyter-widgets/controls",
            "_model_module_version": "1.5.0",
            "value": "",
            "_view_count": null,
            "_view_module_version": "1.5.0",
            "description_tooltip": null,
            "_model_module": "@jupyter-widgets/controls",
            "layout": "IPY_MODEL_aa118172344540648dc38df84d0008f8"
          }
        },
        "bb364b6a563e47beb93d34f26ac6ba38": {
          "model_module": "@jupyter-widgets/controls",
          "model_name": "FloatProgressModel",
          "model_module_version": "1.5.0",
          "state": {
            "_view_name": "ProgressView",
            "style": "IPY_MODEL_0a108eaadb16482b8dbfc8b53eb7a912",
            "_dom_classes": [],
            "description": "",
            "_model_name": "FloatProgressModel",
            "bar_style": "success",
            "max": 1648877,
            "_view_module": "@jupyter-widgets/controls",
            "_model_module_version": "1.5.0",
            "value": 1648877,
            "_view_count": null,
            "_view_module_version": "1.5.0",
            "orientation": "horizontal",
            "min": 0,
            "description_tooltip": null,
            "_model_module": "@jupyter-widgets/controls",
            "layout": "IPY_MODEL_8f85f416867541ee90b5c5ca9bdea1d3"
          }
        },
        "d25966e19dd54b80a277230b7058e4ec": {
          "model_module": "@jupyter-widgets/controls",
          "model_name": "HTMLModel",
          "model_module_version": "1.5.0",
          "state": {
            "_view_name": "HTMLView",
            "style": "IPY_MODEL_aeab66ff26df485193515cc8daf58f95",
            "_dom_classes": [],
            "description": "",
            "_model_name": "HTMLModel",
            "placeholder": "​",
            "_view_module": "@jupyter-widgets/controls",
            "_model_module_version": "1.5.0",
            "value": " 1649664/? [00:00&lt;00:00, 17141733.88it/s]",
            "_view_count": null,
            "_view_module_version": "1.5.0",
            "description_tooltip": null,
            "_model_module": "@jupyter-widgets/controls",
            "layout": "IPY_MODEL_1136cefa23f84a90ab581f95f9dea978"
          }
        },
        "9939280b1006444c8141d3b2940b2123": {
          "model_module": "@jupyter-widgets/controls",
          "model_name": "DescriptionStyleModel",
          "model_module_version": "1.5.0",
          "state": {
            "_view_name": "StyleView",
            "_model_name": "DescriptionStyleModel",
            "description_width": "",
            "_view_module": "@jupyter-widgets/base",
            "_model_module_version": "1.5.0",
            "_view_count": null,
            "_view_module_version": "1.2.0",
            "_model_module": "@jupyter-widgets/controls"
          }
        },
        "aa118172344540648dc38df84d0008f8": {
          "model_module": "@jupyter-widgets/base",
          "model_name": "LayoutModel",
          "model_module_version": "1.2.0",
          "state": {
            "_view_name": "LayoutView",
            "grid_template_rows": null,
            "right": null,
            "justify_content": null,
            "_view_module": "@jupyter-widgets/base",
            "overflow": null,
            "_model_module_version": "1.2.0",
            "_view_count": null,
            "flex_flow": null,
            "width": null,
            "min_width": null,
            "border": null,
            "align_items": null,
            "bottom": null,
            "_model_module": "@jupyter-widgets/base",
            "top": null,
            "grid_column": null,
            "overflow_y": null,
            "overflow_x": null,
            "grid_auto_flow": null,
            "grid_area": null,
            "grid_template_columns": null,
            "flex": null,
            "_model_name": "LayoutModel",
            "justify_items": null,
            "grid_row": null,
            "max_height": null,
            "align_content": null,
            "visibility": null,
            "align_self": null,
            "height": null,
            "min_height": null,
            "padding": null,
            "grid_auto_rows": null,
            "grid_gap": null,
            "max_width": null,
            "order": null,
            "_view_module_version": "1.2.0",
            "grid_template_areas": null,
            "object_position": null,
            "object_fit": null,
            "grid_auto_columns": null,
            "margin": null,
            "display": null,
            "left": null
          }
        },
        "0a108eaadb16482b8dbfc8b53eb7a912": {
          "model_module": "@jupyter-widgets/controls",
          "model_name": "ProgressStyleModel",
          "model_module_version": "1.5.0",
          "state": {
            "_view_name": "StyleView",
            "_model_name": "ProgressStyleModel",
            "description_width": "",
            "_view_module": "@jupyter-widgets/base",
            "_model_module_version": "1.5.0",
            "_view_count": null,
            "_view_module_version": "1.2.0",
            "bar_color": null,
            "_model_module": "@jupyter-widgets/controls"
          }
        },
        "8f85f416867541ee90b5c5ca9bdea1d3": {
          "model_module": "@jupyter-widgets/base",
          "model_name": "LayoutModel",
          "model_module_version": "1.2.0",
          "state": {
            "_view_name": "LayoutView",
            "grid_template_rows": null,
            "right": null,
            "justify_content": null,
            "_view_module": "@jupyter-widgets/base",
            "overflow": null,
            "_model_module_version": "1.2.0",
            "_view_count": null,
            "flex_flow": null,
            "width": null,
            "min_width": null,
            "border": null,
            "align_items": null,
            "bottom": null,
            "_model_module": "@jupyter-widgets/base",
            "top": null,
            "grid_column": null,
            "overflow_y": null,
            "overflow_x": null,
            "grid_auto_flow": null,
            "grid_area": null,
            "grid_template_columns": null,
            "flex": null,
            "_model_name": "LayoutModel",
            "justify_items": null,
            "grid_row": null,
            "max_height": null,
            "align_content": null,
            "visibility": null,
            "align_self": null,
            "height": null,
            "min_height": null,
            "padding": null,
            "grid_auto_rows": null,
            "grid_gap": null,
            "max_width": null,
            "order": null,
            "_view_module_version": "1.2.0",
            "grid_template_areas": null,
            "object_position": null,
            "object_fit": null,
            "grid_auto_columns": null,
            "margin": null,
            "display": null,
            "left": null
          }
        },
        "aeab66ff26df485193515cc8daf58f95": {
          "model_module": "@jupyter-widgets/controls",
          "model_name": "DescriptionStyleModel",
          "model_module_version": "1.5.0",
          "state": {
            "_view_name": "StyleView",
            "_model_name": "DescriptionStyleModel",
            "description_width": "",
            "_view_module": "@jupyter-widgets/base",
            "_model_module_version": "1.5.0",
            "_view_count": null,
            "_view_module_version": "1.2.0",
            "_model_module": "@jupyter-widgets/controls"
          }
        },
        "1136cefa23f84a90ab581f95f9dea978": {
          "model_module": "@jupyter-widgets/base",
          "model_name": "LayoutModel",
          "model_module_version": "1.2.0",
          "state": {
            "_view_name": "LayoutView",
            "grid_template_rows": null,
            "right": null,
            "justify_content": null,
            "_view_module": "@jupyter-widgets/base",
            "overflow": null,
            "_model_module_version": "1.2.0",
            "_view_count": null,
            "flex_flow": null,
            "width": null,
            "min_width": null,
            "border": null,
            "align_items": null,
            "bottom": null,
            "_model_module": "@jupyter-widgets/base",
            "top": null,
            "grid_column": null,
            "overflow_y": null,
            "overflow_x": null,
            "grid_auto_flow": null,
            "grid_area": null,
            "grid_template_columns": null,
            "flex": null,
            "_model_name": "LayoutModel",
            "justify_items": null,
            "grid_row": null,
            "max_height": null,
            "align_content": null,
            "visibility": null,
            "align_self": null,
            "height": null,
            "min_height": null,
            "padding": null,
            "grid_auto_rows": null,
            "grid_gap": null,
            "max_width": null,
            "order": null,
            "_view_module_version": "1.2.0",
            "grid_template_areas": null,
            "object_position": null,
            "object_fit": null,
            "grid_auto_columns": null,
            "margin": null,
            "display": null,
            "left": null
          }
        },
        "cf703a0503d34b0782fe19c7880c11b5": {
          "model_module": "@jupyter-widgets/controls",
          "model_name": "HBoxModel",
          "model_module_version": "1.5.0",
          "state": {
            "_view_name": "HBoxView",
            "_dom_classes": [],
            "_model_name": "HBoxModel",
            "_view_module": "@jupyter-widgets/controls",
            "_model_module_version": "1.5.0",
            "_view_count": null,
            "_view_module_version": "1.5.0",
            "box_style": "",
            "layout": "IPY_MODEL_a5181919d2b34f678c03a03fa7de6bec",
            "_model_module": "@jupyter-widgets/controls",
            "children": [
              "IPY_MODEL_6083a86c46cf4c5fb957d90d521ada6a",
              "IPY_MODEL_28dd22205a754b21a8e3996f6ed2d289",
              "IPY_MODEL_ea10ea6e6ddb4bf79a4cdd7850119c03"
            ]
          }
        },
        "a5181919d2b34f678c03a03fa7de6bec": {
          "model_module": "@jupyter-widgets/base",
          "model_name": "LayoutModel",
          "model_module_version": "1.2.0",
          "state": {
            "_view_name": "LayoutView",
            "grid_template_rows": null,
            "right": null,
            "justify_content": null,
            "_view_module": "@jupyter-widgets/base",
            "overflow": null,
            "_model_module_version": "1.2.0",
            "_view_count": null,
            "flex_flow": null,
            "width": null,
            "min_width": null,
            "border": null,
            "align_items": null,
            "bottom": null,
            "_model_module": "@jupyter-widgets/base",
            "top": null,
            "grid_column": null,
            "overflow_y": null,
            "overflow_x": null,
            "grid_auto_flow": null,
            "grid_area": null,
            "grid_template_columns": null,
            "flex": null,
            "_model_name": "LayoutModel",
            "justify_items": null,
            "grid_row": null,
            "max_height": null,
            "align_content": null,
            "visibility": null,
            "align_self": null,
            "height": null,
            "min_height": null,
            "padding": null,
            "grid_auto_rows": null,
            "grid_gap": null,
            "max_width": null,
            "order": null,
            "_view_module_version": "1.2.0",
            "grid_template_areas": null,
            "object_position": null,
            "object_fit": null,
            "grid_auto_columns": null,
            "margin": null,
            "display": null,
            "left": null
          }
        },
        "6083a86c46cf4c5fb957d90d521ada6a": {
          "model_module": "@jupyter-widgets/controls",
          "model_name": "HTMLModel",
          "model_module_version": "1.5.0",
          "state": {
            "_view_name": "HTMLView",
            "style": "IPY_MODEL_95f8a8fa92274e6a8d2a5f8787de04f8",
            "_dom_classes": [],
            "description": "",
            "_model_name": "HTMLModel",
            "placeholder": "​",
            "_view_module": "@jupyter-widgets/controls",
            "_model_module_version": "1.5.0",
            "value": "",
            "_view_count": null,
            "_view_module_version": "1.5.0",
            "description_tooltip": null,
            "_model_module": "@jupyter-widgets/controls",
            "layout": "IPY_MODEL_5ace1be579e84f8c941d70376e39a7de"
          }
        },
        "28dd22205a754b21a8e3996f6ed2d289": {
          "model_module": "@jupyter-widgets/controls",
          "model_name": "FloatProgressModel",
          "model_module_version": "1.5.0",
          "state": {
            "_view_name": "ProgressView",
            "style": "IPY_MODEL_b43b8b02903d41f7af86c69ef7b5812d",
            "_dom_classes": [],
            "description": "",
            "_model_name": "FloatProgressModel",
            "bar_style": "success",
            "max": 4542,
            "_view_module": "@jupyter-widgets/controls",
            "_model_module_version": "1.5.0",
            "value": 4542,
            "_view_count": null,
            "_view_module_version": "1.5.0",
            "orientation": "horizontal",
            "min": 0,
            "description_tooltip": null,
            "_model_module": "@jupyter-widgets/controls",
            "layout": "IPY_MODEL_b3807dbe5c0f4798a11e0c25518bd9b1"
          }
        },
        "ea10ea6e6ddb4bf79a4cdd7850119c03": {
          "model_module": "@jupyter-widgets/controls",
          "model_name": "HTMLModel",
          "model_module_version": "1.5.0",
          "state": {
            "_view_name": "HTMLView",
            "style": "IPY_MODEL_14fdd0ab33f9457c8979fc0c915d86d4",
            "_dom_classes": [],
            "description": "",
            "_model_name": "HTMLModel",
            "placeholder": "​",
            "_view_module": "@jupyter-widgets/controls",
            "_model_module_version": "1.5.0",
            "value": " 5120/? [00:00&lt;00:00, 73188.79it/s]",
            "_view_count": null,
            "_view_module_version": "1.5.0",
            "description_tooltip": null,
            "_model_module": "@jupyter-widgets/controls",
            "layout": "IPY_MODEL_884f7d688cd14986959cd3bec19ae679"
          }
        },
        "95f8a8fa92274e6a8d2a5f8787de04f8": {
          "model_module": "@jupyter-widgets/controls",
          "model_name": "DescriptionStyleModel",
          "model_module_version": "1.5.0",
          "state": {
            "_view_name": "StyleView",
            "_model_name": "DescriptionStyleModel",
            "description_width": "",
            "_view_module": "@jupyter-widgets/base",
            "_model_module_version": "1.5.0",
            "_view_count": null,
            "_view_module_version": "1.2.0",
            "_model_module": "@jupyter-widgets/controls"
          }
        },
        "5ace1be579e84f8c941d70376e39a7de": {
          "model_module": "@jupyter-widgets/base",
          "model_name": "LayoutModel",
          "model_module_version": "1.2.0",
          "state": {
            "_view_name": "LayoutView",
            "grid_template_rows": null,
            "right": null,
            "justify_content": null,
            "_view_module": "@jupyter-widgets/base",
            "overflow": null,
            "_model_module_version": "1.2.0",
            "_view_count": null,
            "flex_flow": null,
            "width": null,
            "min_width": null,
            "border": null,
            "align_items": null,
            "bottom": null,
            "_model_module": "@jupyter-widgets/base",
            "top": null,
            "grid_column": null,
            "overflow_y": null,
            "overflow_x": null,
            "grid_auto_flow": null,
            "grid_area": null,
            "grid_template_columns": null,
            "flex": null,
            "_model_name": "LayoutModel",
            "justify_items": null,
            "grid_row": null,
            "max_height": null,
            "align_content": null,
            "visibility": null,
            "align_self": null,
            "height": null,
            "min_height": null,
            "padding": null,
            "grid_auto_rows": null,
            "grid_gap": null,
            "max_width": null,
            "order": null,
            "_view_module_version": "1.2.0",
            "grid_template_areas": null,
            "object_position": null,
            "object_fit": null,
            "grid_auto_columns": null,
            "margin": null,
            "display": null,
            "left": null
          }
        },
        "b43b8b02903d41f7af86c69ef7b5812d": {
          "model_module": "@jupyter-widgets/controls",
          "model_name": "ProgressStyleModel",
          "model_module_version": "1.5.0",
          "state": {
            "_view_name": "StyleView",
            "_model_name": "ProgressStyleModel",
            "description_width": "",
            "_view_module": "@jupyter-widgets/base",
            "_model_module_version": "1.5.0",
            "_view_count": null,
            "_view_module_version": "1.2.0",
            "bar_color": null,
            "_model_module": "@jupyter-widgets/controls"
          }
        },
        "b3807dbe5c0f4798a11e0c25518bd9b1": {
          "model_module": "@jupyter-widgets/base",
          "model_name": "LayoutModel",
          "model_module_version": "1.2.0",
          "state": {
            "_view_name": "LayoutView",
            "grid_template_rows": null,
            "right": null,
            "justify_content": null,
            "_view_module": "@jupyter-widgets/base",
            "overflow": null,
            "_model_module_version": "1.2.0",
            "_view_count": null,
            "flex_flow": null,
            "width": null,
            "min_width": null,
            "border": null,
            "align_items": null,
            "bottom": null,
            "_model_module": "@jupyter-widgets/base",
            "top": null,
            "grid_column": null,
            "overflow_y": null,
            "overflow_x": null,
            "grid_auto_flow": null,
            "grid_area": null,
            "grid_template_columns": null,
            "flex": null,
            "_model_name": "LayoutModel",
            "justify_items": null,
            "grid_row": null,
            "max_height": null,
            "align_content": null,
            "visibility": null,
            "align_self": null,
            "height": null,
            "min_height": null,
            "padding": null,
            "grid_auto_rows": null,
            "grid_gap": null,
            "max_width": null,
            "order": null,
            "_view_module_version": "1.2.0",
            "grid_template_areas": null,
            "object_position": null,
            "object_fit": null,
            "grid_auto_columns": null,
            "margin": null,
            "display": null,
            "left": null
          }
        },
        "14fdd0ab33f9457c8979fc0c915d86d4": {
          "model_module": "@jupyter-widgets/controls",
          "model_name": "DescriptionStyleModel",
          "model_module_version": "1.5.0",
          "state": {
            "_view_name": "StyleView",
            "_model_name": "DescriptionStyleModel",
            "description_width": "",
            "_view_module": "@jupyter-widgets/base",
            "_model_module_version": "1.5.0",
            "_view_count": null,
            "_view_module_version": "1.2.0",
            "_model_module": "@jupyter-widgets/controls"
          }
        },
        "884f7d688cd14986959cd3bec19ae679": {
          "model_module": "@jupyter-widgets/base",
          "model_name": "LayoutModel",
          "model_module_version": "1.2.0",
          "state": {
            "_view_name": "LayoutView",
            "grid_template_rows": null,
            "right": null,
            "justify_content": null,
            "_view_module": "@jupyter-widgets/base",
            "overflow": null,
            "_model_module_version": "1.2.0",
            "_view_count": null,
            "flex_flow": null,
            "width": null,
            "min_width": null,
            "border": null,
            "align_items": null,
            "bottom": null,
            "_model_module": "@jupyter-widgets/base",
            "top": null,
            "grid_column": null,
            "overflow_y": null,
            "overflow_x": null,
            "grid_auto_flow": null,
            "grid_area": null,
            "grid_template_columns": null,
            "flex": null,
            "_model_name": "LayoutModel",
            "justify_items": null,
            "grid_row": null,
            "max_height": null,
            "align_content": null,
            "visibility": null,
            "align_self": null,
            "height": null,
            "min_height": null,
            "padding": null,
            "grid_auto_rows": null,
            "grid_gap": null,
            "max_width": null,
            "order": null,
            "_view_module_version": "1.2.0",
            "grid_template_areas": null,
            "object_position": null,
            "object_fit": null,
            "grid_auto_columns": null,
            "margin": null,
            "display": null,
            "left": null
          }
        }
      }
    }
  },
  "cells": [
    {
      "cell_type": "markdown",
      "metadata": {
        "id": "view-in-github",
        "colab_type": "text"
      },
      "source": [
        "<a href=\"https://colab.research.google.com/github/joonheeCho/Artificial-Intelligence-Basic-Course/blob/main/%EC%9D%B8%EA%B3%B5%EC%A7%80%EB%8A%A5_%EA%B8%B0%EC%B4%88%EA%B3%BC%EC%A0%95_Day4.ipynb\" target=\"_parent\"><img src=\"https://colab.research.google.com/assets/colab-badge.svg\" alt=\"Open In Colab\"/></a>"
      ]
    },
    {
      "cell_type": "markdown",
      "source": [
        "**<파이토치 실습>**\n",
        "1. Tensor"
      ],
      "metadata": {
        "id": "84uYM4bsU782"
      }
    },
    {
      "cell_type": "markdown",
      "source": [
        "1) Tensor 생성 및 초기화"
      ],
      "metadata": {
        "id": "YhuGrLZ4VDef"
      }
    },
    {
      "cell_type": "code",
      "source": [
        "import torch\n",
        "import numpy as np"
      ],
      "metadata": {
        "id": "-P1BaLbQVJQh"
      },
      "execution_count": 2,
      "outputs": []
    },
    {
      "cell_type": "code",
      "source": [
        "# 초기화되지 않은 행렬 생성\n",
        "x = torch.empty(5,3)\n",
        "print(x)"
      ],
      "metadata": {
        "colab": {
          "base_uri": "https://localhost:8080/"
        },
        "id": "enpi5m5uVlCa",
        "outputId": "55ecfeb1-870d-42c6-a42a-d1fc2f072d3d"
      },
      "execution_count": 4,
      "outputs": [
        {
          "output_type": "stream",
          "name": "stdout",
          "text": [
            "tensor([[-3.7054e-25,  3.0780e-41,  3.3631e-44],\n",
            "        [ 0.0000e+00,         nan, -1.5333e+00],\n",
            "        [ 4.4721e+21,  1.5956e+25,  4.7399e+16],\n",
            "        [ 3.7293e-08,  5.0063e-01, -1.0018e+00],\n",
            "        [-4.1815e-01,  1.7413e+00,  1.5417e-01]])\n"
          ]
        }
      ]
    },
    {
      "cell_type": "code",
      "source": [
        "# 0 ~ 1 사이의 랜덤 초기화 행렬 생성\n",
        "x = torch.rand(5,3)\n",
        "print(x)"
      ],
      "metadata": {
        "colab": {
          "base_uri": "https://localhost:8080/"
        },
        "id": "QCQ8FEtkVnv5",
        "outputId": "48cde090-8c2b-4890-a31e-5b31144198e0"
      },
      "execution_count": 5,
      "outputs": [
        {
          "output_type": "stream",
          "name": "stdout",
          "text": [
            "tensor([[0.5803, 0.8232, 0.2337],\n",
            "        [0.9722, 0.3622, 0.0040],\n",
            "        [0.1248, 0.6467, 0.8986],\n",
            "        [0.8430, 0.4466, 0.9889],\n",
            "        [0.0181, 0.7303, 0.5180]])\n"
          ]
        }
      ]
    },
    {
      "cell_type": "code",
      "source": [
        "x.mean()"
      ],
      "metadata": {
        "colab": {
          "base_uri": "https://localhost:8080/"
        },
        "id": "kscgxN6MVyy4",
        "outputId": "43992d5e-0cbb-4c60-e4ca-864b1b1d4212"
      },
      "execution_count": 6,
      "outputs": [
        {
          "output_type": "execute_result",
          "data": {
            "text/plain": [
              "tensor(0.5460)"
            ]
          },
          "metadata": {},
          "execution_count": 6
        }
      ]
    },
    {
      "cell_type": "code",
      "source": [
        "x.std()"
      ],
      "metadata": {
        "colab": {
          "base_uri": "https://localhost:8080/"
        },
        "id": "SiA8Suv8V1RP",
        "outputId": "e2ec718e-001d-4481-d02a-924754847463"
      },
      "execution_count": 7,
      "outputs": [
        {
          "output_type": "execute_result",
          "data": {
            "text/plain": [
              "tensor(0.3385)"
            ]
          },
          "metadata": {},
          "execution_count": 7
        }
      ]
    },
    {
      "cell_type": "code",
      "source": [
        "# Standard Normal Distribution에서 랜덤 초기화 행렬 생성\n",
        "x = torch.randn(5,3)\n",
        "print(x)"
      ],
      "metadata": {
        "colab": {
          "base_uri": "https://localhost:8080/"
        },
        "id": "UMQzpxyNV2hn",
        "outputId": "a18c0217-6ba4-4b62-9fe8-be2579d636d8"
      },
      "execution_count": 8,
      "outputs": [
        {
          "output_type": "stream",
          "name": "stdout",
          "text": [
            "tensor([[ 0.7508,  0.1216,  0.7256],\n",
            "        [-0.1478,  2.5342,  0.3063],\n",
            "        [ 0.2571, -0.6726, -0.8647],\n",
            "        [-1.6729, -0.4700, -0.7267],\n",
            "        [ 0.4902,  0.2752, -0.5691]])\n"
          ]
        }
      ]
    },
    {
      "cell_type": "code",
      "source": [
        "x.mean()"
      ],
      "metadata": {
        "colab": {
          "base_uri": "https://localhost:8080/"
        },
        "id": "V_YlSmG6V5AP",
        "outputId": "86e89cde-e4bb-4d5e-81f5-6ec0c7b99a8f"
      },
      "execution_count": 9,
      "outputs": [
        {
          "output_type": "execute_result",
          "data": {
            "text/plain": [
              "tensor(0.0225)"
            ]
          },
          "metadata": {},
          "execution_count": 9
        }
      ]
    },
    {
      "cell_type": "code",
      "source": [
        "x.std()"
      ],
      "metadata": {
        "colab": {
          "base_uri": "https://localhost:8080/"
        },
        "id": "K0SHKrqiV6p3",
        "outputId": "f598f9a7-2721-4e79-e949-041768ea7aed"
      },
      "execution_count": 10,
      "outputs": [
        {
          "output_type": "execute_result",
          "data": {
            "text/plain": [
              "tensor(0.9669)"
            ]
          },
          "metadata": {},
          "execution_count": 10
        }
      ]
    },
    {
      "cell_type": "code",
      "source": [
        "# 특정 값을 tensor로 만들기\n",
        "x = torch.tensor([[1.2, 4.5],[1, 2]])\n",
        "x"
      ],
      "metadata": {
        "colab": {
          "base_uri": "https://localhost:8080/"
        },
        "id": "H-Toa7BzV8jP",
        "outputId": "4846d348-a136-427f-f6c2-ae78a21e94a8"
      },
      "execution_count": 11,
      "outputs": [
        {
          "output_type": "execute_result",
          "data": {
            "text/plain": [
              "tensor([[1.2000, 4.5000],\n",
              "        [1.0000, 2.0000]])"
            ]
          },
          "metadata": {},
          "execution_count": 11
        }
      ]
    },
    {
      "cell_type": "markdown",
      "source": [
        "2) Tensor size & numpy 변환"
      ],
      "metadata": {
        "id": "xMdWQE9LWBuW"
      }
    },
    {
      "cell_type": "code",
      "source": [
        "# Size 확인\n",
        "x = torch.randn(3,4)\n",
        "print(x)\n",
        "print(\"x size : \", x.size())"
      ],
      "metadata": {
        "colab": {
          "base_uri": "https://localhost:8080/"
        },
        "id": "bPS_s_ctV-4v",
        "outputId": "3a483866-1ff4-44d1-fcf8-2e91f41afe03"
      },
      "execution_count": 12,
      "outputs": [
        {
          "output_type": "stream",
          "name": "stdout",
          "text": [
            "tensor([[ 1.0807, -0.0862, -0.4194,  0.8130],\n",
            "        [-1.4328,  0.2570,  0.5388, -0.1320],\n",
            "        [-0.1072,  0.6620,  0.7361, -0.1225]])\n",
            "x size :  torch.Size([3, 4])\n"
          ]
        }
      ]
    },
    {
      "cell_type": "code",
      "source": [
        "# Resize - \"reshape\" : any tensor\n",
        "x = torch.rand(3,4)\n",
        "y = x.reshape(4,3)\n",
        "z = x.reshape(-1, 2)\n",
        "print(x, x.size(), \"\\n\", y, y.size(), \"\\n\", z, z.size())"
      ],
      "metadata": {
        "colab": {
          "base_uri": "https://localhost:8080/"
        },
        "id": "O_XiwGOIWHWw",
        "outputId": "2ffe4277-333d-465e-bc63-4e55ca52849d"
      },
      "execution_count": 13,
      "outputs": [
        {
          "output_type": "stream",
          "name": "stdout",
          "text": [
            "tensor([[0.1260, 0.5738, 0.9339, 0.0503],\n",
            "        [0.4808, 0.6221, 0.5229, 0.4494],\n",
            "        [0.7388, 0.8834, 0.7648, 0.2077]]) torch.Size([3, 4]) \n",
            " tensor([[0.1260, 0.5738, 0.9339],\n",
            "        [0.0503, 0.4808, 0.6221],\n",
            "        [0.5229, 0.4494, 0.7388],\n",
            "        [0.8834, 0.7648, 0.2077]]) torch.Size([4, 3]) \n",
            " tensor([[0.1260, 0.5738],\n",
            "        [0.9339, 0.0503],\n",
            "        [0.4808, 0.6221],\n",
            "        [0.5229, 0.4494],\n",
            "        [0.7388, 0.8834],\n",
            "        [0.7648, 0.2077]]) torch.Size([6, 2])\n"
          ]
        }
      ]
    },
    {
      "cell_type": "code",
      "source": [
        "# Tensor to numpy\n",
        "x = torch.ones(5)\n",
        "y = x.numpy()\n",
        "print(x, type(x))\n",
        "print(y, type(y))"
      ],
      "metadata": {
        "colab": {
          "base_uri": "https://localhost:8080/"
        },
        "id": "e30Rvca-WJTQ",
        "outputId": "950fa411-db74-4437-f166-03e6c91c5984"
      },
      "execution_count": 14,
      "outputs": [
        {
          "output_type": "stream",
          "name": "stdout",
          "text": [
            "tensor([1., 1., 1., 1., 1.]) <class 'torch.Tensor'>\n",
            "[1. 1. 1. 1. 1.] <class 'numpy.ndarray'>\n"
          ]
        }
      ]
    },
    {
      "cell_type": "code",
      "source": [
        "# Numpy to tensor\n",
        "x = np.ones(5)\n",
        "y = torch.from_numpy(x)\n",
        "print(x, type(x))\n",
        "print(y, type(y))"
      ],
      "metadata": {
        "colab": {
          "base_uri": "https://localhost:8080/"
        },
        "id": "lsXDnb4aWNsQ",
        "outputId": "d6bfb1ad-c878-4fbd-bc82-0896c6b88fd7"
      },
      "execution_count": 15,
      "outputs": [
        {
          "output_type": "stream",
          "name": "stdout",
          "text": [
            "[1. 1. 1. 1. 1.] <class 'numpy.ndarray'>\n",
            "tensor([1., 1., 1., 1., 1.], dtype=torch.float64) <class 'torch.Tensor'>\n"
          ]
        }
      ]
    },
    {
      "cell_type": "markdown",
      "source": [
        "3) GPU 연산을 위한 CUDA tensor"
      ],
      "metadata": {
        "id": "tqd8sgozWS5U"
      }
    },
    {
      "cell_type": "code",
      "source": [
        "x = torch.ones(5)\n",
        "y = x.to(device=\"cuda:0\") #런타임 연결 gpu로 설정\n",
        "print(x)\n",
        "print(y)"
      ],
      "metadata": {
        "colab": {
          "base_uri": "https://localhost:8080/"
        },
        "id": "uIkrxWu5WPYp",
        "outputId": "bbfcd47b-7f15-4bb3-f0b0-1246205e12ea"
      },
      "execution_count": 3,
      "outputs": [
        {
          "output_type": "stream",
          "name": "stdout",
          "text": [
            "tensor([1., 1., 1., 1., 1.])\n",
            "tensor([1., 1., 1., 1., 1.], device='cuda:0')\n"
          ]
        }
      ]
    },
    {
      "cell_type": "markdown",
      "source": [
        "4) Tensor Autograd"
      ],
      "metadata": {
        "id": "BWMXca4FWqW6"
      }
    },
    {
      "cell_type": "code",
      "source": [
        "x = torch.tensor(([1., 2.], [3., 4.]), requires_grad=True)\n",
        "print(x)\n",
        "y = (x+2) **2 *3\n",
        "print(y)\n",
        "\n",
        "out = y.mean()\n",
        "print(out)\n",
        "\n",
        "out.backward()\n",
        "print(x.grad)"
      ],
      "metadata": {
        "colab": {
          "base_uri": "https://localhost:8080/"
        },
        "id": "tDnGCITTWYWR",
        "outputId": "73e37961-2de8-4d84-e198-5e14a8a2b446"
      },
      "execution_count": 4,
      "outputs": [
        {
          "output_type": "stream",
          "name": "stdout",
          "text": [
            "tensor([[1., 2.],\n",
            "        [3., 4.]], requires_grad=True)\n",
            "tensor([[ 27.,  48.],\n",
            "        [ 75., 108.]], grad_fn=<MulBackward0>)\n",
            "tensor(64.5000, grad_fn=<MeanBackward0>)\n",
            "tensor([[4.5000, 6.0000],\n",
            "        [7.5000, 9.0000]])\n"
          ]
        }
      ]
    },
    {
      "cell_type": "markdown",
      "source": [
        "**< RNN MNIST classifier>**"
      ],
      "metadata": {
        "id": "yRuageDrXUsN"
      }
    },
    {
      "cell_type": "markdown",
      "source": [
        "1. define hyper-parameters"
      ],
      "metadata": {
        "id": "lWJTEjrqYYNX"
      }
    },
    {
      "cell_type": "code",
      "source": [
        "import torch\n",
        "\n",
        "device = torch.device('cuda' if torch.cuda.is_available() else 'cpu')\n",
        "\n",
        "# Hyper parameters\n",
        "sequence_length = 28\n",
        "input_size = 28     # input data의 차원\n",
        "hidden_size = 128   # hidden state의 차원\n",
        "num_layers = 10     # RNN의 은닉층 레이어 개수\n",
        "num_classes = 10\n",
        "batch_size = 50\n",
        "num_epochs = 3\n",
        "learning_rate = 0.001"
      ],
      "metadata": {
        "id": "QQliKbiDWuuS"
      },
      "execution_count": 5,
      "outputs": []
    },
    {
      "cell_type": "markdown",
      "source": [
        "2. load data"
      ],
      "metadata": {
        "id": "UNu_dY8WYddt"
      }
    },
    {
      "cell_type": "code",
      "source": [
        "import torchvision #using torchvision, we can eaily download MNIST dataset\n",
        "import torchvision.transforms as transforms #to transform MNIST \"images\" to \"tensor\""
      ],
      "metadata": {
        "id": "70lqvfzEXgkS"
      },
      "execution_count": 6,
      "outputs": []
    },
    {
      "cell_type": "code",
      "source": [
        "train_data = torchvision.datasets.MNIST(root='./datasets',\n",
        "                                        train=True,\n",
        "                                        transform=transforms.ToTensor(),\n",
        "                                        download=True)\n",
        "\n",
        "test_data = torchvision.datasets.MNIST(root='./dataset',\n",
        "                                       train=False,\n",
        "                                       transform=transforms.ToTensor(),\n",
        "                                       download=True)"
      ],
      "metadata": {
        "colab": {
          "base_uri": "https://localhost:8080/",
          "height": 861,
          "referenced_widgets": [
            "6614638d42f142c8ba0781ffcda10e5e",
            "78710c9030ae4f41959e7b13574879e4",
            "b2fd88d2cb6b46ce8dc72170c74f10a3",
            "66f62e05adb84197979bb5162a1260b7",
            "c95cb3d98e8546d8b1a318e93a3aeed7",
            "d3bf54b2610546cd9bd31ade7bad0b36",
            "cd88faee28c44072b7134ed50a46dd97",
            "f4e7dcbac5974ceeb396df85a4865218",
            "4234a6e7155647ecba4d10c6826ed636",
            "4efad4dd9b7d4cebb6383677f9b381ca",
            "f1cd761f197d49cfaea19e3ee0687667",
            "358cd5a689b547d6b3edb7f5fc3c47b0",
            "37e567cc187344f2907521f492c957cf",
            "3d30e02ca29f4293a7c10d90239882e3",
            "9232e7942ca94738b5245f6b2efa16c8",
            "1399dd3e67b44610a06d7c7cd17ed70d",
            "80ff4822fca048a6839b1c6bb2b42f60",
            "76849031d84846a8b1ffadd49f60626e",
            "545977b85fb04437b2a9e58695cd2732",
            "d1312cb061684b7594afbda80ebe4064",
            "bfe42073688f454386db4ea5df1d74fa",
            "e096c5406a8849dfbf1a8ccf46ec03ea",
            "f96974d3d6be4167b040c6bbde3a2af7",
            "d184c48e96ce4dada694077b2e8545de",
            "3261938de3ef4ad1962cb62eaf419c0b",
            "a0d4f7ecaff1472387a9f5906d504d9f",
            "438a8f52b5f3423b99d53af2942f81d4",
            "aa61c28406454280a9a0d91d69e7cf83",
            "5a699a4b6bd24c1ea163f96320dacb41",
            "88c92f4e6ff5439eb49330227c1b6ce0",
            "ee3db5b06603462e904121738d2d7531",
            "7f82ce5a16614debbf13056824f4c70c",
            "de8f71b9064d4e35a62cd8daad92c1d4",
            "e42181937d2b425bb3f9dc1a6df48e1a",
            "3b984dc698fa466885ed2cee18e373ac",
            "3e72bf3288ca40838a7c7d17cef93ffe",
            "c7ad169938294082a911870792c660d4",
            "7a90d92e17cd45f09d3ff7598f2dbc7a",
            "f1211e4125fd4000a133bd18d0d182f9",
            "cc9bad1ba8bd4641bfaf83877fa15269",
            "ffc9efae853040de96f048afa63b2e42",
            "c44b1480415a42d3b04be6e37a644db6",
            "5327fccc9d3b43a283b84259eef3e5a3",
            "ca57687b6a3e4fe9abc1141d0318ca27",
            "2826cc0540664924b46aeb7cb391a116",
            "461653c834dc4a75a946b143d522254e",
            "c4c016ed77c04057825f0e32f76f8ab3",
            "e707715c1a9b4c85b2750bc720ca1f12",
            "7c087554221e4d12a7b48cdb700abb99",
            "2f0b00557a4c4a3dbeafa82b046217a4",
            "b86d6d65e8f94a8e9e4d84b8128d5a25",
            "5cffb77acf584f50901f80c5364337be",
            "c43c8b075c014d7cae44454a42162509",
            "bd03bf70d57a44dbaf9a9c7ed969e7e0",
            "922be0d375ac44e386ce55b30abdf352",
            "5e67d1b1208c4b07bc168970772b63e0",
            "93ae888dc5824f55a5cf78b838f5e5dc",
            "d5264110b59a48a082065ab6504caf6d",
            "92c4812858c64ceebacb3514d3488605",
            "11d9d44e70814370b28d4067d7a4eaf3",
            "4de2e4a53ed842f19db44720c874f395",
            "c7fe8575573948b594c16de7d27ae902",
            "f1e0555b73494477aa53f7d8aae401c9",
            "ac5d598fdcd9486693368b5187a50ad1",
            "0e5fa1e865fb4c76a82ac7bb9bfbc800",
            "9aceb047a342436ab34b8a0b2f8da0ad",
            "ae963f776ad9450abdb097c59a444fe5",
            "780cdcbe6b33462cade8119271e49bd3",
            "d5e00c9728f54a86bcd0915323136dad",
            "bb364b6a563e47beb93d34f26ac6ba38",
            "d25966e19dd54b80a277230b7058e4ec",
            "9939280b1006444c8141d3b2940b2123",
            "aa118172344540648dc38df84d0008f8",
            "0a108eaadb16482b8dbfc8b53eb7a912",
            "8f85f416867541ee90b5c5ca9bdea1d3",
            "aeab66ff26df485193515cc8daf58f95",
            "1136cefa23f84a90ab581f95f9dea978",
            "cf703a0503d34b0782fe19c7880c11b5",
            "a5181919d2b34f678c03a03fa7de6bec",
            "6083a86c46cf4c5fb957d90d521ada6a",
            "28dd22205a754b21a8e3996f6ed2d289",
            "ea10ea6e6ddb4bf79a4cdd7850119c03",
            "95f8a8fa92274e6a8d2a5f8787de04f8",
            "5ace1be579e84f8c941d70376e39a7de",
            "b43b8b02903d41f7af86c69ef7b5812d",
            "b3807dbe5c0f4798a11e0c25518bd9b1",
            "14fdd0ab33f9457c8979fc0c915d86d4",
            "884f7d688cd14986959cd3bec19ae679"
          ]
        },
        "id": "rW6qDsv4XnWB",
        "outputId": "d1708139-1ad0-42b1-9317-365d6b7b0632"
      },
      "execution_count": 7,
      "outputs": [
        {
          "output_type": "stream",
          "name": "stdout",
          "text": [
            "Downloading http://yann.lecun.com/exdb/mnist/train-images-idx3-ubyte.gz\n",
            "Downloading http://yann.lecun.com/exdb/mnist/train-images-idx3-ubyte.gz to ./datasets/MNIST/raw/train-images-idx3-ubyte.gz\n"
          ]
        },
        {
          "output_type": "display_data",
          "data": {
            "application/vnd.jupyter.widget-view+json": {
              "model_id": "6614638d42f142c8ba0781ffcda10e5e",
              "version_minor": 0,
              "version_major": 2
            },
            "text/plain": [
              "  0%|          | 0/9912422 [00:00<?, ?it/s]"
            ]
          },
          "metadata": {}
        },
        {
          "output_type": "stream",
          "name": "stdout",
          "text": [
            "Extracting ./datasets/MNIST/raw/train-images-idx3-ubyte.gz to ./datasets/MNIST/raw\n",
            "\n",
            "Downloading http://yann.lecun.com/exdb/mnist/train-labels-idx1-ubyte.gz\n",
            "Downloading http://yann.lecun.com/exdb/mnist/train-labels-idx1-ubyte.gz to ./datasets/MNIST/raw/train-labels-idx1-ubyte.gz\n"
          ]
        },
        {
          "output_type": "display_data",
          "data": {
            "application/vnd.jupyter.widget-view+json": {
              "model_id": "358cd5a689b547d6b3edb7f5fc3c47b0",
              "version_minor": 0,
              "version_major": 2
            },
            "text/plain": [
              "  0%|          | 0/28881 [00:00<?, ?it/s]"
            ]
          },
          "metadata": {}
        },
        {
          "output_type": "stream",
          "name": "stdout",
          "text": [
            "Extracting ./datasets/MNIST/raw/train-labels-idx1-ubyte.gz to ./datasets/MNIST/raw\n",
            "\n",
            "Downloading http://yann.lecun.com/exdb/mnist/t10k-images-idx3-ubyte.gz\n",
            "Downloading http://yann.lecun.com/exdb/mnist/t10k-images-idx3-ubyte.gz to ./datasets/MNIST/raw/t10k-images-idx3-ubyte.gz\n"
          ]
        },
        {
          "output_type": "display_data",
          "data": {
            "application/vnd.jupyter.widget-view+json": {
              "model_id": "f96974d3d6be4167b040c6bbde3a2af7",
              "version_minor": 0,
              "version_major": 2
            },
            "text/plain": [
              "  0%|          | 0/1648877 [00:00<?, ?it/s]"
            ]
          },
          "metadata": {}
        },
        {
          "output_type": "stream",
          "name": "stdout",
          "text": [
            "Extracting ./datasets/MNIST/raw/t10k-images-idx3-ubyte.gz to ./datasets/MNIST/raw\n",
            "\n",
            "Downloading http://yann.lecun.com/exdb/mnist/t10k-labels-idx1-ubyte.gz\n",
            "Downloading http://yann.lecun.com/exdb/mnist/t10k-labels-idx1-ubyte.gz to ./datasets/MNIST/raw/t10k-labels-idx1-ubyte.gz\n"
          ]
        },
        {
          "output_type": "display_data",
          "data": {
            "application/vnd.jupyter.widget-view+json": {
              "model_id": "e42181937d2b425bb3f9dc1a6df48e1a",
              "version_minor": 0,
              "version_major": 2
            },
            "text/plain": [
              "  0%|          | 0/4542 [00:00<?, ?it/s]"
            ]
          },
          "metadata": {}
        },
        {
          "output_type": "stream",
          "name": "stdout",
          "text": [
            "Extracting ./datasets/MNIST/raw/t10k-labels-idx1-ubyte.gz to ./datasets/MNIST/raw\n",
            "\n",
            "Downloading http://yann.lecun.com/exdb/mnist/train-images-idx3-ubyte.gz\n",
            "Downloading http://yann.lecun.com/exdb/mnist/train-images-idx3-ubyte.gz to ./dataset/MNIST/raw/train-images-idx3-ubyte.gz\n"
          ]
        },
        {
          "output_type": "display_data",
          "data": {
            "application/vnd.jupyter.widget-view+json": {
              "model_id": "2826cc0540664924b46aeb7cb391a116",
              "version_minor": 0,
              "version_major": 2
            },
            "text/plain": [
              "  0%|          | 0/9912422 [00:00<?, ?it/s]"
            ]
          },
          "metadata": {}
        },
        {
          "output_type": "stream",
          "name": "stdout",
          "text": [
            "Extracting ./dataset/MNIST/raw/train-images-idx3-ubyte.gz to ./dataset/MNIST/raw\n",
            "\n",
            "Downloading http://yann.lecun.com/exdb/mnist/train-labels-idx1-ubyte.gz\n",
            "Downloading http://yann.lecun.com/exdb/mnist/train-labels-idx1-ubyte.gz to ./dataset/MNIST/raw/train-labels-idx1-ubyte.gz\n"
          ]
        },
        {
          "output_type": "display_data",
          "data": {
            "application/vnd.jupyter.widget-view+json": {
              "model_id": "5e67d1b1208c4b07bc168970772b63e0",
              "version_minor": 0,
              "version_major": 2
            },
            "text/plain": [
              "  0%|          | 0/28881 [00:00<?, ?it/s]"
            ]
          },
          "metadata": {}
        },
        {
          "output_type": "stream",
          "name": "stdout",
          "text": [
            "Extracting ./dataset/MNIST/raw/train-labels-idx1-ubyte.gz to ./dataset/MNIST/raw\n",
            "\n",
            "Downloading http://yann.lecun.com/exdb/mnist/t10k-images-idx3-ubyte.gz\n",
            "Downloading http://yann.lecun.com/exdb/mnist/t10k-images-idx3-ubyte.gz to ./dataset/MNIST/raw/t10k-images-idx3-ubyte.gz\n"
          ]
        },
        {
          "output_type": "display_data",
          "data": {
            "application/vnd.jupyter.widget-view+json": {
              "model_id": "ae963f776ad9450abdb097c59a444fe5",
              "version_minor": 0,
              "version_major": 2
            },
            "text/plain": [
              "  0%|          | 0/1648877 [00:00<?, ?it/s]"
            ]
          },
          "metadata": {}
        },
        {
          "output_type": "stream",
          "name": "stdout",
          "text": [
            "Extracting ./dataset/MNIST/raw/t10k-images-idx3-ubyte.gz to ./dataset/MNIST/raw\n",
            "\n",
            "Downloading http://yann.lecun.com/exdb/mnist/t10k-labels-idx1-ubyte.gz\n",
            "Downloading http://yann.lecun.com/exdb/mnist/t10k-labels-idx1-ubyte.gz to ./dataset/MNIST/raw/t10k-labels-idx1-ubyte.gz\n"
          ]
        },
        {
          "output_type": "display_data",
          "data": {
            "application/vnd.jupyter.widget-view+json": {
              "model_id": "cf703a0503d34b0782fe19c7880c11b5",
              "version_minor": 0,
              "version_major": 2
            },
            "text/plain": [
              "  0%|          | 0/4542 [00:00<?, ?it/s]"
            ]
          },
          "metadata": {}
        },
        {
          "output_type": "stream",
          "name": "stdout",
          "text": [
            "Extracting ./dataset/MNIST/raw/t10k-labels-idx1-ubyte.gz to ./dataset/MNIST/raw\n",
            "\n"
          ]
        }
      ]
    },
    {
      "cell_type": "code",
      "source": [
        "import matplotlib.pyplot as plt"
      ],
      "metadata": {
        "id": "Ae7mBdg5Xtlp"
      },
      "execution_count": 8,
      "outputs": []
    },
    {
      "cell_type": "code",
      "source": [
        "print(test_data[0][0].shape)\n",
        "print(test_data[0][1])"
      ],
      "metadata": {
        "colab": {
          "base_uri": "https://localhost:8080/"
        },
        "id": "TYerLfXQXyoC",
        "outputId": "53a389ca-4205-4280-b4de-61c448d963e1"
      },
      "execution_count": 9,
      "outputs": [
        {
          "output_type": "stream",
          "name": "stdout",
          "text": [
            "torch.Size([1, 28, 28])\n",
            "7\n"
          ]
        }
      ]
    },
    {
      "cell_type": "code",
      "source": [
        "plt.imshow(test_data[0][0].reshape(28,28))\n",
        "plt.title(test_data[0][1])\n",
        "plt.show()"
      ],
      "metadata": {
        "colab": {
          "base_uri": "https://localhost:8080/",
          "height": 281
        },
        "id": "sa1GbijtX0mx",
        "outputId": "135c8cd0-4130-4296-e263-220b042acaa3"
      },
      "execution_count": 10,
      "outputs": [
        {
          "output_type": "display_data",
          "data": {
            "image/png": "[encoded data removed]",
            "text/plain": [
              "<Figure size 432x288 with 1 Axes>"
            ]
          },
          "metadata": {
            "needs_background": "light"
          }
        }
      ]
    },
    {
      "cell_type": "code",
      "source": [
        "for i in range(10):\n",
        "  plt.subplot(1,10,i+1)\n",
        "  plt.imshow(test_data[i][0].reshape(28,28), cmap='gray')\n",
        "  plt.title(test_data[i][-1])"
      ],
      "metadata": {
        "colab": {
          "base_uri": "https://localhost:8080/",
          "height": 92
        },
        "id": "DzYkeYU6X3Di",
        "outputId": "b9b561de-12e6-4837-e23e-bd572e6b21a9"
      },
      "execution_count": 11,
      "outputs": [
        {
          "output_type": "display_data",
          "data": {
            "image/png": "[encoded data removed]",
            "text/plain": [
              "<Figure size 432x288 with 10 Axes>"
            ]
          },
          "metadata": {
            "needs_background": "light"
          }
        }
      ]
    },
    {
      "cell_type": "markdown",
      "source": [
        "3. define data loader"
      ],
      "metadata": {
        "id": "jRSh_taXYh6c"
      }
    },
    {
      "cell_type": "code",
      "source": [
        "train_loader = torch.utils.data.DataLoader(dataset=train_data,\n",
        "                                          batch_size=batch_size,\n",
        "                                          shuffle=True)\n",
        "test_loader = torch.utils.data.DataLoader(dataset=test_data,\n",
        "                                          batch_size=batch_size,\n",
        "                                          shuffle=False)   "
      ],
      "metadata": {
        "id": "gpk1KyryX6MR"
      },
      "execution_count": 12,
      "outputs": []
    },
    {
      "cell_type": "code",
      "source": [
        "# cf) Check dataloader shape\n",
        "image, label = next(iter(test_loader))\n",
        "print(image.size()) # [Batch, Channel, Height, Width]"
      ],
      "metadata": {
        "colab": {
          "base_uri": "https://localhost:8080/"
        },
        "id": "jU1YjNM1YA6p",
        "outputId": "830b7897-3610-4bc7-ec17-19625e7dc494"
      },
      "execution_count": 13,
      "outputs": [
        {
          "output_type": "stream",
          "name": "stdout",
          "text": [
            "torch.Size([50, 1, 28, 28])\n"
          ]
        }
      ]
    },
    {
      "cell_type": "markdown",
      "source": [
        "4. define model"
      ],
      "metadata": {
        "id": "x7PPaSEEYlTX"
      }
    },
    {
      "cell_type": "code",
      "source": [
        "import torch.nn as nn\n",
        "import torch.nn.functional as F"
      ],
      "metadata": {
        "id": "q8sqqhuVYMah"
      },
      "execution_count": 14,
      "outputs": []
    },
    {
      "cell_type": "code",
      "source": [
        "class RNN(nn.Module):\n",
        "  def __init__(self, intput_size, hidden_size, num_layers, num_classes):\n",
        "    super(RNN, self).__init__()\n",
        "    self.hidden_size = hidden_size\n",
        "    self.num_layers = num_layers\n",
        "    self.lstm = nn.LSTM(input_size, hidden_size, num_layers, batch_first=True)\n",
        "    self.fc = nn.Linear(hidden_size, num_classes)\n",
        "\n",
        "  def forward(self, x):\n",
        "    # set initial hidden states and cell states\n",
        "    h0 = torch.zeros(self.num_layers, x.size(0), self.hidden_size).to(device) # torch.size([10, 50, 128])\n",
        "    c0 = torch.zeros(self.num_layers, x.size(0), self.hidden_size).to(device) # torch.size([10, 50, 128])\n",
        "\n",
        "    #Forward propagate LSTM\n",
        "    out, _  = self.lstm(x, (h0, c0)) # output: tensor [batch_size, seq_length, hidden_size]\n",
        "    # lstm의 출력 형식: (hidden state, cell state)\n",
        "\n",
        "    #Decode the hidden state of the last time step\n",
        "    out = self.fc(out[:,-1,:])\n",
        "\n",
        "    return out\n",
        "\n",
        "model = RNN(input_size, hidden_size, num_layers, num_classes).to(device)"
      ],
      "metadata": {
        "id": "WSDmZjhYYPtZ"
      },
      "execution_count": 15,
      "outputs": []
    },
    {
      "cell_type": "markdown",
      "source": [
        "5. set loss & optimizer"
      ],
      "metadata": {
        "id": "bVPGXt1mYoYo"
      }
    },
    {
      "cell_type": "code",
      "source": [
        "criterion = nn.CrossEntropyLoss()\n",
        "optimizer = torch.optim.Adam(model.parameters(), lr=learning_rate)"
      ],
      "metadata": {
        "id": "8H3E2KesYRlp"
      },
      "execution_count": 16,
      "outputs": []
    },
    {
      "cell_type": "markdown",
      "source": [
        "6. train & test"
      ],
      "metadata": {
        "id": "FUP4t8HhYuZX"
      }
    },
    {
      "cell_type": "code",
      "source": [
        "####### Train #######\n",
        "total_step = len(train_loader)\n",
        "for epoch in range(num_epochs):\n",
        "  for i, (image, label) in enumerate(train_loader):\n",
        "    image = image.reshape(-1, sequence_length, input_size).to(device)\n",
        "    label = label.to(device)\n",
        "\n",
        "    # Forward\n",
        "    output = model(image)\n",
        "    loss = criterion(output, label)\n",
        "\n",
        "    # Backward and optimize\n",
        "    optimizer.zero_grad()\n",
        "    loss.backward()\n",
        "    optimizer.step()\n",
        "\n",
        "    if (i+1) % 400 == 0:\n",
        "      print(\"Epoch [{}/{}], Step[{}/{}], Loss:{:.4f}\".format(epoch+1, num_epochs, i+1, total_step, loss.item()))"
      ],
      "metadata": {
        "colab": {
          "base_uri": "https://localhost:8080/"
        },
        "id": "bM8RGhpPYsix",
        "outputId": "0930abef-1c74-4036-9dd3-502dee3a407a"
      },
      "execution_count": 17,
      "outputs": [
        {
          "output_type": "stream",
          "name": "stdout",
          "text": [
            "Epoch [1/3], Step[400/1200], Loss:0.9449\n",
            "Epoch [1/3], Step[800/1200], Loss:0.3095\n",
            "Epoch [1/3], Step[1200/1200], Loss:0.4773\n",
            "Epoch [2/3], Step[400/1200], Loss:0.4289\n",
            "Epoch [2/3], Step[800/1200], Loss:0.1170\n",
            "Epoch [2/3], Step[1200/1200], Loss:0.1282\n",
            "Epoch [3/3], Step[400/1200], Loss:0.2694\n",
            "Epoch [3/3], Step[800/1200], Loss:0.0952\n",
            "Epoch [3/3], Step[1200/1200], Loss:0.0295\n"
          ]
        }
      ]
    },
    {
      "cell_type": "code",
      "source": [
        "######## TEST ########\n",
        "with torch.no_grad():\n",
        "  correct = 0\n",
        "\n",
        "  for image, label in test_loader:\n",
        "    image = image.reshape(-1, sequence_length, input_size).to(device)\n",
        "    label = label.to(device)\n",
        "    output = model(image)\n",
        "    _, pred = torch.max(output.data, 1)\n",
        "    correct += (pred == label).sum().item()\n",
        "\n",
        "  print('Test Accuracy of RNN model on the {} test images: {}%'.format(len(test_data), 100 * correct / len(test_data)))"
      ],
      "metadata": {
        "colab": {
          "base_uri": "https://localhost:8080/"
        },
        "id": "3GvqlO1rYxmx",
        "outputId": "f2d57c05-f740-4678-fa68-9c04f80dc828"
      },
      "execution_count": 18,
      "outputs": [
        {
          "output_type": "stream",
          "name": "stdout",
          "text": [
            "Test Accuracy of RNN model on the 10000 test images: 97.29%\n"
          ]
        }
      ]
    },
    {
      "cell_type": "markdown",
      "source": [
        "**< RNN IMDB Classifier>**"
      ],
      "metadata": {
        "id": "HCeLt4BSZYR4"
      }
    },
    {
      "cell_type": "markdown",
      "source": [
        "Define Hyper-parameters and Device Configuration"
      ],
      "metadata": {
        "id": "LVDzNcKJZhwN"
      }
    },
    {
      "cell_type": "code",
      "source": [
        "import torch\n",
        "import torch.nn as nn\n",
        "import torch.nn.functional as F\n",
        "import torchsummary\n",
        "import torchtext\n",
        "from torchtext import data, datasets"
      ],
      "metadata": {
        "id": "wHAbglsOZUFp"
      },
      "execution_count": 19,
      "outputs": []
    },
    {
      "cell_type": "code",
      "source": [
        "# Device configuration\n",
        "device = torch.device('cuda' if torch.cuda.is_available() else 'cpu')\n",
        "\n",
        "# Hyper-parameters\n",
        "batch_size = 64\n",
        "learning_rate = 0.005\n",
        "num_epochs = 5\n",
        "\n",
        "out_node = 1 ## binary {neg, pos}\n",
        "num_layers = 3\n",
        "embedd_dim = 128  # 단어를 얼만큼의 차원으로 임베딩할 것인가\n",
        "hidden_dim = 256  \n",
        "valid_percent = 0.2  # train data를 train data, validation data 로 분리할 때의 비율 \n",
        "MIN_FREQ = 10"
      ],
      "metadata": {
        "id": "qTo9XDkYZjup"
      },
      "execution_count": 20,
      "outputs": []
    },
    {
      "cell_type": "markdown",
      "source": [
        "2. Download IMDB"
      ],
      "metadata": {
        "id": "-vWqrOUIZowD"
      }
    },
    {
      "cell_type": "code",
      "source": [
        "TEXT = torchtext.legacy.data.Field(sequential=True, batch_first=True, lower=True)\n",
        "# TEXT = data.Field(tokenize='spacy')\n",
        "LABEL = torchtext.legacy.data.LabelField(sequential=False, dtype=torch.float, batch_first=True)\n",
        "\n",
        "train_data, test_data = torchtext.legacy.datasets.IMDB.splits(TEXT, LABEL)"
      ],
      "metadata": {
        "colab": {
          "base_uri": "https://localhost:8080/"
        },
        "id": "rxuoCUpNZleR",
        "outputId": "b663ce80-7dde-4bdf-ffc2-4aecda29938b"
      },
      "execution_count": 21,
      "outputs": [
        {
          "output_type": "stream",
          "name": "stdout",
          "text": [
            "downloading aclImdb_v1.tar.gz\n"
          ]
        },
        {
          "output_type": "stream",
          "name": "stderr",
          "text": [
            "100%|██████████| 84.1M/84.1M [00:02<00:00, 30.1MB/s]\n"
          ]
        }
      ]
    },
    {
      "cell_type": "code",
      "source": [
        "# cf) check data\n",
        "print(\"train:\", len(train_data), \"test: \",len(test_data))\n",
        "print(vars(train_data.examples[0]))"
      ],
      "metadata": {
        "colab": {
          "base_uri": "https://localhost:8080/"
        },
        "id": "ZRyLBzutZrKJ",
        "outputId": "1cdc2c8e-4f5a-4a19-a4f3-3e3cb282d98f"
      },
      "execution_count": 22,
      "outputs": [
        {
          "output_type": "stream",
          "name": "stdout",
          "text": [
            "train: 25000 test:  25000\n",
            "{'text': ['this', 'film', 'reminds', 'me', 'of', '42nd', 'street', 'starring', 'bebe', 'daniels', 'and', 'ruby', 'keeler.', 'when', 'i', 'watch', 'this', 'film', 'a', 'lot', 'of', 'it', 'reminded', 'me', 'of', '42nd', 'street,', 'especially', 'the', 'character', 'eloise', \"who's\", 'a', 'temperamental', 'star', 'and', 'she', 'ends', 'up', 'falling', 'and', 'breaks', 'her', 'ankle,', 'like', 'bebe', 'daniels', 'did', 'in', '42nd', 'street', 'and', 'another', 'performer', 'gets', 'the', 'part', 'and', 'become', 'a', 'star.', 'this', 'film,', 'like', 'most', 'race', 'films,', 'keeps', 'people', 'watching', 'because', 'of', 'the', 'great', 'entertainment.', 'race', 'films', 'always', 'showed', 'black', 'entertainment', 'as', 'it', 'truly', 'was', 'that', 'was', 'popular', 'in', 'that', 'time', 'era.', 'the', 'dancing', 'styles,', 'the', 'music,', 'dressing', 'styles,', \"you'll\", 'love', 'it.', 'this', 'movie', 'could', 'of', 'been', 'big', 'if', 'it', 'was', 'made', 'in', 'hollywood,', 'it', 'would', 'of', 'had', 'better', 'scenery,', 'better', 'filming,', 'and', 'more', 'money', 'which', 'would', 'make', 'any', 'movie', 'better.', 'but', 'its', 'worth', 'watching', 'because', 'it', 'is', 'good', 'and', 'micheaux', 'does', 'good', 'with', 'the', 'little', 'he', 'has.', 'i', 'have', 'to', 'say', 'out', 'of', 'all', \"micheaux's\", 'films,', 'swing', 'is', 'the', 'best!', 'the', 'movie', 'features', 'singers,', 'dancers,', 'actresses,', 'and', 'actors', 'who', 'were', 'popular', 'but', 'forgotten', 'today.', 'doli', 'armena,', 'a', 'awesome', 'female', 'trumpet', 'player', 'who', 'can', 'blow', 'the', 'horn', 'so', 'good', 'that', 'you', 'think', 'gabriel', 'is', 'blowing', 'a', 'horn', 'in', 'the', 'sky.', 'the', 'sexy,', 'hot', 'female', 'dancer', 'consuela', 'harris', 'would', 'put', 'ann', 'miller', 'and', 'gyspy', 'rose', 'lee', 'to', 'shame.<br', '/><br', '/>adding', 'further', 'info...', 'popular', 'blues', 'singer', 'of', 'the', \"20's\", 'and', \"30's\", 'cora', 'green', 'is', 'the', 'focus', 'of', 'the', 'film,', \"she's\", 'mandy,', 'a', 'good,', 'hard', 'working', 'woman', 'with', 'a', 'no', 'good', 'man', 'who', 'takes', 'her', 'money', 'and', 'spend', 'it', 'on', 'other', 'women.', 'a', 'nosy', 'neighbor', 'played', 'by', 'amanda', 'randolph', 'tells', 'mandy', 'what', 'she', 'seen', 'and', 'heard', 'and', 'mandy', 'goes', 'down', 'to', 'the', 'club', 'and', 'catches', 'her', 'man', 'with', 'an', 'attractive,', 'curvy', 'woman', 'by', 'the', 'name', 'of', 'eloise', '(played', 'hazel', 'diaz,', 'a', 'hot-cha', 'entertainer', 'in', 'the', \"30's)\", 'and', 'a', 'fight', 'breaks', 'out.', 'then', 'mandy', 'goes', 'to', 'harlem', 'where', 'she', 'reunites', 'with', 'a', 'somewhat', 'guardian', 'angel', 'lena', 'played', 'by', 'one', 'of', 'the', 'most', 'beautiful', 'women', 'in', 'movies', 'dorothy', 'van', 'engle.', 'lena', 'provides', 'mandy', 'with', 'a', 'home,', 'a', 'job,', 'and', 'helps', 'her', 'become', 'a', 'star', 'when', 'temperamental', 'cora', 'smith', '(played', 'by', 'hazel,', 'i', 'guess', \"she's\", 'playing', 'two', 'parts', 'or', 'maybe', 'she', 'changed', 'her', 'stage', 'name)', 'tries', 'to', 'ruin', 'the', 'show', 'with', 'her', 'bad', 'behavior.', 'when', 'cora', 'gets', 'drunk', 'and', 'breaks', 'her', 'leg,', 'lena', 'convinces', 'everyone', 'that', 'mandy', 'is', 'right', 'for', 'the', 'job', 'and', 'lena', 'is', 'right', 'and', 'a', 'star', 'is', 'born', 'in', 'mandy.', 'tall,', 'long,', 'lanky,', 'but', 'handsome', 'carman', 'newsome', 'is', 'the', 'cool', 'aspiring', 'producer', 'who', 'lena', 'looks', 'out', 'for', 'as', 'well.', 'pretty', 'boy', 'larry', 'seymour', 'plays', 'the', 'no', 'good', 'man', 'but', 'after', 'lena', 'threatens', 'him,', 'he', 'might', 'shape', 'up.', 'there', 'are', 'a', 'few', 'highlights', 'but', 'the', 'one', 'that', 'sticks', 'out', 'to', 'me', 'is', 'the', 'part', 'where', 'cora', 'smith', '(hazel', 'diaz)', 'struts', 'in', 'late', 'for', 'rehearsal', 'and', 'goes', 'off', 'on', 'everyone', 'and', 'then', 'her', 'man', 'comes', 'in', 'and', 'punches', 'her', 'in', 'the', 'jaw', 'but', \"that's\", 'not', 'enough,', 'she', 'almost', 'gets', 'into', 'a', 'fight', 'with', 'mandy', 'again.', 'in', 'between', \"there's\", 'great', 'entertainment', 'by', 'chorus', 'girls,', 'tap', 'dancers,', 'shake', 'dancers,', 'swing', 'music,', 'and', 'blues', 'singing.', \"there's\", 'even', 'white', 'people', 'watching', 'the', 'entertainment,', 'i', 'wonder', 'where', 'micheaux', 'found', 'them,', \"there's\", 'even', 'a', 'scene', 'where', \"there's\", 'blacks', 'and', 'whites', 'sitting', 'together', 'at', 'the', 'club,', 'micheaux', 'frequently', 'integrated', 'blacks', 'and', 'whites', 'in', 'his', 'films,', 'he', 'should', 'be', 'commended', 'for', 'such', 'a', 'bold', 'move.<br', '/><br', '/>this', 'movie', 'was', 'the', 'first', 'race', 'film', 'i', 'really', 'enjoyed', 'and', 'it', 'helped', 'introduced', 'me', 'to', 'oscar', 'micheaux.', 'this', 'movie', 'is', 'one', 'of', 'the', 'best', 'of', 'the', 'race', 'film', 'genre,', 'its', 'a', 'behind', 'the', 'scenes', 'story', 'about', 'the', 'ups', 'and', 'downs', 'of', 'show', 'business.<br', '/><br', '/>no', 'these', 'early', 'race', 'films', 'may', 'not', 'be', 'the', 'best,', \"can't\", 'be', 'compared', 'with', 'hallelujah,', 'green', 'pastures,', 'stormy', 'weather,', 'cabin', 'in', 'the', 'sky,', 'carmen', 'jones,', 'or', 'any', 'other', 'hollywood', 'films', 'but', 'their', 'great', 'to', 'watch', 'because', 'their', 'early', 'signs', 'of', 'black', 'film-making', 'and', 'plus', 'these', 'films', 'provide', 'a', 'glimpse', 'into', 'black', 'life', 'and', 'black', 'entertainment', 'through', 'a', 'black', \"person's\", 'eyes.', 'these', 'films', 'gave', 'blacks', 'a', 'chance', 'to', 'play', 'people', 'from', 'all', 'walks', 'of', 'life,', 'be', 'beautiful,', 'classy,', 'and', 'elegant,', 'and', 'not', 'just', 'be', 'stereotypes', 'or', 'how', 'whites', 'felt', 'blacks', 'should', 'be', 'portrayed', 'like', 'in', 'hollywood.', 'most', 'of', 'the', 'actors', 'and', 'actresses', 'of', 'these', 'race', 'films', \"weren't\", 'the', 'best,', 'but', 'they', 'were', 'the', 'only', 'ones', 'that', 'could', 'be', 'afforded', 'at', 'the', 'time,', 'micheaux', 'and', 'spencer', 'williams', \"couldn't\", 'afford', 'nina', 'mae', 'mckinney,', 'josephine', 'baker,', 'ethel', 'waters,', 'fredi', 'washington,', 'paul', 'robeson,', 'rex', 'ingram,', 'and', 'more', 'of', 'the', 'bigger', 'stars,', 'so', 'micheaux', 'and', 'other', 'black', 'and', 'white', 'race', 'film-makers', 'would', 'use', 'nightclub', 'performers', 'in', 'their', 'movies,', 'some', 'were', 'good,', 'some', \"weren't\", 'great', 'actors', 'and', 'actresses,', 'but', 'i', 'think', 'micheaux', 'and', 'others', 'knew', 'most', \"weren't\", 'good', 'actors', 'and', 'actresses', 'but', 'they', 'were', 'used', 'more', 'as', 'apart', 'of', 'an', 'experiment', 'than', 'for', 'true', 'talent,', 'they', 'just', 'wanted', 'their', 'stories', 'told,', 'and', 'in', 'return', 'many', 'black', 'performers', 'got', 'to', 'perform', 'their', 'true', 'talents', 'in', 'the', 'films.', 'for', 'some', 'true', 'actors/actresses', 'race', 'films', 'were', 'the', 'only', 'type', 'of', 'films', 'they', 'could', 'get', 'work,', 'especially', 'if', 'they', \"didn't\", 'want', 'to', 'play', 'hollywood', 'stereotypes,', 'so', 'i', 'think', \"you'll\", 'be', 'able', 'to', 'spot', 'the', 'true', 'actors/actresses', 'from', 'the', 'nightclub', 'performers.', 'these', 'race', 'films', 'are', 'very', 'historic,', 'they', 'could', 'have', 'been', 'lost', 'forever,', 'many', 'are', 'lost,', 'maybe', 'race', 'films', \"aren't\", 'the', 'greatest', 'example', 'of', 'cinema', 'but', 'even', 'hollywood', 'films', \"didn't\", 'start', 'out', 'great', 'in', 'the', 'beginning.', 'i', 'think', 'if', 'the', 'race', 'film', 'genre', 'continued,', 'it', 'would', 'have', 'better.', 'if', 'your', 'looking', 'for', 'great', 'acting,', 'most', 'race', 'films', \"aren't\", 'the', 'ones,', 'but', 'if', 'your', 'looking', 'for', 'a', 'real', 'example', 'of', 'black', 'entertainment', 'and', 'how', 'blacks', 'should', 'have', 'been', 'portrayed', 'in', 'films,', 'than', 'watch', 'race', 'films.', 'there', 'are', 'some', 'entertaining', 'race', 'films', 'with', 'a', 'good', 'acting', 'cast,', 'moon', 'over', 'harlem,', 'body', 'and', 'soul,', 'paradise', 'in', 'harlem,', 'keep', 'punching,', 'sunday', 'sinners,', 'dark', 'manhattan,', 'broken', 'strings,', 'boy!', 'what', 'a', 'girl,', 'mystery', 'in', 'swing,', 'miracle', 'in', 'harlem,', 'and', 'sepia', 'cinderella,', 'that', 'not', 'only', 'has', 'good', 'entertainment', 'but', 'good', 'acting.'], 'label': 'pos'}\n"
          ]
        }
      ]
    },
    {
      "cell_type": "markdown",
      "source": [
        "3. Make Validation Dataset"
      ],
      "metadata": {
        "id": "0El4hkEeZ8dM"
      }
    },
    {
      "cell_type": "code",
      "source": [
        "train_data, valid_data = train_data.split(split_ratio=1-valid_percent)"
      ],
      "metadata": {
        "id": "ULyMw-tIZ4yB"
      },
      "execution_count": 23,
      "outputs": []
    },
    {
      "cell_type": "code",
      "source": [
        "# cf) check each data\n",
        "print(\"train: \", len(train_data))\n",
        "print(\"valid: \", len(valid_data))\n",
        "print(\"test : \", len(test_data))"
      ],
      "metadata": {
        "colab": {
          "base_uri": "https://localhost:8080/"
        },
        "id": "Uj5Y6Gc_Z--Z",
        "outputId": "03fccb1c-889f-4a34-a0f8-0dfc2bbf2a1f"
      },
      "execution_count": 24,
      "outputs": [
        {
          "output_type": "stream",
          "name": "stdout",
          "text": [
            "train:  20000\n",
            "valid:  5000\n",
            "test :  25000\n"
          ]
        }
      ]
    },
    {
      "cell_type": "markdown",
      "source": [
        "4. 단어 집합 생성"
      ],
      "metadata": {
        "id": "1tE0D7r0aGKF"
      }
    },
    {
      "cell_type": "code",
      "source": [
        "TEXT.build_vocab(train_data, min_freq=MIN_FREQ) # N번 이상 나온 단어들에 대하여 vocab set 생성\n",
        "LABEL.build_vocab(train_data)"
      ],
      "metadata": {
        "id": "P-ByMupAaCfp"
      },
      "execution_count": 25,
      "outputs": []
    },
    {
      "cell_type": "code",
      "source": [
        "# cf) check Vocab Set\n",
        "vocab_size = len(TEXT.vocab)\n",
        "print(\"단어 집합의 크기: \", vocab_size)   # 해당 갯수의 단어를 가지고 분석을 진행"
      ],
      "metadata": {
        "colab": {
          "base_uri": "https://localhost:8080/"
        },
        "id": "b7aamlYXaJDh",
        "outputId": "3bf31ab5-6063-40d7-dd21-7ae855ab3f3e"
      },
      "execution_count": 26,
      "outputs": [
        {
          "output_type": "stream",
          "name": "stdout",
          "text": [
            "단어 집합의 크기:  23266\n"
          ]
        }
      ]
    },
    {
      "cell_type": "markdown",
      "source": [
        "5. define dataloader"
      ],
      "metadata": {
        "id": "ad5B3ujAaWKH"
      }
    },
    {
      "cell_type": "code",
      "source": [
        "train_loader = torchtext.legacy.data.BucketIterator(dataset=train_data,\n",
        "                                  batch_size=batch_size,\n",
        "                                  device=device)\n",
        "\n",
        "valid_loader = torchtext.legacy.data.BucketIterator(dataset=valid_data,\n",
        "                                  batch_size=batch_size,\n",
        "                                  device=device)\n",
        "\n",
        "test_loader = torchtext.legacy.data.BucketIterator(dataset=test_data,\n",
        "                                  batch_size=batch_size,\n",
        "                                  train=False,\n",
        "                                  device=device)"
      ],
      "metadata": {
        "id": "CtVh3aDTaLa5"
      },
      "execution_count": 27,
      "outputs": []
    },
    {
      "cell_type": "markdown",
      "source": [
        "6. define model"
      ],
      "metadata": {
        "id": "WIVLLeUmabbl"
      }
    },
    {
      "cell_type": "code",
      "source": [
        "class Sentiment(nn.Module):\n",
        "  def __init__(self, num_vocab, embedding_dim, hidden_dim, num_layers, out_node, drop_percent=0.2):\n",
        "    super(Sentiment, self).__init__()\n",
        "\n",
        "    self.num_vocab = num_vocab\n",
        "    \n",
        "    self.embed = nn.Embedding(num_embeddings=num_vocab, embedding_dim=embedd_dim)\n",
        "    # 앞서 구성한 단어 set에 대해서, 임베딩 차원에 맞춰서 임베딩을 진행\n",
        "    self.gru = nn.GRU(input_size=embedding_dim, hidden_size=hidden_dim, num_layers=num_layers, batch_first=True)\n",
        "    self.dropout = nn.Dropout(drop_percent)\n",
        "\n",
        "    self.fc = nn.Linear(hidden_dim, out_node)    \n",
        "\n",
        "  def forward(self, x):\n",
        "    x = self.embed(x)\n",
        "    out, hidden = self.gru(x)\n",
        "    out = self.dropout(out)\n",
        "    out = self.fc(out[:,-1,:])\n",
        "    return out"
      ],
      "metadata": {
        "id": "fbbxH0QvaZso"
      },
      "execution_count": 28,
      "outputs": []
    },
    {
      "cell_type": "code",
      "source": [
        "model = Sentiment(vocab_size, embedd_dim, hidden_dim, num_layers, out_node).to(device)"
      ],
      "metadata": {
        "id": "eCQWoZu_aezg"
      },
      "execution_count": 29,
      "outputs": []
    },
    {
      "cell_type": "markdown",
      "source": [
        "7. set loss & optimizer"
      ],
      "metadata": {
        "id": "1osMKhZKaiiQ"
      }
    },
    {
      "cell_type": "code",
      "source": [
        "criterion = nn.BCEWithLogitsLoss().to(device)\n",
        "optimizer = torch.optim.Adam(model.parameters(), lr=learning_rate)"
      ],
      "metadata": {
        "id": "E1JZ72JnagiI"
      },
      "execution_count": 30,
      "outputs": []
    },
    {
      "cell_type": "markdown",
      "source": [
        "8. Train & Test"
      ],
      "metadata": {
        "id": "_et6jY2bao4M"
      }
    },
    {
      "cell_type": "markdown",
      "source": [
        "# train function"
      ],
      "metadata": {
        "id": "3_becMlcauVf"
      }
    },
    {
      "cell_type": "code",
      "source": [
        "def train(model, train_loader, optimizer, criterion):\n",
        "  epoch_loss, acc = 0, 0\n",
        "  model.train()\n",
        "\n",
        "  for i, data in enumerate(train_loader):\n",
        "    text = data.text\n",
        "    label = data.label\n",
        "\n",
        "    out = model(text).squeeze(1)    # out의 크기가 [batch size, 1]이므로 squeeze해서 [batch size]로 size를 변경해줘야 함 \n",
        "    loss = criterion(out, label)\n",
        "\n",
        "    optimizer.zero_grad()\n",
        "    loss.backward()\n",
        "    optimizer.step()\n",
        "    acc += (torch.round(torch.sigmoid(out))==label).sum()\n",
        "    # 모델의 예측 값과 라벨이 같으면 accuracy를 증가\n",
        "    epoch_loss += loss.item()\n",
        "    \n",
        "\n",
        "  return epoch_loss/(i+1), acc / len(train_loader.dataset) * 100"
      ],
      "metadata": {
        "id": "JKmvkkRfanjh"
      },
      "execution_count": 31,
      "outputs": []
    },
    {
      "cell_type": "markdown",
      "source": [
        "# evalutaion function"
      ],
      "metadata": {
        "id": "Gq95Ngwgax42"
      }
    },
    {
      "cell_type": "code",
      "source": [
        "def evaluate(model, data_loader, criterion):\n",
        "  epoch_loss, acc = 0, 0\n",
        "  model.eval()\n",
        "\n",
        "  with torch.no_grad():\n",
        "    for data in data_loader:\n",
        "      text = data.text\n",
        "      label = data.label\n",
        "\n",
        "      out = model(text).squeeze(1)\n",
        "      loss = criterion(out, label)\n",
        "\n",
        "      acc += (torch.round(torch.sigmoid(out))==label).sum()\n",
        "      epoch_loss += loss.item()\n",
        "\n",
        "  return epoch_loss/len(data_loader), acc / len(data_loader.dataset) * 100"
      ],
      "metadata": {
        "id": "g7eQMU8Qatlp"
      },
      "execution_count": 32,
      "outputs": []
    },
    {
      "cell_type": "code",
      "source": [
        "# GRU #\n",
        "# Train\n",
        "print(\"____GRU____\")\n",
        "best_valid_loss = float('inf')\n",
        "best_epoch = 0\n",
        "for epoch in range(num_epochs):\n",
        "  train_loss, train_acc = train(model, train_loader, optimizer, criterion)\n",
        "  valid_loss, valid_acc = evaluate(model, valid_loader, criterion)\n",
        "\n",
        "\n",
        "  if valid_loss < best_valid_loss:\n",
        "    best_valid_loss = valid_loss\n",
        "    best_epoch = epoch\n",
        "    torch.save(model.state_dict(), \"GRU_epoch_{}.pth\".format(epoch))\n",
        "\n",
        "  print(\"Epoch[{}/{}], Train Loss:{:.4f}, Train Acc:{:.2f}, Valid Loss:{:.4f}, Valid Acc:{:.2f}\".format(epoch+1, num_epochs, train_loss, train_acc, valid_loss, valid_acc))\n",
        "\n",
        "# Test\n",
        "model.load_state_dict(torch.load('./GRU_epoch_{}.pth'.format(best_epoch)))\n",
        "GRU_loss, GRU_acc = evaluate(model, test_loader, criterion)\n",
        "print(\"\\nGRU's IMDB Accuracy:{:.2f}% (Loss:{:.4f})\".format(GRU_acc, GRU_loss))"
      ],
      "metadata": {
        "colab": {
          "base_uri": "https://localhost:8080/"
        },
        "id": "Bfm6IVALa2hh",
        "outputId": "508e3d74-5db2-424c-9e57-c5b187cdb81a"
      },
      "execution_count": 33,
      "outputs": [
        {
          "output_type": "stream",
          "name": "stdout",
          "text": [
            "____GRU____\n",
            "Epoch[1/5], Train Loss:0.6919, Train Acc:55.28, Valid Loss:0.5933, Valid Acc:67.56\n",
            "Epoch[2/5], Train Loss:0.4139, Train Acc:81.17, Valid Loss:0.3626, Valid Acc:84.02\n",
            "Epoch[3/5], Train Loss:0.2609, Train Acc:89.45, Valid Loss:0.3346, Valid Acc:85.30\n",
            "Epoch[4/5], Train Loss:0.2112, Train Acc:91.53, Valid Loss:0.4106, Valid Acc:83.04\n",
            "Epoch[5/5], Train Loss:0.3297, Train Acc:85.85, Valid Loss:0.4266, Valid Acc:81.62\n",
            "\n",
            "GRU's IMDB Accuracy:85.97% (Loss:0.3367)\n"
          ]
        }
      ]
    },
    {
      "cell_type": "code",
      "source": [
        ""
      ],
      "metadata": {
        "id": "6X93RGita4-x"
      },
      "execution_count": null,
      "outputs": []
    }
  ]
}
