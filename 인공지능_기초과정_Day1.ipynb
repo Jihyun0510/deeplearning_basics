{
  "nbformat": 4,
  "nbformat_minor": 0,
  "metadata": {
    "colab": {
      "name": "인공지능 기초과정 Day1.ipynb",
      "provenance": [],
      "authorship_tag": "ABX9TyOw2vvqvWW6O0C+Rx+l4Axp",
      "include_colab_link": true
    },
    "kernelspec": {
      "name": "python3",
      "display_name": "Python 3"
    },
    "language_info": {
      "name": "python"
    }
  },
  "cells": [
    {
      "cell_type": "markdown",
      "metadata": {
        "id": "view-in-github",
        "colab_type": "text"
      },
      "source": [
        "<a href=\"https://colab.research.google.com/github/joonheeCho/Artificial-Intelligence-Basic-Course/blob/main/%EC%9D%B8%EA%B3%B5%EC%A7%80%EB%8A%A5_%EA%B8%B0%EC%B4%88%EA%B3%BC%EC%A0%95_Day1.ipynb\" target=\"_parent\"><img src=\"https://colab.research.google.com/assets/colab-badge.svg\" alt=\"Open In Colab\"/></a>"
      ]
    },
    {
      "cell_type": "markdown",
      "source": [
        "**<파이썬 기초 문법 및 예제>**"
      ],
      "metadata": {
        "id": "xi5yeTbLxKkk"
      }
    },
    {
      "cell_type": "markdown",
      "source": [
        "  1) 기본 데이터 타입"
      ],
      "metadata": {
        "id": "RVjobjtUxg5N"
      }
    },
    {
      "cell_type": "code",
      "source": [
        "a = int(3.5)\n",
        "b = float(1.6)\n",
        "c = bool(0)\n",
        "d = bool(-1)\n",
        "e = bool(\"false\")\n",
        "f = bool(\"\")\n",
        "g = None"
      ],
      "metadata": {
        "id": "ns8KxZazxQKb"
      },
      "execution_count": 26,
      "outputs": []
    },
    {
      "cell_type": "code",
      "source": [
        "print(a)\n",
        "print(b)\n",
        "print(c)\n",
        "print(d)\n",
        "print(e)\n",
        "print(f)\n",
        "print(g)\n",
        "g is None"
      ],
      "metadata": {
        "colab": {
          "base_uri": "https://localhost:8080/"
        },
        "id": "drK-gVsWyFXB",
        "outputId": "a7dd41ac-323b-459f-9a3e-06ff73302edf"
      },
      "execution_count": 28,
      "outputs": [
        {
          "output_type": "stream",
          "name": "stdout",
          "text": [
            "3\n",
            "1.6\n",
            "False\n",
            "True\n",
            "True\n",
            "False\n",
            "None\n"
          ]
        },
        {
          "output_type": "execute_result",
          "data": {
            "text/plain": [
              "True"
            ]
          },
          "metadata": {},
          "execution_count": 28
        }
      ]
    },
    {
      "cell_type": "markdown",
      "source": [
        "2) 연산자\n",
        "\n",
        "산술연산자"
      ],
      "metadata": {
        "id": "cV4zzBIm2xpk"
      }
    },
    {
      "cell_type": "code",
      "source": [
        "a = 10\n",
        "b = 1.2\n",
        "c = 3\n",
        "print(a,b)\n",
        "print(a+b, a-b, a*b, a/b, a**2, a%c, a//b)"
      ],
      "metadata": {
        "colab": {
          "base_uri": "https://localhost:8080/"
        },
        "id": "gRCyJDen09ar",
        "outputId": "eadf7705-6ea2-4094-bcbd-03a8e540a8e7"
      },
      "execution_count": 33,
      "outputs": [
        {
          "output_type": "stream",
          "name": "stdout",
          "text": [
            "10 1.2\n",
            "11.2 8.8 12.0 8.333333333333334 100 1 8.0\n"
          ]
        }
      ]
    },
    {
      "cell_type": "markdown",
      "source": [
        "비교연산자"
      ],
      "metadata": {
        "id": "ZfdJGn763QuI"
      }
    },
    {
      "cell_type": "code",
      "source": [
        "a = 1\n",
        "b = 2\n",
        "c = 3\n",
        "d = 1"
      ],
      "metadata": {
        "id": "YdPxrgKd2HuQ"
      },
      "execution_count": 35,
      "outputs": []
    },
    {
      "cell_type": "code",
      "source": [
        "if a == d:\n",
        "  print(\"a와 d는 같음\")\n",
        "if a != b:\n",
        "  print(\"a와 d는 다름\")\n",
        "if a < c:\n",
        "  print(\"a는 c보다 작음\")\n",
        "if b <= c:\n",
        "  print(\"c는 b보다 크거나 같음\")"
      ],
      "metadata": {
        "colab": {
          "base_uri": "https://localhost:8080/"
        },
        "id": "ry0ckf2R28cv",
        "outputId": "32ddc89e-2d43-48f0-8f78-ed0c157d0add"
      },
      "execution_count": 44,
      "outputs": [
        {
          "output_type": "stream",
          "name": "stdout",
          "text": [
            "a와 d는 같음\n",
            "a와 d는 다름\n",
            "a는 c보다 작음\n",
            "c는 b보다 크거나 같음\n"
          ]
        }
      ]
    },
    {
      "cell_type": "markdown",
      "source": [
        "할당연산자"
      ],
      "metadata": {
        "id": "TWTtmMe842Ym"
      }
    },
    {
      "cell_type": "code",
      "source": [
        "a = 2\n",
        "b = 2\n",
        "c = 3\n",
        "d = 3\n",
        "a = a * 10\n",
        "b  *= 10\n",
        "c = c + 5\n",
        "d += 5"
      ],
      "metadata": {
        "id": "8KiQHL3j3US4"
      },
      "execution_count": 45,
      "outputs": []
    },
    {
      "cell_type": "code",
      "source": [
        "print(a)\n",
        "print(b)\n",
        "print(c)\n",
        "print(d)"
      ],
      "metadata": {
        "colab": {
          "base_uri": "https://localhost:8080/"
        },
        "id": "x40VE8D84_4w",
        "outputId": "5b4416c7-e67d-40b6-e6d3-7c165f8e99e9"
      },
      "execution_count": 46,
      "outputs": [
        {
          "output_type": "stream",
          "name": "stdout",
          "text": [
            "20\n",
            "20\n",
            "8\n",
            "8\n"
          ]
        }
      ]
    },
    {
      "cell_type": "markdown",
      "source": [
        "논리연산자"
      ],
      "metadata": {
        "id": "5WSUFs2e5HnB"
      }
    },
    {
      "cell_type": "code",
      "source": [
        "age = 10\n",
        "name = \"kim\"\n",
        "if age >= 9 and name == \"block\":\n",
        "  print(\"and 연산자 결과 : True\")\n",
        "else:\n",
        "  print(\"and 연산자 결과 : False\")"
      ],
      "metadata": {
        "colab": {
          "base_uri": "https://localhost:8080/"
        },
        "id": "CKGYiIgK5Fp4",
        "outputId": "7f3d311c-3251-404d-d6ff-543799f95083"
      },
      "execution_count": 48,
      "outputs": [
        {
          "output_type": "stream",
          "name": "stdout",
          "text": [
            "and 연산자 결과 : False\n"
          ]
        }
      ]
    },
    {
      "cell_type": "code",
      "source": [
        "age = 10\n",
        "name = \"kim\"\n",
        "if age >= 9 or name == \"block\":\n",
        "  print(\"or 연산자 결과 : True\")\n",
        "else:\n",
        "  print(\"or 연산자 결과 : False\")"
      ],
      "metadata": {
        "colab": {
          "base_uri": "https://localhost:8080/"
        },
        "id": "h8LpHiCa5fPX",
        "outputId": "e08e0815-7901-4e9a-eefe-6d7868bc9567"
      },
      "execution_count": 50,
      "outputs": [
        {
          "output_type": "stream",
          "name": "stdout",
          "text": [
            "or 연산자 결과 : True\n"
          ]
        }
      ]
    },
    {
      "cell_type": "code",
      "source": [
        "age = 10\n",
        "if not age >= 9:\n",
        "  print(\"not 연산자 결과 : True\")\n",
        "else:\n",
        "  print(\"not 연산자 결과 : False\")"
      ],
      "metadata": {
        "colab": {
          "base_uri": "https://localhost:8080/"
        },
        "id": "pKH9YmvZ5mdv",
        "outputId": "fc4c895e-ac0d-4981-9002-33674f3e5704"
      },
      "execution_count": 51,
      "outputs": [
        {
          "output_type": "stream",
          "name": "stdout",
          "text": [
            "not 연산자 결과 : False\n"
          ]
        }
      ]
    },
    {
      "cell_type": "markdown",
      "source": [
        "Bitwise 연산자"
      ],
      "metadata": {
        "id": "dLTSYhqP5351"
      }
    },
    {
      "cell_type": "code",
      "source": [
        "a = 8        # 0000 1000\n",
        "b = 11       # 0000 1011\n",
        "c = a & b    # 0000 1000  (8)\n",
        "d = a ^ b    # 0000 0011  (3)\n",
        "e = a | b    # 0000 1011  (11)\n",
        "f = a << 2   # 0010 0000  (32)"
      ],
      "metadata": {
        "id": "9FKwQUwx5zmP"
      },
      "execution_count": 52,
      "outputs": []
    },
    {
      "cell_type": "code",
      "source": [
        "print(c)\n",
        "print(d)\n",
        "print(e)\n",
        "print(f)"
      ],
      "metadata": {
        "colab": {
          "base_uri": "https://localhost:8080/"
        },
        "id": "RSuEPrpz6KG3",
        "outputId": "5b478633-d077-4635-bb28-f4241363447d"
      },
      "execution_count": 53,
      "outputs": [
        {
          "output_type": "stream",
          "name": "stdout",
          "text": [
            "8\n",
            "3\n",
            "11\n",
            "32\n"
          ]
        }
      ]
    },
    {
      "cell_type": "markdown",
      "source": [
        "멤버쉽 연산자"
      ],
      "metadata": {
        "id": "DRAQfXMM6Qy3"
      }
    },
    {
      "cell_type": "code",
      "source": [
        "a = [1,2,3,4]\n",
        "b = 3 in a   \n",
        "c = 3 not in a\n",
        "d = 5 in a\n",
        "\n",
        "print(b)\n",
        "print(c)\n",
        "print(d)"
      ],
      "metadata": {
        "colab": {
          "base_uri": "https://localhost:8080/"
        },
        "id": "QfGKX0lA6OKP",
        "outputId": "55ac737c-4ca3-4d94-9c97-84e0ac3c1f48"
      },
      "execution_count": 55,
      "outputs": [
        {
          "output_type": "stream",
          "name": "stdout",
          "text": [
            "True\n",
            "False\n",
            "False\n"
          ]
        }
      ]
    },
    {
      "cell_type": "markdown",
      "source": [
        "Identity 연산자"
      ],
      "metadata": {
        "id": "7WW3-SSD6gW7"
      }
    },
    {
      "cell_type": "code",
      "source": [
        "a = \"ABC\"\n",
        "b = a\n",
        "c = \"DEF\"\n",
        "\n",
        "print(a is b)\n",
        "print(a is c)\n",
        "print(a is not c)"
      ],
      "metadata": {
        "colab": {
          "base_uri": "https://localhost:8080/"
        },
        "id": "BoxvLT_A6cOa",
        "outputId": "dbd32ea2-c62c-4e60-f76e-6fccd8b7eb1e"
      },
      "execution_count": 57,
      "outputs": [
        {
          "output_type": "stream",
          "name": "stdout",
          "text": [
            "True\n",
            "False\n",
            "True\n"
          ]
        }
      ]
    },
    {
      "cell_type": "markdown",
      "source": [
        "3) 문자열"
      ],
      "metadata": {
        "id": "VPO0x9bu6xWi"
      }
    },
    {
      "cell_type": "markdown",
      "source": [
        "문자열 선언"
      ],
      "metadata": {
        "id": "y42PcrJ57I5x"
      }
    },
    {
      "cell_type": "code",
      "source": [
        "s = '''아리랑\n",
        "아리랑\n",
        "아라리요\n",
        "'''\n",
        "print(s)"
      ],
      "metadata": {
        "colab": {
          "base_uri": "https://localhost:8080/"
        },
        "id": "qZxeMOPU6rD_",
        "outputId": "b7e0d4de-3842-490a-f09d-4bd821a0a261"
      },
      "execution_count": 58,
      "outputs": [
        {
          "output_type": "stream",
          "name": "stdout",
          "text": [
            "아리랑\n",
            "아리랑\n",
            "아라리요\n",
            "\n"
          ]
        }
      ]
    },
    {
      "cell_type": "code",
      "source": [
        "s = '아리랑\\n아리랑\\n아라리요'\n",
        "print(s)"
      ],
      "metadata": {
        "colab": {
          "base_uri": "https://localhost:8080/"
        },
        "id": "a9lDOPED66kf",
        "outputId": "f98ccc6d-c365-4eee-984a-5bdfa39b26a7"
      },
      "execution_count": 59,
      "outputs": [
        {
          "output_type": "stream",
          "name": "stdout",
          "text": [
            "아리랑\n",
            "아리랑\n",
            "아라리요\n"
          ]
        }
      ]
    },
    {
      "cell_type": "markdown",
      "source": [
        "문자열 포멧팅"
      ],
      "metadata": {
        "id": "85kPlh5T7LBg"
      }
    },
    {
      "cell_type": "code",
      "source": [
        "p = \"이름: %s 나이: %d\" % (\"김유신\", 65)\n",
        "print(p)"
      ],
      "metadata": {
        "colab": {
          "base_uri": "https://localhost:8080/"
        },
        "id": "P3yytgOJ7CkH",
        "outputId": "a94eef9b-a2bf-4c73-907f-b7f993c83238"
      },
      "execution_count": 60,
      "outputs": [
        {
          "output_type": "stream",
          "name": "stdout",
          "text": [
            "이름: 김유신 나이: 65\n"
          ]
        }
      ]
    },
    {
      "cell_type": "code",
      "source": [
        "p = \"X = %0.3f, Y = %10.2f\" % (3.141592, 3.141592)\n",
        "print(p)\n",
        "\n",
        "#%10.2f 는 전체 10자리이고 값이 적으면 앞에 빈칸을 채우게 되고, .2 는 소수점 2째 자리까지만 표시한다는 것을 의미\n"
      ],
      "metadata": {
        "colab": {
          "base_uri": "https://localhost:8080/"
        },
        "id": "oE6LI1lX7g4H",
        "outputId": "c165ff81-bff2-4267-dc23-45834f3411b3"
      },
      "execution_count": 72,
      "outputs": [
        {
          "output_type": "stream",
          "name": "stdout",
          "text": [
            "X = 3.142, Y =       3.14\n"
          ]
        }
      ]
    },
    {
      "cell_type": "markdown",
      "source": [
        "str (문자열 클래스)"
      ],
      "metadata": {
        "id": "yZAw9S5-9n0E"
      }
    },
    {
      "cell_type": "code",
      "source": [
        "s = \"ABC\"\n",
        "print(type(s))      # class 'str'\n",
        "v = s[1]     # B\n",
        "print(v)\n",
        "print(type(s[1]))   # class 'str'"
      ],
      "metadata": {
        "colab": {
          "base_uri": "https://localhost:8080/"
        },
        "id": "KA45cFPe7jFH",
        "outputId": "c393f847-9bb1-4b53-a571-3b3ec2c82310"
      },
      "execution_count": 73,
      "outputs": [
        {
          "output_type": "stream",
          "name": "stdout",
          "text": [
            "<class 'str'>\n",
            "B\n",
            "<class 'str'>\n"
          ]
        }
      ]
    },
    {
      "cell_type": "markdown",
      "source": [
        "<자주 사용되는 str 메서드>\n",
        "\n",
        "1. str.join()"
      ],
      "metadata": {
        "id": "2t4WKAfS96_m"
      }
    },
    {
      "cell_type": "code",
      "source": [
        "s = ','.join(['가나','다라','마바'])\n",
        "print(s)\n",
        " \n",
        "s = ''.join(['가나','다라','마바'])\n",
        "print(s)"
      ],
      "metadata": {
        "colab": {
          "base_uri": "https://localhost:8080/"
        },
        "id": "nf2ufQ_g928O",
        "outputId": "05de600e-906c-4cfd-8106-7ef80032fdc0"
      },
      "execution_count": 74,
      "outputs": [
        {
          "output_type": "stream",
          "name": "stdout",
          "text": [
            "가나,다라,마바\n",
            "가나다라마바\n"
          ]
        }
      ]
    },
    {
      "cell_type": "markdown",
      "source": [
        "2. str.split()"
      ],
      "metadata": {
        "id": "g95c1hTW-JE-"
      }
    },
    {
      "cell_type": "code",
      "source": [
        "items = '가나,다라,마바'.split(',')\n",
        "print(items)"
      ],
      "metadata": {
        "colab": {
          "base_uri": "https://localhost:8080/"
        },
        "id": "fX7NGnIK-G7v",
        "outputId": "b6e1457e-f7b5-4acb-fc0e-abb1dbbd61c8"
      },
      "execution_count": 75,
      "outputs": [
        {
          "output_type": "stream",
          "name": "stdout",
          "text": [
            "['가나', '다라', '마바']\n"
          ]
        }
      ]
    },
    {
      "cell_type": "markdown",
      "source": [
        "3. str.partition()"
      ],
      "metadata": {
        "id": "8L3UgdEF-Pr2"
      }
    },
    {
      "cell_type": "code",
      "source": [
        "departure, _, arrival = \"Seattle-Seoul\".partition('-')\n",
        "print(departure)"
      ],
      "metadata": {
        "colab": {
          "base_uri": "https://localhost:8080/"
        },
        "id": "EsGAqjpE-Nx2",
        "outputId": "8b7072c7-d2f5-46f6-a0e1-e2a1f4ab413f"
      },
      "execution_count": 76,
      "outputs": [
        {
          "output_type": "stream",
          "name": "stdout",
          "text": [
            "Seattle\n"
          ]
        }
      ]
    },
    {
      "cell_type": "markdown",
      "source": [
        "4. str.format()"
      ],
      "metadata": {
        "id": "eUc6X0z3--aP"
      }
    },
    {
      "cell_type": "code",
      "source": [
        "# 위치를 기준으로 한 포맷팅\n",
        "s = \"Name: {0}, Age: {1}\".format(\"강정수\", 30)\n",
        "print(s)  "
      ],
      "metadata": {
        "colab": {
          "base_uri": "https://localhost:8080/"
        },
        "id": "xdWQAdlx-ay2",
        "outputId": "654d6703-c12c-4c68-ba33-fb634b017ad7"
      },
      "execution_count": 78,
      "outputs": [
        {
          "output_type": "stream",
          "name": "stdout",
          "text": [
            "Name: 강정수, Age: 30\n"
          ]
        }
      ]
    },
    {
      "cell_type": "code",
      "source": [
        "# 필드명을 기준으로 한 포맷팅\n",
        "s = \"Name: {name}, Age: {age}\".format(name=\"강정수\", age=30)\n",
        "print(s) "
      ],
      "metadata": {
        "colab": {
          "base_uri": "https://localhost:8080/"
        },
        "id": "ZU9NdZPI_D62",
        "outputId": "f70d5b7d-6456-49b4-8ed3-1cba02716a9f"
      },
      "execution_count": 79,
      "outputs": [
        {
          "output_type": "stream",
          "name": "stdout",
          "text": [
            "Name: 강정수, Age: 30\n"
          ]
        }
      ]
    },
    {
      "cell_type": "code",
      "source": [
        "# object의 인덱스 혹은 키를 사용하여 포맷팅\n",
        "area = (10, 20)\n",
        "s = \"width: {x[0]}, height: {x[1]}\".format(x = area)\n",
        "print(s) "
      ],
      "metadata": {
        "colab": {
          "base_uri": "https://localhost:8080/"
        },
        "id": "rauvLlVT_NK2",
        "outputId": "964b8bed-6e48-46c8-8460-32eb0974684b"
      },
      "execution_count": 80,
      "outputs": [
        {
          "output_type": "stream",
          "name": "stdout",
          "text": [
            "width: 10, height: 20\n"
          ]
        }
      ]
    },
    {
      "cell_type": "markdown",
      "source": [
        "4) 조건문"
      ],
      "metadata": {
        "id": "rgprw3tEGCGH"
      }
    },
    {
      "cell_type": "code",
      "source": [
        "empty = [1,2,3]\n",
        "\n",
        "if empty[1]%2 == 0:\n",
        "  print(\"{} is an even number\".format(empty[1]))\n",
        "elif empty[1]%2 == 1:\n",
        "  print(\"{} is an odd number\".format(empty[1]))\n",
        "else:\n",
        "  print(\"Impossible\")"
      ],
      "metadata": {
        "colab": {
          "base_uri": "https://localhost:8080/"
        },
        "id": "Jj1TB78B_SsG",
        "outputId": "8a66cc08-9d2f-4100-9856-8ca429580681"
      },
      "execution_count": 81,
      "outputs": [
        {
          "output_type": "stream",
          "name": "stdout",
          "text": [
            "2 is an even number\n"
          ]
        }
      ]
    },
    {
      "cell_type": "markdown",
      "source": [
        "5) 반복문"
      ],
      "metadata": {
        "id": "uaIJV2pbGnlJ"
      }
    },
    {
      "cell_type": "markdown",
      "source": [
        "while"
      ],
      "metadata": {
        "id": "ogJkZvD2GroI"
      }
    },
    {
      "cell_type": "code",
      "source": [
        "start = 0\n",
        "while start<5:\n",
        "  print(start)\n",
        "  start = start + 2\n",
        "\n",
        "print(\"final value: {}\".format(start))"
      ],
      "metadata": {
        "colab": {
          "base_uri": "https://localhost:8080/"
        },
        "id": "M3sVO1VBGlK1",
        "outputId": "0c35cee7-7fe4-4375-aed6-39e1e21d1be4"
      },
      "execution_count": 82,
      "outputs": [
        {
          "output_type": "stream",
          "name": "stdout",
          "text": [
            "0\n",
            "2\n",
            "4\n",
            "final value: 6\n"
          ]
        }
      ]
    },
    {
      "cell_type": "markdown",
      "source": [
        "for"
      ],
      "metadata": {
        "id": "IPoRi6lQHIIx"
      }
    },
    {
      "cell_type": "code",
      "source": [
        "sum = 0\n",
        "for i in range(11):\n",
        "    sum += i    # 0부터 10까지의 합\n",
        "print(sum)"
      ],
      "metadata": {
        "colab": {
          "base_uri": "https://localhost:8080/"
        },
        "id": "KEhkryOoGzul",
        "outputId": "b4ddb2e9-3441-456d-8c70-87ef63dcc54a"
      },
      "execution_count": 83,
      "outputs": [
        {
          "output_type": "stream",
          "name": "stdout",
          "text": [
            "55\n"
          ]
        }
      ]
    },
    {
      "cell_type": "code",
      "source": [
        "list = [\"This\", \"is\", \"a\", \"book\"]\n",
        "for s in list:\n",
        "    print(s)"
      ],
      "metadata": {
        "colab": {
          "base_uri": "https://localhost:8080/"
        },
        "id": "00pAR6NjG6k_",
        "outputId": "0d8fe82a-5ebe-4407-eec7-4534032d149c"
      },
      "execution_count": 84,
      "outputs": [
        {
          "output_type": "stream",
          "name": "stdout",
          "text": [
            "This\n",
            "is\n",
            "a\n",
            "book\n"
          ]
        }
      ]
    },
    {
      "cell_type": "markdown",
      "source": [
        "break / continue"
      ],
      "metadata": {
        "id": "bnUpz_mTHN_n"
      }
    },
    {
      "cell_type": "code",
      "source": [
        "i = 0\n",
        "sum = 0\n",
        "while True:\n",
        "    i += 1\n",
        "    if i == 5:\n",
        "        continue\n",
        "    if i > 10:\n",
        "        break\n",
        "    sum += i\n",
        " \n",
        "print(sum)"
      ],
      "metadata": {
        "colab": {
          "base_uri": "https://localhost:8080/"
        },
        "id": "FoUxhphJHEe2",
        "outputId": "ffa207cb-cf55-456a-db95-a39ef519fc16"
      },
      "execution_count": 85,
      "outputs": [
        {
          "output_type": "stream",
          "name": "stdout",
          "text": [
            "50\n"
          ]
        }
      ]
    },
    {
      "cell_type": "markdown",
      "source": [
        "6) list"
      ],
      "metadata": {
        "id": "xG-HLT9lHdwM"
      }
    },
    {
      "cell_type": "code",
      "source": [
        "a = []\n",
        "print(a)\n",
        "a = [\"AB\", 10, False]\n",
        "print(a)"
      ],
      "metadata": {
        "colab": {
          "base_uri": "https://localhost:8080/"
        },
        "id": "xrimYqNfHY6t",
        "outputId": "b349cc03-4cd1-496b-9fa5-a8acada163b3"
      },
      "execution_count": 86,
      "outputs": [
        {
          "output_type": "stream",
          "name": "stdout",
          "text": [
            "[]\n",
            "['AB', 10, False]\n"
          ]
        }
      ]
    },
    {
      "cell_type": "markdown",
      "source": [
        "리스트 인덱싱"
      ],
      "metadata": {
        "id": "npkXvCJ_IC6H"
      }
    },
    {
      "cell_type": "code",
      "source": [
        "a = [\"AB\", 10, False]\n",
        "x = a[1]        # a의 두번째 요소 읽기\n",
        "a[1] = \"Test\"   # a의 두번째 요소 변경\n",
        "y = a[1]       \n",
        "z = a[-1]       # a의 마지막 요소\n",
        "\n",
        "print(x)\n",
        "print(y)\n",
        "print(z)"
      ],
      "metadata": {
        "colab": {
          "base_uri": "https://localhost:8080/"
        },
        "id": "iRRwyRF5IAzd",
        "outputId": "c439f147-a2e9-49d5-a83b-ed12910a9d43"
      },
      "execution_count": 87,
      "outputs": [
        {
          "output_type": "stream",
          "name": "stdout",
          "text": [
            "10\n",
            "Test\n",
            "False\n"
          ]
        }
      ]
    },
    {
      "cell_type": "markdown",
      "source": [
        "리스트 슬라이싱 (slicing)"
      ],
      "metadata": {
        "id": "EHgByG--Ib1t"
      }
    },
    {
      "cell_type": "code",
      "source": [
        "a = [1, 3, 5, 7, 10]\n",
        "x = a[1:3]     # [3, 5]\n",
        "x = a[:2]      # [1, 3]\n",
        "x = a[3:]      # [7, 10]"
      ],
      "metadata": {
        "id": "e6anJUnDIZuN"
      },
      "execution_count": 88,
      "outputs": []
    },
    {
      "cell_type": "markdown",
      "source": [
        "리스트 요소 추가, 수정, 삭제"
      ],
      "metadata": {
        "id": "jx1XSchrIlVj"
      }
    },
    {
      "cell_type": "code",
      "source": [
        "a = [\"AB\", 10, False]\n",
        "a.append(21.5)  # 추가\n",
        "print(a)\n",
        "a[1] = 11       # 변경\n",
        "print(a)\n",
        "del a[2]        # 삭제\n",
        "print(a)        # ['AB', 11, 21.5]"
      ],
      "metadata": {
        "colab": {
          "base_uri": "https://localhost:8080/"
        },
        "id": "WJtabAwqIhiN",
        "outputId": "3a8f9365-fac9-45e0-c949-2efd79559389"
      },
      "execution_count": 90,
      "outputs": [
        {
          "output_type": "stream",
          "name": "stdout",
          "text": [
            "['AB', 10, False, 21.5]\n",
            "['AB', 11, False, 21.5]\n",
            "['AB', 11, 21.5]\n"
          ]
        }
      ]
    },
    {
      "cell_type": "markdown",
      "source": [
        "리스트 병합과 반복"
      ],
      "metadata": {
        "id": "hzpHejCQJWA7"
      }
    },
    {
      "cell_type": "code",
      "source": [
        "# 병합\n",
        "a = [1, 2]\n",
        "b = [3, 4, 5]\n",
        "c = a + b\n",
        "print(c)   # [1, 2, 3, 4, 5]\n",
        " \n",
        "# 반복\n",
        "d = a * 3\n",
        "print(d)   # [1, 2, 1, 2, 1, 2]"
      ],
      "metadata": {
        "colab": {
          "base_uri": "https://localhost:8080/"
        },
        "id": "emgbxKnIIrhN",
        "outputId": "0c9421b6-ba81-4e38-92a0-1d5eecb1a2d8"
      },
      "execution_count": 91,
      "outputs": [
        {
          "output_type": "stream",
          "name": "stdout",
          "text": [
            "[1, 2, 3, 4, 5]\n",
            "[1, 2, 1, 2, 1, 2]\n"
          ]
        }
      ]
    },
    {
      "cell_type": "markdown",
      "source": [
        "리스트 검색"
      ],
      "metadata": {
        "id": "p_HfXxgfJvfs"
      }
    },
    {
      "cell_type": "code",
      "source": [
        "mylist = \"This is a book That is a pencil\".split()\n",
        "i = mylist.index('book')  # i = 3\n",
        "n = mylist.count('is')    # n = 2\n",
        "print(i, n)"
      ],
      "metadata": {
        "colab": {
          "base_uri": "https://localhost:8080/"
        },
        "id": "QQUjh8hBJsGM",
        "outputId": "7dd31f53-34d8-4256-de27-fe21c2b4be4a"
      },
      "execution_count": 92,
      "outputs": [
        {
          "output_type": "stream",
          "name": "stdout",
          "text": [
            "3 2\n"
          ]
        }
      ]
    },
    {
      "cell_type": "markdown",
      "source": [
        "7) Tuple"
      ],
      "metadata": {
        "id": "nyktnzD6J4Qe"
      }
    },
    {
      "cell_type": "code",
      "source": [
        "t = (\"AB\", 10, False)\n",
        "print(t)"
      ],
      "metadata": {
        "colab": {
          "base_uri": "https://localhost:8080/"
        },
        "id": "ew35zNL9J1Tc",
        "outputId": "6cd008e4-2312-4139-8e22-b54e1ecc8fd0"
      },
      "execution_count": 93,
      "outputs": [
        {
          "output_type": "stream",
          "name": "stdout",
          "text": [
            "('AB', 10, False)\n"
          ]
        }
      ]
    },
    {
      "cell_type": "markdown",
      "source": [
        "tuple 인덱싱과 슬라이싱"
      ],
      "metadata": {
        "id": "eXrJaPNZJ_r4"
      }
    },
    {
      "cell_type": "code",
      "source": [
        "t = (1, 5, 10)\n",
        " \n",
        "# 인덱스\n",
        "second = t[1]      # 5\n",
        "last = t[-1]       # 10\n",
        " \n",
        "# 슬라이스\n",
        "s1 = t[1:2]         # (5)\n",
        "s2 = t[1:]          # (5, 10)\n",
        "\n",
        "print(second)\n",
        "print(last)\n",
        "print(s1)\n",
        "print(s2)"
      ],
      "metadata": {
        "colab": {
          "base_uri": "https://localhost:8080/"
        },
        "id": "bMLxE-2IJ9WV",
        "outputId": "e04f4e7e-099d-4c33-8e14-b3a192335bd5"
      },
      "execution_count": 95,
      "outputs": [
        {
          "output_type": "stream",
          "name": "stdout",
          "text": [
            "5\n",
            "10\n",
            "(5,)\n",
            "(5, 10)\n"
          ]
        }
      ]
    },
    {
      "cell_type": "markdown",
      "source": [
        "tuple 병합과 반복"
      ],
      "metadata": {
        "id": "dxv7iSmdK9aX"
      }
    },
    {
      "cell_type": "code",
      "source": [
        "# 병합\n",
        "a = (1, 2)\n",
        "b = (3, 4, 5)\n",
        "c = a + b\n",
        "print(c)   # (1, 2, 3, 4, 5)\n",
        " \n",
        "# 반복\n",
        "d = a * 3  # 혹은 \"d = 3 * a\" 도 동일\n",
        "print(d)   # (1, 2, 1, 2, 1, 2)"
      ],
      "metadata": {
        "colab": {
          "base_uri": "https://localhost:8080/"
        },
        "id": "os99rd1sKifU",
        "outputId": "f0ed1844-f330-4a63-a468-c50ee45415ca"
      },
      "execution_count": 96,
      "outputs": [
        {
          "output_type": "stream",
          "name": "stdout",
          "text": [
            "(1, 2, 3, 4, 5)\n",
            "(1, 2, 1, 2, 1, 2)\n"
          ]
        }
      ]
    },
    {
      "cell_type": "markdown",
      "source": [
        "tuple 변수 할당"
      ],
      "metadata": {
        "id": "hRTMec4iLZes"
      }
    },
    {
      "cell_type": "code",
      "source": [
        "name = (\"John\", \"Kim\")\n",
        "print(name)\n",
        "# 출력: ('John', 'Kim')\n",
        " \n",
        "firstname, lastname = (\"John\", \"Kim\")\n",
        "print(lastname, \",\", firstname)\n",
        "# 출력: Kim, John"
      ],
      "metadata": {
        "colab": {
          "base_uri": "https://localhost:8080/"
        },
        "id": "tUaTf7FmLCGs",
        "outputId": "ebcc58c8-57b6-438b-a457-a87fa9041e63"
      },
      "execution_count": 97,
      "outputs": [
        {
          "output_type": "stream",
          "name": "stdout",
          "text": [
            "('John', 'Kim')\n",
            "Kim , John\n"
          ]
        }
      ]
    },
    {
      "cell_type": "markdown",
      "source": [
        "8) Dictionary"
      ],
      "metadata": {
        "id": "gaD0yhhiLfTG"
      }
    },
    {
      "cell_type": "code",
      "source": [
        "scores = {\"철수\": 90, \"민수\": 85, \"영희\": 80}\n",
        "v = scores[\"민수\"]   # 특정 요소 읽기\n",
        "scores[\"민수\"] = 88  # 쓰기\n",
        "s = scores[\"민수\"]\n",
        "print(v)\n",
        "print(s)"
      ],
      "metadata": {
        "colab": {
          "base_uri": "https://localhost:8080/"
        },
        "id": "jTJRVBIgLdXk",
        "outputId": "1552290c-42e9-4072-95ce-1034759b1ca0"
      },
      "execution_count": 98,
      "outputs": [
        {
          "output_type": "stream",
          "name": "stdout",
          "text": [
            "85\n",
            "88\n"
          ]
        }
      ]
    },
    {
      "cell_type": "markdown",
      "source": [
        "추가, 수정, 삭제, 읽기"
      ],
      "metadata": {
        "id": "dk_zMsFqLtmp"
      }
    },
    {
      "cell_type": "code",
      "source": [
        "scores = {\"철수\": 90, \"민수\": 85, \"영희\": 80}\n",
        "scores[\"민수\"] = 88   # 수정\n",
        "scores[\"길동\"] = 95   # 추가\n",
        "del scores[\"영희\"]\n",
        "print(scores)"
      ],
      "metadata": {
        "colab": {
          "base_uri": "https://localhost:8080/"
        },
        "id": "OenACMrSMGxE",
        "outputId": "f802200c-26b2-484e-ad89-0aa6e6358792"
      },
      "execution_count": 100,
      "outputs": [
        {
          "output_type": "stream",
          "name": "stdout",
          "text": [
            "{'철수': 90, '민수': 88, '길동': 95}\n"
          ]
        }
      ]
    },
    {
      "cell_type": "code",
      "source": [
        "scores = {\"철수\": 90, \"민수\": 85, \"영희\": 80}\n",
        " \n",
        "for key in scores:\n",
        "    val = scores[key]\n",
        "    print(\"%s : %d\" % (key, val))"
      ],
      "metadata": {
        "colab": {
          "base_uri": "https://localhost:8080/"
        },
        "id": "qmU26weILqac",
        "outputId": "fbbbdab3-d146-4cc5-db98-d13a1d462d2d"
      },
      "execution_count": 99,
      "outputs": [
        {
          "output_type": "stream",
          "name": "stdout",
          "text": [
            "철수 : 90\n",
            "민수 : 85\n",
            "영희 : 80\n"
          ]
        }
      ]
    },
    {
      "cell_type": "markdown",
      "source": [
        "유용한 dict 메서드: keys(), values(), items(), dict.get()"
      ],
      "metadata": {
        "id": "WnQN6TphMZCI"
      }
    },
    {
      "cell_type": "code",
      "source": [
        "scores = {\"철수\": 90, \"민수\": 85, \"영희\": 80}\n",
        " \n",
        "# keys\n",
        "keys = scores.keys()\n",
        "for k in keys:\n",
        "    print(k)\n",
        " \n",
        "# values\n",
        "values = scores.values()\n",
        "for v in values:\n",
        "    print(v)"
      ],
      "metadata": {
        "colab": {
          "base_uri": "https://localhost:8080/"
        },
        "id": "bBiTJc8wMDV0",
        "outputId": "c6a9e07a-6ac5-4c4e-b6c2-54c610a28da6"
      },
      "execution_count": 101,
      "outputs": [
        {
          "output_type": "stream",
          "name": "stdout",
          "text": [
            "철수\n",
            "민수\n",
            "영희\n",
            "90\n",
            "85\n",
            "80\n"
          ]
        }
      ]
    },
    {
      "cell_type": "code",
      "source": [
        "scores = {\"철수\": 90, \"민수\": 85, \"영희\": 80}\n",
        " \n",
        "items = scores.items()\n",
        "print(items)"
      ],
      "metadata": {
        "colab": {
          "base_uri": "https://localhost:8080/"
        },
        "id": "qLqDidBoMmnU",
        "outputId": "5baa9fe1-b1bd-4435-cfa9-f935770cb96c"
      },
      "execution_count": 103,
      "outputs": [
        {
          "output_type": "stream",
          "name": "stdout",
          "text": [
            "dict_items([('철수', 90), ('민수', 85), ('영희', 80)])\n"
          ]
        }
      ]
    },
    {
      "cell_type": "code",
      "source": [
        "scores = {\"철수\": 90, \"민수\": 85, \"영희\": 80}\n",
        "v = scores.get(\"민수\")  # 85\n",
        "print(v)\n",
        "v = scores.get(\"길동\")  # None\n",
        "#v = scores[\"길동\"]      # 에러 발생\n",
        "print(v)"
      ],
      "metadata": {
        "colab": {
          "base_uri": "https://localhost:8080/"
        },
        "id": "r56nZWg0MzoE",
        "outputId": "4a6769a3-38ef-46fa-a322-7dbee56437bb"
      },
      "execution_count": 104,
      "outputs": [
        {
          "output_type": "stream",
          "name": "stdout",
          "text": [
            "85\n",
            "None\n"
          ]
        }
      ]
    },
    {
      "cell_type": "markdown",
      "source": [
        "9) set"
      ],
      "metadata": {
        "id": "eDPNdiv-NNMC"
      }
    },
    {
      "cell_type": "code",
      "source": [
        "# set 정의\n",
        "myset = { 1, 1, 3, 5, 5 }\n",
        "print(myset)   \n",
        " \n",
        "# 리스트를 set으로 변환\n",
        "mylist = [\"A\", \"A\", \"B\", \"B\", \"B\"]\n",
        "s = set(mylist)\n",
        "print(s)       "
      ],
      "metadata": {
        "colab": {
          "base_uri": "https://localhost:8080/"
        },
        "id": "TzPYiJBXNH4E",
        "outputId": "57c45e8a-84b2-4aac-d8e5-3182889e519f"
      },
      "execution_count": 105,
      "outputs": [
        {
          "output_type": "stream",
          "name": "stdout",
          "text": [
            "{1, 3, 5}\n",
            "{'A', 'B'}\n"
          ]
        }
      ]
    },
    {
      "cell_type": "markdown",
      "source": [
        "set의 추가 및 삭제"
      ],
      "metadata": {
        "id": "KiePA7TtNVKY"
      }
    },
    {
      "cell_type": "code",
      "source": [
        "myset = {1, 3, 5}\n",
        " \n",
        "# 하나만 추가\n",
        "myset.add(7)\n",
        "print(myset)\n",
        " \n",
        "# 여러 개 추가\n",
        "myset.update({4,2,10})\n",
        "print(myset)\n",
        " \n",
        "# 하나만 삭제\n",
        "myset.remove(1)\n",
        "print(myset)\n",
        " \n",
        "# 모두 삭제\n",
        "myset.clear()\n",
        "print(myset)"
      ],
      "metadata": {
        "colab": {
          "base_uri": "https://localhost:8080/"
        },
        "id": "w7m4K2psNShs",
        "outputId": "ff3ee385-5fa9-47e4-dbe7-ddf3bbfe3fd8"
      },
      "execution_count": 106,
      "outputs": [
        {
          "output_type": "stream",
          "name": "stdout",
          "text": [
            "{1, 3, 5, 7}\n",
            "{1, 2, 3, 4, 5, 7, 10}\n",
            "{2, 3, 4, 5, 7, 10}\n",
            "set()\n"
          ]
        }
      ]
    },
    {
      "cell_type": "markdown",
      "source": [
        "집합 연산"
      ],
      "metadata": {
        "id": "JcFzbrl7NbDQ"
      }
    },
    {
      "cell_type": "code",
      "source": [
        "a = {1, 3, 5}\n",
        "b = {1, 2, 5}\n",
        " \n",
        "# 교집합\n",
        "i = a & b\n",
        "# i = a.intersection(b)\n",
        "print(i)\n",
        " \n",
        "# 합집합\n",
        "u = a | b\n",
        "# u = a.union(b)\n",
        "print(u)\n",
        " \n",
        "# 차집합\n",
        "d = a - b\n",
        "# d = a.difference(b)\n",
        "print(d)"
      ],
      "metadata": {
        "colab": {
          "base_uri": "https://localhost:8080/"
        },
        "id": "_u04bVoINY48",
        "outputId": "b10b524e-9068-4121-ac08-6e15ba0f1043"
      },
      "execution_count": 107,
      "outputs": [
        {
          "output_type": "stream",
          "name": "stdout",
          "text": [
            "{1, 5}\n",
            "{1, 2, 3, 5}\n",
            "{3}\n"
          ]
        }
      ]
    },
    {
      "cell_type": "markdown",
      "source": [
        "10) 함수"
      ],
      "metadata": {
        "id": "fePvc889Nf-V"
      }
    },
    {
      "cell_type": "code",
      "source": [
        "def square_sum(a,b):\n",
        "  squared_a = a**2\n",
        "  squared_b = b**2\n",
        "  \n",
        "  return squared_a + squared_b"
      ],
      "metadata": {
        "id": "hhs-GZzyNeI0"
      },
      "execution_count": 108,
      "outputs": []
    },
    {
      "cell_type": "code",
      "source": [
        "c = square_sum(3,4)\n",
        "print(\"squared sum of {} and {} : {}\".format(3, 4, c))"
      ],
      "metadata": {
        "colab": {
          "base_uri": "https://localhost:8080/"
        },
        "id": "TSEFdTCeNklk",
        "outputId": "c5ac2b73-b877-44f5-ec95-7dd2011d7d7b"
      },
      "execution_count": 109,
      "outputs": [
        {
          "output_type": "stream",
          "name": "stdout",
          "text": [
            "squared sum of 3 and 4 : 25\n"
          ]
        }
      ]
    },
    {
      "cell_type": "markdown",
      "source": [
        "11. 패키지"
      ],
      "metadata": {
        "id": "4JLK2M3WNutR"
      }
    },
    {
      "cell_type": "code",
      "source": [
        "import numpy as np\n",
        "\n",
        "array = np.array([1,2,3])\n",
        "print(array, type (array))"
      ],
      "metadata": {
        "colab": {
          "base_uri": "https://localhost:8080/"
        },
        "id": "_-iwHMkSNm2t",
        "outputId": "248fcdd7-3cc8-453f-ca87-9841553790e1"
      },
      "execution_count": 110,
      "outputs": [
        {
          "output_type": "stream",
          "name": "stdout",
          "text": [
            "[1 2 3] <class 'numpy.ndarray'>\n"
          ]
        }
      ]
    },
    {
      "cell_type": "markdown",
      "source": [
        "12. 클래스"
      ],
      "metadata": {
        "id": "ejjaZp5NN7OS"
      }
    },
    {
      "cell_type": "code",
      "source": [
        "class Calculator():\n",
        "  def __init__(self, num1, num2):\n",
        "    self.description = \"Example for initalizing a Class\"\n",
        "    self.num1 = num1\n",
        "    self.num2 = num2\n",
        "    self.result = 0\n",
        "\n",
        "  def add(self):\n",
        "    if type(self.num1) == int and type(self.num2) == int :\n",
        "      result = self.num1 + self.num2\n",
        "      return result\n",
        "    else:\n",
        "      raise Exception\n",
        "\n",
        "  def mul(self):\n",
        "    if type(self.num1) == int and type(self.num2) == int :\n",
        "      result = self.num1 * self.num2\n",
        "      return result\n",
        "    else:\n",
        "      raise Exception"
      ],
      "metadata": {
        "id": "yC8mzwDUN1sk"
      },
      "execution_count": 132,
      "outputs": []
    },
    {
      "cell_type": "code",
      "source": [
        "cal = Calculator(3,4)\n",
        "print(cal.description)\n",
        "print(cal.add())\n",
        "print(cal.mul())"
      ],
      "metadata": {
        "colab": {
          "base_uri": "https://localhost:8080/"
        },
        "id": "8oixUhtpO19k",
        "outputId": "c4d112d9-6c17-4184-e6a9-8da20ef1c3a9"
      },
      "execution_count": 133,
      "outputs": [
        {
          "output_type": "stream",
          "name": "stdout",
          "text": [
            "Example for initalizing a Class\n",
            "7\n",
            "12\n"
          ]
        }
      ]
    },
    {
      "cell_type": "code",
      "source": [
        ""
      ],
      "metadata": {
        "id": "Tw6oPc9rPts8"
      },
      "execution_count": null,
      "outputs": []
    }
  ]
}