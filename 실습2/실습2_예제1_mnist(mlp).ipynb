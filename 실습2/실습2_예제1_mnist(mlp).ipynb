{
  "nbformat": 4,
  "nbformat_minor": 0,
  "metadata": {
    "colab": {
      "name": "실습2_예제1_MNIST_MLP.ipynb",
      "provenance": [],
      "collapsed_sections": [
        "8kVlNFN4Biel"
      ]
    },
    "kernelspec": {
      "name": "python3",
      "display_name": "Python 3"
    },
    "language_info": {
      "name": "python"
    },
    "accelerator": "GPU"
  },
  "cells": [
    {
      "cell_type": "markdown",
      "source": [
        "# **필요한 라이브러리 불러오기**\n",
        "- https://pytorch.org/docs/stable/nn.html"
      ],
      "metadata": {
        "id": "sn2FnnG0a24Q"
      }
    },
    {
      "cell_type": "code",
      "execution_count": null,
      "metadata": {
        "id": "upVpJJksafRp"
      },
      "outputs": [],
      "source": [
        "import torch\n",
        "import torch.nn as nn\n",
        "\n",
        "# torchvision : 효율적인 이미지 변환을 위한 computer vision 용 라이브러리\n",
        "import torchvision.datasets as datasets      # dataset download를 위한 패키지\n",
        "import torchvision.transforms as transforms  # 데이터 변환을 위한 패캐지\n",
        "\n",
        "import matplotlib.pyplot as plt\n",
        "import numpy as np\n",
        "import random"
      ]
    },
    {
      "cell_type": "code",
      "source": [
        "# device : gpu를 사용할 경우에는 'cuda', 그렇지 않을 경우에는 'cpu'\n",
        "device = 'cuda' if torch.cuda.is_available() else 'cpu'\n",
        "\n",
        "# 랜덤 시드 고정\n",
        "# 실험 조건을 동일하게 설정하여 같은 input을 넣으면 같은 결과가 나올 수 있도록 함\n",
        "torch.manual_seed(777)\n",
        "if device == 'cuda':\n",
        "    torch.cuda.manual_seed_all(777)"
      ],
      "metadata": {
        "id": "VASoxKO2bXXU"
      },
      "execution_count": null,
      "outputs": []
    },
    {
      "cell_type": "markdown",
      "source": [
        "# **Hyper parameter 설정**"
      ],
      "metadata": {
        "id": "5qUZQlWGeh-n"
      }
    },
    {
      "cell_type": "code",
      "source": [
        "batch_size = 128        # 배치크기\n",
        "epochs = 15             # 학습 횟수\n",
        "learning_rate = 0.001    # 학습률"
      ],
      "metadata": {
        "id": "MW9C7IfseomM"
      },
      "execution_count": null,
      "outputs": []
    },
    {
      "cell_type": "markdown",
      "source": [
        "# **MNIST 데이터셋 불러오기**\n",
        "- 60,000개의 train data, 10,000개의 test data\n",
        "- transforms.Normalize : 이미지 값의 범위를 조정함으로써 학습 안정화"
      ],
      "metadata": {
        "id": "3YezfZ3KeE6g"
      }
    },
    {
      "cell_type": "code",
      "source": [
        "train_dataset = datasets.MNIST(root='dataset/', # 다운로드 경로 지정\n",
        "                               train=True,      # True를 지정하면 훈련 데이터로 다운로드\n",
        "                               download=True,\n",
        "                               transform=transforms.Compose([transforms.ToTensor(), # 텐서로 변환\n",
        "                                                            transforms.Normalize(mean=(0.5),std=(0.5))])) # 이미지 표준화\n",
        "test_dataset = datasets.MNIST(root='dataset/',\n",
        "                              train=False,      # False를 지정하면 테스트 데이터로 다운로드\n",
        "                              download=True,\n",
        "                              transform=transforms.Compose([transforms.ToTensor(),\n",
        "                                                            transforms.Normalize(mean=(0.5),std=(0.5))]))\n",
        "\n",
        "# Data loader를 사용하여 배치 크기로 묶어주기\n",
        "train_loader=torch.utils.data.DataLoader(train_dataset,\n",
        "                                        batch_size=batch_size,\n",
        "                                        shuffle=True)\n",
        "test_loader = torch.utils.data.DataLoader(test_dataset,\n",
        "                                          batch_size=batch_size,\n",
        "                                          shuffle=False)"
      ],
      "metadata": {
        "id": "DbHx0sHLcQMC"
      },
      "execution_count": null,
      "outputs": []
    },
    {
      "cell_type": "markdown",
      "source": [
        "# **데이터 시각화**"
      ],
      "metadata": {
        "id": "EDqxf2PFidnW"
      }
    },
    {
      "cell_type": "code",
      "source": [
        "# 첫번째 데이터 묶음 반환\n",
        "images, labels = next(iter(train_loader))"
      ],
      "metadata": {
        "id": "j8Uoul0rimcc"
      },
      "execution_count": null,
      "outputs": []
    },
    {
      "cell_type": "code",
      "source": [
        "# 데이터 size 확인\n",
        "images.shape , labels.shape"
      ],
      "metadata": {
        "colab": {
          "base_uri": "https://localhost:8080/"
        },
        "id": "oTESKn-joc73",
        "outputId": "7d0a22b3-a0c3-4548-f591-25015b10d5f7"
      },
      "execution_count": null,
      "outputs": [
        {
          "output_type": "execute_result",
          "data": {
            "text/plain": [
              "(torch.Size([128, 1, 28, 28]), torch.Size([128]))"
            ]
          },
          "metadata": {},
          "execution_count": 7
        }
      ]
    },
    {
      "cell_type": "code",
      "source": [
        "img = images.squeeze(1).numpy()     # squeeze로 차원 축소 : [batch, 1, H, W] -> [batch, H, W]\n",
        "label = labels.numpy()\n",
        "\n",
        "plt.figure(figsize=(10,20))\n",
        "plt.subplot(1,4,1)\n",
        "plt.imshow(img[0],'gray')\n",
        "plt.title(label[0])\n",
        "plt.subplot(1,4,2)\n",
        "plt.imshow(img[1],'gray')\n",
        "plt.title(label[1])\n",
        "plt.subplot(1,4,3)\n",
        "plt.imshow(img[2],'gray')\n",
        "plt.title(label[2])\n",
        "plt.subplot(1,4,4)\n",
        "plt.imshow(img[3],'gray')\n",
        "plt.title(label[3])\n",
        "plt.show()"
      ],
      "metadata": {
        "colab": {
          "base_uri": "https://localhost:8080/",
          "height": 185
        },
        "id": "AHg3KLiWoeEa",
        "outputId": "ec5e43ab-0a66-4861-bab5-3474566f7133"
      },
      "execution_count": null,
      "outputs": [
        {
          "output_type": "display_data",
          "data": {
            "image/png": "[encoded data removed]",
            "text/plain": [
              "<Figure size 720x1440 with 4 Axes>"
            ]
          },
          "metadata": {
            "needs_background": "light"
          }
        }
      ]
    },
    {
      "cell_type": "markdown",
      "source": [
        "# **모델 설계**\n",
        "- Multi-layer Perceptron "
      ],
      "metadata": {
        "id": "_-SAQ68-rJ80"
      }
    },
    {
      "cell_type": "code",
      "source": [
        "class MLP(nn.Module):\n",
        "  def __init__(self):\n",
        "    super(MLP,self).__init__()\n",
        "    self.layer1 = nn.Sequential(nn.Linear(784, 128),     # input : 1 x 28 x 28 = 784 -> output : 512\n",
        "                                 nn.ReLU())               # activation function은 relu를 사용\n",
        "    self.layer2 = nn.Sequential(nn.Linear(512, 512),     # input : 512 -> output : 512\n",
        "                                 nn.ReLU())\n",
        "    self.layer3 = nn.Sequential(nn.Linear(512, 512),     # input : 512 -> output : 512\n",
        "                                 nn.ReLU())\n",
        "    self.layer4 = nn.Linear(512, 10)                     # input : 512 -> output : 분류해야 할 총 class 수 = 10\n",
        "\n",
        "  def forward(self, x):\n",
        "    x = x.view(-1, 28 * 28)   # 2D 이미지 (batch, channel, height, width) -> 1D 배열 (batch, height x width) 로 flatten\n",
        "    x = self.layer1(x)\n",
        "    x = self.layer2(x)\n",
        "    x = self.layer3(x)\n",
        "    x = self.layer4(x)\n",
        "    return x\n",
        "\n",
        "model = MLP().to(device)    # GPU에서 연산 수행하기 위해 device로 보냄"
      ],
      "metadata": {
        "id": "s-kkj5T8qihB"
      },
      "execution_count": null,
      "outputs": []
    },
    {
      "cell_type": "code",
      "source": [
        "# 모델 구조 출력\n",
        "print(model)"
      ],
      "metadata": {
        "colab": {
          "base_uri": "https://localhost:8080/"
        },
        "id": "g_ihLL6txjhp",
        "outputId": "1e15f76c-46c8-4bd1-8a7b-af555819f4f2"
      },
      "execution_count": null,
      "outputs": [
        {
          "output_type": "stream",
          "name": "stdout",
          "text": [
            "MLP(\n",
            "  (layer1): Sequential(\n",
            "    (0): Linear(in_features=784, out_features=512, bias=True)\n",
            "    (1): ReLU()\n",
            "  )\n",
            "  (layer2): Sequential(\n",
            "    (0): Linear(in_features=512, out_features=512, bias=True)\n",
            "    (1): ReLU()\n",
            "  )\n",
            "  (layer3): Sequential(\n",
            "    (0): Linear(in_features=512, out_features=512, bias=True)\n",
            "    (1): ReLU()\n",
            "  )\n",
            "  (layer4): Linear(in_features=512, out_features=10, bias=True)\n",
            ")\n"
          ]
        }
      ]
    },
    {
      "cell_type": "markdown",
      "source": [
        "# **Train**\n",
        "- optimizer : 딥러닝 학습에 많이 사용되고 있는 Adam optimizer를 사용\n",
        "- [다양한 optimizer 종류 및 설명 link](https://velog.io/@yookyungkho/%EB%94%A5%EB%9F%AC%EB%8B%9D-%EC%98%B5%ED%8B%B0%EB%A7%88%EC%9D%B4%EC%A0%80-%EC%A0%95%EB%B3%B5%EA%B8%B0%EB%B6%80%EC%A0%9C-CS231n-Lecture7-Review)"
      ],
      "metadata": {
        "id": "4Z3qBgW1xQnX"
      }
    },
    {
      "cell_type": "code",
      "source": [
        "# cost function과 optimizer 정의\n",
        "criterion = nn.CrossEntropyLoss().to(device)\n",
        "optimizer = torch.optim.Adam(model.parameters(),lr = learning_rate)\n",
        "## optimizer = torch.optim.SGD(model.parameters(),lr=0.01)"
      ],
      "metadata": {
        "id": "VCJK37kwxUSj"
      },
      "execution_count": null,
      "outputs": []
    },
    {
      "cell_type": "code",
      "source": [
        "# 모델 학습\n",
        "model.train()\n",
        "loss_list = []\n",
        "\n",
        "for epoch in range(epochs):\n",
        "  avg_loss = 0.0\n",
        "  total_loss = 0.0\n",
        "  for iter, data in enumerate(train_loader):\n",
        "    optimizer.zero_grad()\n",
        "    images, labels = data\n",
        "    images = images.to(device)\n",
        "    labels = labels.to(device)\n",
        "\n",
        "    # 예측값 계산\n",
        "    output = model(images)\n",
        "\n",
        "    # Loss 계산\n",
        "    loss = criterion(output,labels)\n",
        "\n",
        "    # Backpropagation : 학습 가능한 매개변수에 대해 Loss의 변화도 계산\n",
        "    loss.backward()\n",
        "\n",
        "    # Weight 갱신\n",
        "    optimizer.step()\n",
        "\n",
        "    avg_loss += loss.item()\n",
        "    total_loss += loss.item()\n",
        "\n",
        "    # Iteration 100번째 마다 loss 출력하여 확인\n",
        "    if (iter+1) % 100 == 0:\n",
        "      print('Train Epoch: {} [{}/{}]\\tLoss: {:.5f}'.format(\n",
        "      epoch, iter+1, len(train_loader), avg_loss/100.))\n",
        "      avg_loss = 0.0\n",
        "  loss_list.append(total_loss/(iter+1))  \n",
        "print('\\nLearning finished!')"
      ],
      "metadata": {
        "colab": {
          "base_uri": "https://localhost:8080/"
        },
        "id": "GrXGO2SLx8gL",
        "outputId": "f92cad75-253d-41cf-9045-34a268e9fd78"
      },
      "execution_count": null,
      "outputs": [
        {
          "output_type": "stream",
          "name": "stdout",
          "text": [
            "Train Epoch: 0 [100/469]\tLoss: 0.66953\n",
            "Train Epoch: 0 [200/469]\tLoss: 0.30023\n",
            "Train Epoch: 0 [300/469]\tLoss: 0.22437\n",
            "Train Epoch: 0 [400/469]\tLoss: 0.18067\n",
            "Train Epoch: 1 [100/469]\tLoss: 0.16510\n",
            "Train Epoch: 1 [200/469]\tLoss: 0.14838\n",
            "Train Epoch: 1 [300/469]\tLoss: 0.14693\n",
            "Train Epoch: 1 [400/469]\tLoss: 0.12456\n",
            "Train Epoch: 2 [100/469]\tLoss: 0.10427\n",
            "Train Epoch: 2 [200/469]\tLoss: 0.10547\n",
            "Train Epoch: 2 [300/469]\tLoss: 0.10440\n",
            "Train Epoch: 2 [400/469]\tLoss: 0.09953\n",
            "Train Epoch: 3 [100/469]\tLoss: 0.08909\n",
            "Train Epoch: 3 [200/469]\tLoss: 0.09223\n",
            "Train Epoch: 3 [300/469]\tLoss: 0.08211\n",
            "Train Epoch: 3 [400/469]\tLoss: 0.08260\n",
            "Train Epoch: 4 [100/469]\tLoss: 0.05940\n",
            "Train Epoch: 4 [200/469]\tLoss: 0.07248\n",
            "Train Epoch: 4 [300/469]\tLoss: 0.08253\n",
            "Train Epoch: 4 [400/469]\tLoss: 0.06923\n",
            "Train Epoch: 5 [100/469]\tLoss: 0.07467\n",
            "Train Epoch: 5 [200/469]\tLoss: 0.06052\n",
            "Train Epoch: 5 [300/469]\tLoss: 0.06406\n",
            "Train Epoch: 5 [400/469]\tLoss: 0.05996\n",
            "Train Epoch: 6 [100/469]\tLoss: 0.05464\n",
            "Train Epoch: 6 [200/469]\tLoss: 0.05062\n",
            "Train Epoch: 6 [300/469]\tLoss: 0.06967\n",
            "Train Epoch: 6 [400/469]\tLoss: 0.05847\n",
            "Train Epoch: 7 [100/469]\tLoss: 0.03722\n",
            "Train Epoch: 7 [200/469]\tLoss: 0.04220\n",
            "Train Epoch: 7 [300/469]\tLoss: 0.05267\n",
            "Train Epoch: 7 [400/469]\tLoss: 0.04585\n",
            "Train Epoch: 8 [100/469]\tLoss: 0.04458\n",
            "Train Epoch: 8 [200/469]\tLoss: 0.04316\n",
            "Train Epoch: 8 [300/469]\tLoss: 0.04876\n",
            "Train Epoch: 8 [400/469]\tLoss: 0.04255\n",
            "Train Epoch: 9 [100/469]\tLoss: 0.03695\n",
            "Train Epoch: 9 [200/469]\tLoss: 0.04856\n",
            "Train Epoch: 9 [300/469]\tLoss: 0.03641\n",
            "Train Epoch: 9 [400/469]\tLoss: 0.04167\n",
            "Train Epoch: 10 [100/469]\tLoss: 0.03209\n",
            "Train Epoch: 10 [200/469]\tLoss: 0.03750\n",
            "Train Epoch: 10 [300/469]\tLoss: 0.03987\n",
            "Train Epoch: 10 [400/469]\tLoss: 0.03865\n",
            "Train Epoch: 11 [100/469]\tLoss: 0.03005\n",
            "Train Epoch: 11 [200/469]\tLoss: 0.03501\n",
            "Train Epoch: 11 [300/469]\tLoss: 0.03147\n",
            "Train Epoch: 11 [400/469]\tLoss: 0.03384\n",
            "Train Epoch: 12 [100/469]\tLoss: 0.02348\n",
            "Train Epoch: 12 [200/469]\tLoss: 0.03120\n",
            "Train Epoch: 12 [300/469]\tLoss: 0.02909\n",
            "Train Epoch: 12 [400/469]\tLoss: 0.04248\n",
            "Train Epoch: 13 [100/469]\tLoss: 0.02667\n",
            "Train Epoch: 13 [200/469]\tLoss: 0.02969\n",
            "Train Epoch: 13 [300/469]\tLoss: 0.03938\n",
            "Train Epoch: 13 [400/469]\tLoss: 0.03919\n",
            "Train Epoch: 14 [100/469]\tLoss: 0.03078\n",
            "Train Epoch: 14 [200/469]\tLoss: 0.02205\n",
            "Train Epoch: 14 [300/469]\tLoss: 0.03051\n",
            "Train Epoch: 14 [400/469]\tLoss: 0.02769\n",
            "\n",
            "Learning finished!\n"
          ]
        }
      ]
    },
    {
      "cell_type": "code",
      "source": [
        "# Loss graph\n",
        "plt.plot(range(1,epochs+1), loss_list)\n",
        "plt.xlabel('Epoch')\n",
        "plt.ylabel('Loss')\n",
        "plt.title('Train Loss Graph')\n",
        "plt.show()"
      ],
      "metadata": {
        "colab": {
          "base_uri": "https://localhost:8080/",
          "height": 295
        },
        "id": "eSaaAl28hUzr",
        "outputId": "bb081503-aac2-4483-e167-2bacc6454e71"
      },
      "execution_count": null,
      "outputs": [
        {
          "output_type": "display_data",
          "data": {
            "image/png": "[encoded data removed]",
            "text/plain": [
              "<Figure size 432x288 with 1 Axes>"
            ]
          },
          "metadata": {
            "needs_background": "light"
          }
        }
      ]
    },
    {
      "cell_type": "markdown",
      "source": [
        "# **Test**"
      ],
      "metadata": {
        "id": "L5R7_EPK1oFB"
      }
    },
    {
      "cell_type": "code",
      "source": [
        "# 모델 성능 확인\n",
        "with torch.no_grad(): # torch.no_grad(): gradient 계산을 수행하지 않음\n",
        "  model.eval()\n",
        "  accuracy = 0.0\n",
        "\n",
        "  for iter, data in enumerate(test_loader):\n",
        "    images, labels = data\n",
        "    images = images.to(device)\n",
        "    labels = labels.to(device)\n",
        "    output = model(images)\n",
        "\n",
        "    # 모델이 예측한 값과 실제 레이블인 labels를 비교\n",
        "    # argmax 함수를 이용해 예측한 값 중 가장 확률이 높은 값을 예측 값으로 사용 (예) [0.1,0.05,0.7,0,0,0.15] -> 2\n",
        "    pred = torch.argmax(output,1) == labels\n",
        "    accuracy += pred.float().sum()\n",
        "    \n",
        "  print(\"Accuracy : {:.2f}%\".format(100*accuracy/len(test_dataset)))\n",
        "\n",
        "  # 테스트 데이터에서 무작위로 하나를 뽑아서 예측\n",
        "  r = random.randint(0, len(test_dataset) - 1)\n",
        "  X_single_data = test_dataset.data[r:r + 1].view(1, 1, 28, 28).float().to(device) # 변수명 change\n",
        "  Y_single_data = test_dataset.targets[r:r + 1].to(device)\n",
        "\n",
        "  print('Label: ', Y_single_data.item())\n",
        "  single_prediction = model(X_single_data)\n",
        "  print('Prediction: ', torch.argmax(single_prediction, 1).item())\n",
        "\n",
        "  plt.imshow(test_dataset.data[r:r + 1].view(28, 28), cmap='gray')\n",
        "  plt.show()"
      ],
      "metadata": {
        "colab": {
          "base_uri": "https://localhost:8080/",
          "height": 319
        },
        "id": "bxq1NJbU1nob",
        "outputId": "dcf45de7-9370-4ac9-9a1f-df5bb30e9e21"
      },
      "execution_count": null,
      "outputs": [
        {
          "output_type": "stream",
          "name": "stdout",
          "text": [
            "Accuracy : 97.93%\n",
            "Label:  0\n",
            "Prediction:  0\n"
          ]
        },
        {
          "output_type": "display_data",
          "data": {
            "image/png": "[encoded data removed]",
            "text/plain": [
              "<Figure size 432x288 with 1 Axes>"
            ]
          },
          "metadata": {
            "needs_background": "light"
          }
        }
      ]
    },
    {
      "cell_type": "markdown",
      "source": [
        "# **모델 저장**"
      ],
      "metadata": {
        "id": "caewnJIVBTgO"
      }
    },
    {
      "cell_type": "code",
      "source": [
        "# 모델의 weight만 저장\n",
        "torch.save(model.state_dict(),'mlp_weight.pth')"
      ],
      "metadata": {
        "id": "eoNS3aQpBXbE"
      },
      "execution_count": null,
      "outputs": []
    },
    {
      "cell_type": "code",
      "source": [
        "# 모델 통째로 저장\n",
        "torch.save(model,'mlp.pth')"
      ],
      "metadata": {
        "id": "5rrjJlpMDOVJ"
      },
      "execution_count": null,
      "outputs": []
    },
    {
      "cell_type": "markdown",
      "source": [
        "# **저장된 모델 불러오기**"
      ],
      "metadata": {
        "id": "8kVlNFN4Biel"
      }
    },
    {
      "cell_type": "code",
      "source": [
        "# 모델의 weight만 불러오기\n",
        "checkpoint = torch.load('mlp_weight.pth', map_location = device)\n",
        "model.load_state_dict(checkpoint)\n",
        "model.eval()"
      ],
      "metadata": {
        "id": "hJ2agOwtBmBs",
        "colab": {
          "base_uri": "https://localhost:8080/"
        },
        "outputId": "0f8e2465-17e1-4835-f2b0-6dccd28138cf"
      },
      "execution_count": null,
      "outputs": [
        {
          "output_type": "execute_result",
          "data": {
            "text/plain": [
              "MLP(\n",
              "  (layer1): Sequential(\n",
              "    (0): Linear(in_features=784, out_features=512, bias=True)\n",
              "    (1): ReLU()\n",
              "  )\n",
              "  (layer2): Sequential(\n",
              "    (0): Linear(in_features=512, out_features=512, bias=True)\n",
              "    (1): ReLU()\n",
              "  )\n",
              "  (layer3): Sequential(\n",
              "    (0): Linear(in_features=512, out_features=512, bias=True)\n",
              "    (1): ReLU()\n",
              "  )\n",
              "  (layer4): Linear(in_features=512, out_features=10, bias=True)\n",
              ")"
            ]
          },
          "metadata": {},
          "execution_count": 22
        }
      ]
    },
    {
      "cell_type": "code",
      "source": [
        "# 모델 통째로 불러오기\n",
        "model = torch.load('mlp.pth', map_location = device)\n",
        "model.eval()"
      ],
      "metadata": {
        "id": "jro-DJ3gDoWy",
        "colab": {
          "base_uri": "https://localhost:8080/"
        },
        "outputId": "43e53d06-e6af-4151-b214-cd04e64279d9"
      },
      "execution_count": null,
      "outputs": [
        {
          "output_type": "execute_result",
          "data": {
            "text/plain": [
              "MLP(\n",
              "  (layer1): Sequential(\n",
              "    (0): Linear(in_features=784, out_features=512, bias=True)\n",
              "    (1): ReLU()\n",
              "  )\n",
              "  (layer2): Sequential(\n",
              "    (0): Linear(in_features=512, out_features=512, bias=True)\n",
              "    (1): ReLU()\n",
              "  )\n",
              "  (layer3): Sequential(\n",
              "    (0): Linear(in_features=512, out_features=512, bias=True)\n",
              "    (1): ReLU()\n",
              "  )\n",
              "  (layer4): Linear(in_features=512, out_features=10, bias=True)\n",
              ")"
            ]
          },
          "metadata": {},
          "execution_count": 23
        }
      ]
    }
  ]
}
